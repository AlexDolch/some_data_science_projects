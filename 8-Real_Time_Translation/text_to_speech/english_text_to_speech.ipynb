{
 "cells": [
  {
   "attachments": {},
   "cell_type": "markdown",
   "metadata": {},
   "source": [
    "## *Explorative Notebook: possibilities to transform text into speech.* "
   ]
  },
  {
   "attachments": {},
   "cell_type": "markdown",
   "metadata": {},
   "source": [
    "### 1. List of information\n",
    "\n",
    "https://huggingface.co/microsoft/speecht5_tts  \n",
    "https://huggingface.co/models?search=speecht5  "
   ]
  },
  {
   "cell_type": "code",
   "execution_count": null,
   "metadata": {},
   "outputs": [],
   "source": [
    "import pyttsx3\n"
   ]
  },
  {
   "cell_type": "code",
   "execution_count": null,
   "metadata": {},
   "outputs": [],
   "source": [
    "test = \"Thank you Hana for teaching me that stuff, it is really amazing. I am so happy to be able to use it.\"\n",
    "engine = pyttsx3.init()\n",
    "engine.say(test)\n",
    "engine.runAndWait()"
   ]
  },
  {
   "cell_type": "code",
   "execution_count": null,
   "metadata": {},
   "outputs": [],
   "source": [
    "voices = engine.getProperty('voices')\n",
    "voices()"
   ]
  },
  {
   "attachments": {},
   "cell_type": "markdown",
   "metadata": {},
   "source": [
    "From documentation:\n",
    "\n",
    "engine = pyttsx3.init() # object creation\n",
    "\n",
    "\"\"\" RATE\"\"\"\n",
    "rate = engine.getProperty('rate')   # getting details of current speaking rate\n",
    "print (rate)                        #printing current voice rate\n",
    "engine.setProperty('rate', 125)     # setting up new voice rate\n",
    "\n",
    "\"\"\"VOLUME\"\"\"\n",
    "volume = engine.getProperty('volume')   #getting to know current volume level (min=0 and max=1)\n",
    "print (volume)                          #printing current volume level\n",
    "engine.setProperty('volume',1.0)    # setting up volume level  between 0 and 1\n",
    "\n",
    "\"\"\"VOICE\"\"\"\n",
    "voices = engine.getProperty('voices')       #getting details of current voice\n",
    "#engine.setProperty('voice', voices[0].id)  #changing index, changes voices. o for male\n",
    "engine.setProperty('voice', voices[1].id)   #changing index, changes voices. 1 for female\n",
    "\n",
    "engine.say(\"Hello World!\")\n",
    "engine.say('My current speaking rate is ' + str(rate))\n",
    "engine.runAndWait()\n",
    "engine.stop()\n",
    "\n",
    "\"\"\"Saving Voice to a file\"\"\"\n",
    "# On linux make sure that 'espeak' and 'ffmpeg' are installed\n",
    "engine.save_to_file('Hello World', 'test.mp3')\n",
    "engine.runAndWait()"
   ]
  }
 ],
 "metadata": {
  "kernelspec": {
   "display_name": "main_venv",
   "language": "python",
   "name": "python3"
  },
  "language_info": {
   "codemirror_mode": {
    "name": "ipython",
    "version": 3
   },
   "file_extension": ".py",
   "mimetype": "text/x-python",
   "name": "python",
   "nbconvert_exporter": "python",
   "pygments_lexer": "ipython3",
   "version": "3.10.6"
  },
  "orig_nbformat": 4,
  "vscode": {
   "interpreter": {
    "hash": "755c4afb800e2736e1c32b80e9133e6285c2b4a0d42641b93ad84761d09cdafc"
   }
  }
 },
 "nbformat": 4,
 "nbformat_minor": 2
}
