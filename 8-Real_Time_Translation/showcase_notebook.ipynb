{
 "cells": [
  {
   "cell_type": "code",
   "execution_count": null,
   "metadata": {},
   "outputs": [],
   "source": [
    "# would advice u to use a virtual environment\n",
    "# pip install vosk # Speech to Text\n",
    "# pip install pyaudio # Audio Setup for mic input\n",
    "# pip install googletrans # Translation (API for now)\n",
    "# pip install pprint # just for the text ouput, not really mandatory\n",
    "# pip install pyttsx3 # Text to Speech; working with Sapi5 Voices (Windows)\n",
    "# pip install json"
   ]
  },
  {
   "cell_type": "code",
   "execution_count": null,
   "metadata": {},
   "outputs": [],
   "source": [
    "import vosk\n",
    "import pyaudio\n",
    "import googletrans\n",
    "import pprint\n",
    "import pyttsx3\n",
    "import json"
   ]
  },
  {
   "cell_type": "code",
   "execution_count": null,
   "metadata": {},
   "outputs": [],
   "source": [
    "# Load German language model - https://alphacephei.com/vosk/models \"vosk-model-de-0.21\" for accurate model, \"vosk-model-small-de-0.15\" for fast model\n",
    "model = vosk.Model(r\"C:/Users/AlexD/Desktop/final_project/models/stt/vosk-model-de-0.21\")\n",
    "# if model fails to create it is most likely ur PC being to weak! for showcasing use small model then."
   ]
  },
  {
   "cell_type": "code",
   "execution_count": null,
   "metadata": {},
   "outputs": [],
   "source": [
    "# Set up microphone input and stream\n",
    "p = pyaudio.PyAudio()\n",
    "stream = p.open(format=pyaudio.paInt16, channels=1, rate=16000, input=True, input_device_index=1, frames_per_buffer=12000)\n",
    "\n",
    "# Create a Vosk recognizer\n",
    "recognizer = vosk.KaldiRecognizer(model, 16000)\n",
    "\n",
    "# Set up text-to-speech engine\n",
    "engine = pyttsx3.init()\n",
    "voices = engine.getProperty('voices')\n",
    "# U have to test it and maybe change from 0-2; had to change my registry to get it working with a male english voice\n",
    "engine.setProperty('voice', voices[3].id)\n",
    "\n",
    "# Translate function using googletrans\n",
    "translator = googletrans.Translator()"
   ]
  },
  {
   "cell_type": "code",
   "execution_count": null,
   "metadata": {},
   "outputs": [],
   "source": [
    "# Just for showcasing:\n",
    "while True:\n",
    "    data = stream.read(16000)\n",
    "    if len(data) == 0:\n",
    "        break\n",
    "    if recognizer.AcceptWaveform(data):\n",
    "        result = recognizer.Result()\n",
    "        result_dict = json.loads(result)\n",
    "        german_text = result_dict[\"text\"]\n",
    "        print(f\"German: {german_text}\")\n",
    "        english_text = translator.translate(german_text, dest='en').text\n",
    "        print(f\"English: {english_text}\")\n",
    "        engine.say(english_text)\n",
    "        engine.runAndWait()\n"
   ]
  }
 ],
 "metadata": {
  "kernelspec": {
   "display_name": "main_venv",
   "language": "python",
   "name": "python3"
  },
  "language_info": {
   "codemirror_mode": {
    "name": "ipython",
    "version": 3
   },
   "file_extension": ".py",
   "mimetype": "text/x-python",
   "name": "python",
   "nbconvert_exporter": "python",
   "pygments_lexer": "ipython3",
   "version": "3.10.6"
  },
  "orig_nbformat": 4,
  "vscode": {
   "interpreter": {
    "hash": "755c4afb800e2736e1c32b80e9133e6285c2b4a0d42641b93ad84761d09cdafc"
   }
  }
 },
 "nbformat": 4,
 "nbformat_minor": 2
}
