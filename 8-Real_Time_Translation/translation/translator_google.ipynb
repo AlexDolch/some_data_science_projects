{
 "cells": [
  {
   "cell_type": "code",
   "execution_count": 1,
   "metadata": {},
   "outputs": [],
   "source": [
    "from googletrans import Translator, constants\n",
    "from pprint import pprint"
   ]
  },
  {
   "cell_type": "code",
   "execution_count": 2,
   "metadata": {},
   "outputs": [],
   "source": [
    "# init the Google API translator\n",
    "translator = Translator()"
   ]
  },
  {
   "cell_type": "code",
   "execution_count": 3,
   "metadata": {},
   "outputs": [
    {
     "name": "stdout",
     "output_type": "stream",
     "text": [
      "Wie weit geht die Fähigkeit zur Übersetzung den ersten satz fand ich schonmal sehr krass aber wie ist das wenn ich ohne punkt und komma schreibe und vor allem natürliche sprache nachzuahmen (de) --> How far does the ability to translate go? I found the first sentence very crass, but what is it like when I write without periods and commas and, above all, imitate natural language (en)\n"
     ]
    }
   ],
   "source": [
    "test = \"Wie weit geht die Fähigkeit zur Übersetzung den ersten satz fand ich schonmal sehr krass aber wie ist das wenn ich ohne punkt und komma schreibe und vor allem natürliche sprache nachzuahmen\"\n",
    "translation = translator.translate(test)\n",
    "print(f\"{translation.origin} ({translation.src}) --> {translation.text} ({translation.dest})\")"
   ]
  }
 ],
 "metadata": {
  "kernelspec": {
   "display_name": "main_venv",
   "language": "python",
   "name": "python3"
  },
  "language_info": {
   "codemirror_mode": {
    "name": "ipython",
    "version": 3
   },
   "file_extension": ".py",
   "mimetype": "text/x-python",
   "name": "python",
   "nbconvert_exporter": "python",
   "pygments_lexer": "ipython3",
   "version": "3.10.6"
  },
  "orig_nbformat": 4,
  "vscode": {
   "interpreter": {
    "hash": "755c4afb800e2736e1c32b80e9133e6285c2b4a0d42641b93ad84761d09cdafc"
   }
  }
 },
 "nbformat": 4,
 "nbformat_minor": 2
}
