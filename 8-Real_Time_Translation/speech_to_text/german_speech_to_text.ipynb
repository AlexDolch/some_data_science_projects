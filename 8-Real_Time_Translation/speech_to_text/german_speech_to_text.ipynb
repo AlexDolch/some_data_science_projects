{
 "cells": [
  {
   "attachments": {},
   "cell_type": "markdown",
   "metadata": {},
   "source": [
    "## *Explorative Notebook: possibilities to transform speech into text.* "
   ]
  },
  {
   "attachments": {},
   "cell_type": "markdown",
   "metadata": {},
   "source": [
    "## 1. List of information\n",
    "https://alphacephei.com/vosk/integrations  \n",
    "https://www.youtube.com/watch?v=Itic1lFc4Gg&ab_channel=yingshaoxo%27slab  \n",
    "\n"
   ]
  },
  {
   "cell_type": "code",
   "execution_count": 1,
   "metadata": {},
   "outputs": [],
   "source": [
    "import vosk as vk\n",
    "import pyaudio"
   ]
  },
  {
   "cell_type": "code",
   "execution_count": null,
   "metadata": {},
   "outputs": [],
   "source": [
    "# model = vk.Model(r\"C:\\Users\\AlexD\\Desktop\\final_project\\models\\stt\\vosk-model-small-de-0.15\")"
   ]
  },
  {
   "cell_type": "code",
   "execution_count": 5,
   "metadata": {},
   "outputs": [],
   "source": [
    "large_model = vk.Model(r\"C:\\Users\\AlexD\\Desktop\\final_project\\models\\stt\\vosk-model-de-0.21\")"
   ]
  },
  {
   "cell_type": "code",
   "execution_count": 2,
   "metadata": {},
   "outputs": [
    {
     "ename": "Exception",
     "evalue": "Failed to create a model",
     "output_type": "error",
     "traceback": [
      "\u001b[1;31m---------------------------------------------------------------------------\u001b[0m",
      "\u001b[1;31mException\u001b[0m                                 Traceback (most recent call last)",
      "Cell \u001b[1;32mIn[2], line 1\u001b[0m\n\u001b[1;32m----> 1\u001b[0m largest_model \u001b[39m=\u001b[39m vk\u001b[39m.\u001b[39;49mModel(\u001b[39mr\u001b[39;49m\u001b[39m\"\u001b[39;49m\u001b[39mC:\u001b[39;49m\u001b[39m\\\u001b[39;49m\u001b[39mUsers\u001b[39;49m\u001b[39m\\\u001b[39;49m\u001b[39mAlexD\u001b[39;49m\u001b[39m\\\u001b[39;49m\u001b[39mDesktop\u001b[39;49m\u001b[39m\\\u001b[39;49m\u001b[39mfinal_project\u001b[39;49m\u001b[39m\\\u001b[39;49m\u001b[39mmodels\u001b[39;49m\u001b[39m\\\u001b[39;49m\u001b[39mstt\u001b[39;49m\u001b[39m\\\u001b[39;49m\u001b[39mvosk-model-de-tuda-0.6-900k\u001b[39;49m\u001b[39m\"\u001b[39;49m) \u001b[39m# doesnt work\u001b[39;00m\n",
      "File \u001b[1;32mc:\\Users\\AlexD\\Desktop\\final_project\\main_venv\\lib\\site-packages\\vosk\\__init__.py:57\u001b[0m, in \u001b[0;36mModel.__init__\u001b[1;34m(self, model_path, model_name, lang)\u001b[0m\n\u001b[0;32m     55\u001b[0m     \u001b[39mself\u001b[39m\u001b[39m.\u001b[39m_handle \u001b[39m=\u001b[39m _c\u001b[39m.\u001b[39mvosk_model_new(model_path\u001b[39m.\u001b[39mencode(\u001b[39m\"\u001b[39m\u001b[39mutf-8\u001b[39m\u001b[39m\"\u001b[39m))\n\u001b[0;32m     56\u001b[0m \u001b[39mif\u001b[39;00m \u001b[39mself\u001b[39m\u001b[39m.\u001b[39m_handle \u001b[39m==\u001b[39m _ffi\u001b[39m.\u001b[39mNULL:\n\u001b[1;32m---> 57\u001b[0m     \u001b[39mraise\u001b[39;00m \u001b[39mException\u001b[39;00m(\u001b[39m\"\u001b[39m\u001b[39mFailed to create a model\u001b[39m\u001b[39m\"\u001b[39m)\n",
      "\u001b[1;31mException\u001b[0m: Failed to create a model"
     ]
    }
   ],
   "source": [
    "# largest_model = vk.Model(r\"C:\\Users\\AlexD\\Desktop\\final_project\\models\\stt\\vosk-model-de-tuda-0.6-900k\") # doesnt work"
   ]
  },
  {
   "cell_type": "code",
   "execution_count": 3,
   "metadata": {},
   "outputs": [],
   "source": [
    "rec = vk.KaldiRecognizer(large_model, 16000)"
   ]
  },
  {
   "cell_type": "code",
   "execution_count": 4,
   "metadata": {},
   "outputs": [],
   "source": [
    "p = pyaudio.PyAudio()\n",
    "stream = p.open(format=pyaudio.paInt16, channels=1, rate=16000, input=True, frames_per_buffer=4000)"
   ]
  },
  {
   "cell_type": "code",
   "execution_count": 5,
   "metadata": {},
   "outputs": [],
   "source": [
    "data = stream.read(4000)"
   ]
  },
  {
   "cell_type": "code",
   "execution_count": 6,
   "metadata": {},
   "outputs": [
    {
     "name": "stdout",
     "output_type": "stream",
     "text": [
      "{\n",
      "  \"text\" : \"test eins zwei drei test zwei vier fünf ich möchte jetzt einen schönen output obwohl alles um mich herum super laut es hätte ich gerne jetzt was cooles gelesen kanos es mit der karla am sprechen wenn ich das richtig\"\n",
      "}\n"
     ]
    },
    {
     "ename": "KeyboardInterrupt",
     "evalue": "",
     "output_type": "error",
     "traceback": [
      "\u001b[1;31m---------------------------------------------------------------------------\u001b[0m",
      "\u001b[1;31mKeyboardInterrupt\u001b[0m                         Traceback (most recent call last)",
      "Cell \u001b[1;32mIn[6], line 5\u001b[0m\n\u001b[0;32m      3\u001b[0m \u001b[39mif\u001b[39;00m \u001b[39mlen\u001b[39m(data) \u001b[39m==\u001b[39m \u001b[39m0\u001b[39m:     \u001b[39m# need to change that for actually breaking the shit after some time\u001b[39;00m\n\u001b[0;32m      4\u001b[0m     \u001b[39mbreak\u001b[39;00m\n\u001b[1;32m----> 5\u001b[0m \u001b[39mif\u001b[39;00m rec\u001b[39m.\u001b[39;49mAcceptWaveform(data):\n\u001b[0;32m      6\u001b[0m     result \u001b[39m=\u001b[39m rec\u001b[39m.\u001b[39mResult()\n\u001b[0;32m      7\u001b[0m     \u001b[39mprint\u001b[39m(result)\n",
      "File \u001b[1;32mc:\\Users\\AlexD\\Desktop\\final_project\\main_venv\\lib\\site-packages\\vosk\\__init__.py:182\u001b[0m, in \u001b[0;36mKaldiRecognizer.AcceptWaveform\u001b[1;34m(self, data)\u001b[0m\n\u001b[0;32m    181\u001b[0m \u001b[39mdef\u001b[39;00m \u001b[39mAcceptWaveform\u001b[39m(\u001b[39mself\u001b[39m, data):\n\u001b[1;32m--> 182\u001b[0m     res \u001b[39m=\u001b[39m _c\u001b[39m.\u001b[39;49mvosk_recognizer_accept_waveform(\u001b[39mself\u001b[39;49m\u001b[39m.\u001b[39;49m_handle, data, \u001b[39mlen\u001b[39;49m(data))\n\u001b[0;32m    183\u001b[0m     \u001b[39mif\u001b[39;00m res \u001b[39m<\u001b[39m \u001b[39m0\u001b[39m:\n\u001b[0;32m    184\u001b[0m         \u001b[39mraise\u001b[39;00m \u001b[39mException\u001b[39;00m(\u001b[39m\"\u001b[39m\u001b[39mFailed to process waveform\u001b[39m\u001b[39m\"\u001b[39m)\n",
      "\u001b[1;31mKeyboardInterrupt\u001b[0m: "
     ]
    }
   ],
   "source": [
    "while True:\n",
    "    data = stream.read(4000)\n",
    "    if len(data) == 0:     # need to change that for actually breaking the shit after some time\n",
    "        break\n",
    "    if rec.AcceptWaveform(data):\n",
    "        result = rec.Result()\n",
    "        print(result)"
   ]
  },
  {
   "cell_type": "code",
   "execution_count": 7,
   "metadata": {},
   "outputs": [
    {
     "name": "stdout",
     "output_type": "stream",
     "text": [
      "{\n",
      "  \"text\" : \"ich sehe die lalala jawoll es funktioniert\"\n",
      "}\n"
     ]
    }
   ],
   "source": [
    "final_result = rec.FinalResult()\n",
    "print(final_result)"
   ]
  }
 ],
 "metadata": {
  "kernelspec": {
   "display_name": "main_venv",
   "language": "python",
   "name": "python3"
  },
  "language_info": {
   "codemirror_mode": {
    "name": "ipython",
    "version": 3
   },
   "file_extension": ".py",
   "mimetype": "text/x-python",
   "name": "python",
   "nbconvert_exporter": "python",
   "pygments_lexer": "ipython3",
   "version": "3.10.6"
  },
  "orig_nbformat": 4,
  "vscode": {
   "interpreter": {
    "hash": "755c4afb800e2736e1c32b80e9133e6285c2b4a0d42641b93ad84761d09cdafc"
   }
  }
 },
 "nbformat": 4,
 "nbformat_minor": 2
}
