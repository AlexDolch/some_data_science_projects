{
 "cells": [
  {
   "cell_type": "code",
   "execution_count": 1,
   "metadata": {},
   "outputs": [
    {
     "name": "stdout",
     "output_type": "stream",
     "text": [
      "Input Device id  0  -  Microsoft Sound Mapper - Input\n",
      "Input Device id  1  -  Mikrofon (2- USB Audio Device)\n",
      "Input Device id  2  -  Microphone (Realtek(R) Audio)\n",
      "Output Device id  3  -  Microsoft Sound Mapper - Output\n",
      "Output Device id  4  -  Lautsprecher (2- USB Audio Devi\n",
      "Output Device id  5  -  Speakers (Realtek(R) Audio)\n"
     ]
    }
   ],
   "source": [
    "import pyaudio\n",
    "\n",
    "audio = pyaudio.PyAudio()\n",
    "\n",
    "info = audio.get_host_api_info_by_index(0)\n",
    "numdevices = info.get('deviceCount')\n",
    "\n",
    "for i in range(numdevices):\n",
    "        if audio.get_device_info_by_host_api_device_index(0, i).get('maxInputChannels') > 0:\n",
    "                print(\"Input Device id \", i, \" - \", audio.get_device_info_by_host_api_device_index(0, i).get('name'))\n",
    "        if audio.get_device_info_by_host_api_device_index(0, i).get('maxOutputChannels') > 0:\n",
    "                print(\"Output Device id \", i, \" - \", audio.get_device_info_by_host_api_device_index(0, i).get('name'))"
   ]
  }
 ],
 "metadata": {
  "kernelspec": {
   "display_name": "main_venv",
   "language": "python",
   "name": "python3"
  },
  "language_info": {
   "codemirror_mode": {
    "name": "ipython",
    "version": 3
   },
   "file_extension": ".py",
   "mimetype": "text/x-python",
   "name": "python",
   "nbconvert_exporter": "python",
   "pygments_lexer": "ipython3",
   "version": "3.10.6"
  },
  "orig_nbformat": 4,
  "vscode": {
   "interpreter": {
    "hash": "755c4afb800e2736e1c32b80e9133e6285c2b4a0d42641b93ad84761d09cdafc"
   }
  }
 },
 "nbformat": 4,
 "nbformat_minor": 2
}
