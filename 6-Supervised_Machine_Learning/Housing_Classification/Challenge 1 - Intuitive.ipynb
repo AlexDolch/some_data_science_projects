{
 "cells": [
  {
   "cell_type": "code",
   "execution_count": null,
   "metadata": {},
   "outputs": [],
   "source": [
    "import numpy as np\n",
    "import pandas as pd\n",
    "import matplotlib.pyplot as plt\n",
    "\n",
    "# from sklearn:\n",
    "from sklearn.model_selection import train_test_split\n",
    "from sklearn.impute import SimpleImputer #should use KNNImputer??!\n",
    "from sklearn.impute import KNNImputer\n",
    "from sklearn.tree import DecisionTreeClassifier #plant forests, not trees?!\n",
    "from sklearn.ensemble import RandomForestClassifier\n",
    "from sklearn.metrics import accuracy_score\n",
    "from sklearn.pipeline import make_pipeline\n",
    "from sklearn.preprocessing import OneHotEncoder #should use Ordinal??!\n",
    "from sklearn.preprocessing import OrdinalEncoder\n",
    "from sklearn.preprocessing import StandardScaler #should use Quantile??!\n",
    "from sklearn.preprocessing import QuantileTransformer\n",
    "from sklearn.model_selection import GridSearchCV\n",
    "from sklearn.neighbors import KNeighborsRegressor #check documentation??!\n",
    "from sklearn.compose import make_column_transformer\n",
    "from sklearn.compose import make_column_selector"
   ]
  },
  {
   "cell_type": "code",
   "execution_count": null,
   "metadata": {},
   "outputs": [],
   "source": [
    "housing_classification = pd.read_csv(r'housing-classification.csv')"
   ]
  },
  {
   "cell_type": "code",
   "execution_count": null,
   "metadata": {},
   "outputs": [],
   "source": [
    "#To reduce repetitive code, an \"overview\" function to investigate DataFrames.\n",
    "def overview(df):\n",
    "\n",
    "    # General Information.\n",
    "    print(\"General Information:\")\n",
    "    display(df.info())\n",
    "\n",
    "    # Basic description.\n",
    "    print(\"Basic statistical description:\")\n",
    "    display(df.describe())\n",
    "\n",
    "    # Unique Values for each column.\n",
    "    print(\"Uniques per column:\")\n",
    "    display(df.nunique())\n",
    "\n",
    "    # How many duplicates.\n",
    "    print(\"Sum of duplicates:\")\n",
    "    display(df.duplicated().sum())\n",
    "\n",
    "    # And how many missing values.\n",
    "    print(\"Sum of missing data per column:\")\n",
    "    display(df.isna().sum())\n",
    "    \n",
    "    # A few samples of the DataFrame.\n",
    "    print(\"Sample:\")\n",
    "    display(df.sample(10))"
   ]
  },
  {
   "cell_type": "code",
   "execution_count": null,
   "metadata": {},
   "outputs": [],
   "source": [
    "# overview(housing_classification)"
   ]
  },
  {
   "cell_type": "code",
   "execution_count": null,
   "metadata": {},
   "outputs": [],
   "source": [
    "housing_classification.set_index('Id', inplace=True)"
   ]
  },
  {
   "cell_type": "code",
   "execution_count": null,
   "metadata": {},
   "outputs": [],
   "source": [
    "housing_classification.drop(housing_classification.select_dtypes(['object']).columns, axis=1, inplace=True)"
   ]
  },
  {
   "cell_type": "code",
   "execution_count": null,
   "metadata": {},
   "outputs": [],
   "source": [
    "# overview(housing_classification)"
   ]
  },
  {
   "cell_type": "code",
   "execution_count": null,
   "metadata": {},
   "outputs": [],
   "source": [
    "expensive_houses = housing_classification.pop('Expensive') "
   ]
  },
  {
   "cell_type": "code",
   "execution_count": null,
   "metadata": {},
   "outputs": [],
   "source": [
    "X = housing_classification.copy()\n",
    "y = expensive_houses.copy()\n",
    "X_train, X_test, y_train, y_test = train_test_split(X, y, test_size=0.2, random_state=1337)"
   ]
  },
  {
   "cell_type": "code",
   "execution_count": null,
   "metadata": {},
   "outputs": [],
   "source": [
    "imputer = KNNImputer(missing_values=np.nan, n_neighbors=10).set_output(transform='pandas')\n",
    "imputer.fit(X_train)\n",
    "X_imputed_train = imputer.transform(X_train)\n",
    "X_imputed_test = imputer.transform(X_test)"
   ]
  },
  {
   "cell_type": "code",
   "execution_count": null,
   "metadata": {},
   "outputs": [],
   "source": [
    "pred_pessimistic_train = pd.Series(0, index=y_train.index)\n",
    "train_accuracy = accuracy_score(y_true = y_train,y_pred = pred_pessimistic_train)\n",
    "round(train_accuracy, 2)"
   ]
  },
  {
   "cell_type": "code",
   "execution_count": null,
   "metadata": {},
   "outputs": [],
   "source": [
    "X_train['Expensive'] = 0\n",
    "X_train.loc[X_train['GarageCars'] >= 3,'Expensive'] = 1\n",
    "y_train_prediction = X_train.pop('Expensive')\n",
    "accuracy_score(y_true = y_train, y_pred = y_train_prediction)"
   ]
  },
  {
   "cell_type": "code",
   "execution_count": null,
   "metadata": {},
   "outputs": [],
   "source": [
    "test_housing_classification = pd.read_csv(r'test-housing-classification.csv')"
   ]
  },
  {
   "cell_type": "code",
   "execution_count": null,
   "metadata": {},
   "outputs": [],
   "source": [
    "test_housing_classification.set_index('Id', inplace=True)"
   ]
  },
  {
   "cell_type": "code",
   "execution_count": null,
   "metadata": {},
   "outputs": [],
   "source": [
    "# test_housing_classification.drop(housing_classification.select_dtypes(['object']).columns, axis=1, inplace=True)"
   ]
  },
  {
   "cell_type": "code",
   "execution_count": null,
   "metadata": {},
   "outputs": [],
   "source": [
    "# test_expensive_houses = test_housing_classification.pop('Expensive') "
   ]
  },
  {
   "cell_type": "code",
   "execution_count": null,
   "metadata": {},
   "outputs": [],
   "source": [
    "# X = test_housing_classification.copy()\n",
    "# y = test_expensive_houses.copy()\n",
    "# X_train, X_test, y_train, y_test = train_test_split(X, y, test_size=0.2, random_state=1337)"
   ]
  },
  {
   "cell_type": "code",
   "execution_count": null,
   "metadata": {},
   "outputs": [],
   "source": [
    "# imputer = KNNImputer(missing_values=np.nan, n_neighbors=10).set_output(transform='pandas')\n",
    "# imputer.fit(X_train)\n",
    "# X_imputed_train = imputer.transform(X_train)\n",
    "# X_imputed_test = imputer.transform(X_test)"
   ]
  },
  {
   "cell_type": "code",
   "execution_count": null,
   "metadata": {},
   "outputs": [],
   "source": [
    "test_housing_classification[\"Expensive\"] = 0\n",
    "test_housing_classification.loc[test_housing_classification[\"GarageCars\"] >= 3, \"Expensive\"] = 1"
   ]
  },
  {
   "cell_type": "code",
   "execution_count": null,
   "metadata": {},
   "outputs": [],
   "source": [
    "test = test_housing_classification[\"Expensive\"]"
   ]
  },
  {
   "cell_type": "code",
   "execution_count": null,
   "metadata": {},
   "outputs": [],
   "source": [
    "test.sample(2)"
   ]
  },
  {
   "cell_type": "code",
   "execution_count": null,
   "metadata": {},
   "outputs": [],
   "source": [
    "test.to_csv('1st_test')"
   ]
  }
 ],
 "metadata": {
  "kernelspec": {
   "display_name": "Python 3",
   "language": "python",
   "name": "python3"
  },
  "language_info": {
   "codemirror_mode": {
    "name": "ipython",
    "version": 3
   },
   "file_extension": ".py",
   "mimetype": "text/x-python",
   "name": "python",
   "nbconvert_exporter": "python",
   "pygments_lexer": "ipython3",
   "version": "3.10.6 (tags/v3.10.6:9c7b4bd, Aug  1 2022, 21:53:49) [MSC v.1932 64 bit (AMD64)]"
  },
  "orig_nbformat": 4,
  "vscode": {
   "interpreter": {
    "hash": "ea1167cbcaad81cdbbc35255037ba90d13cf758e6bff12ff9eb1557202ecbe5c"
   }
  }
 },
 "nbformat": 4,
 "nbformat_minor": 2
}
