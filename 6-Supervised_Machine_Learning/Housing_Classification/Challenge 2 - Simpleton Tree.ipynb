{
 "cells": [
  {
   "cell_type": "code",
   "execution_count": 211,
   "metadata": {},
   "outputs": [],
   "source": [
    "import numpy as np\n",
    "import pandas as pd\n",
    "import matplotlib.pyplot as plt\n",
    "\n",
    "# from sklearn:\n",
    "from sklearn.model_selection import train_test_split\n",
    "from sklearn.impute import SimpleImputer #should use KNNImputer??!\n",
    "from sklearn.impute import KNNImputer\n",
    "from sklearn.tree import DecisionTreeClassifier #plant forests, not trees?!\n",
    "from sklearn.ensemble import RandomForestClassifier\n",
    "from sklearn.metrics import accuracy_score\n",
    "from sklearn.pipeline import make_pipeline\n",
    "from sklearn.preprocessing import OneHotEncoder #should use Ordinal??!\n",
    "from sklearn.preprocessing import OrdinalEncoder\n",
    "from sklearn.preprocessing import StandardScaler #should use Quantile??!\n",
    "from sklearn.preprocessing import QuantileTransformer\n",
    "from sklearn.model_selection import GridSearchCV\n",
    "from sklearn.neighbors import KNeighborsRegressor #check documentation??!\n",
    "from sklearn.compose import make_column_transformer\n",
    "from sklearn.compose import make_column_selector"
   ]
  },
  {
   "cell_type": "code",
   "execution_count": 212,
   "metadata": {},
   "outputs": [],
   "source": [
    "housing_classification = pd.read_csv(r'housing-classification.csv')\n",
    "test_housing_classification = pd.read_csv(r'test-housing-classification.csv')"
   ]
  },
  {
   "cell_type": "code",
   "execution_count": 213,
   "metadata": {},
   "outputs": [],
   "source": [
    "housing_classification.set_index('Id', inplace=True)\n",
    "test_housing_classification.set_index('Id', inplace=True)"
   ]
  },
  {
   "cell_type": "code",
   "execution_count": 214,
   "metadata": {},
   "outputs": [],
   "source": [
    "housing_classification.drop(housing_classification.select_dtypes(['object']).columns, axis=1, inplace=True)"
   ]
  },
  {
   "cell_type": "code",
   "execution_count": 215,
   "metadata": {},
   "outputs": [],
   "source": [
    "expensive_houses = housing_classification.pop('Expensive') \n",
    "X = housing_classification.copy()\n",
    "y = expensive_houses.copy()\n",
    "X_train, X_test, y_train, y_test = train_test_split(X, y, test_size=0.2, random_state=1337)"
   ]
  },
  {
   "cell_type": "code",
   "execution_count": 216,
   "metadata": {},
   "outputs": [],
   "source": [
    "scaler = QuantileTransformer(output_distribution='normal')"
   ]
  },
  {
   "cell_type": "code",
   "execution_count": 217,
   "metadata": {},
   "outputs": [],
   "source": [
    "scaler.fit(X_train)\n",
    "X_train_scaled = scaler.transform(X_train)\n",
    "X_test_scaled = scaler.transform(X_test)"
   ]
  },
  {
   "cell_type": "code",
   "execution_count": 218,
   "metadata": {},
   "outputs": [
    {
     "name": "stderr",
     "output_type": "stream",
     "text": [
      "c:\\Users\\AlexD\\Desktop\\Python\\Python 3.10.6\\lib\\site-packages\\sklearn\\base.py:420: UserWarning: X does not have valid feature names, but KNNImputer was fitted with feature names\n",
      "  warnings.warn(\n",
      "c:\\Users\\AlexD\\Desktop\\Python\\Python 3.10.6\\lib\\site-packages\\sklearn\\base.py:420: UserWarning: X does not have valid feature names, but KNNImputer was fitted with feature names\n",
      "  warnings.warn(\n"
     ]
    }
   ],
   "source": [
    "imputer = KNNImputer(missing_values=np.nan, n_neighbors=5).set_output(transform='pandas')\n",
    "imputer.fit(X_train)\n",
    "X_imputed_train = imputer.transform(X_train_scaled)\n",
    "X_imputed_test = imputer.transform(X_test_scaled)"
   ]
  },
  {
   "cell_type": "code",
   "execution_count": 219,
   "metadata": {},
   "outputs": [
    {
     "data": {
      "text/plain": [
       "0.9751712328767124"
      ]
     },
     "execution_count": 219,
     "metadata": {},
     "output_type": "execute_result"
    }
   ],
   "source": [
    "imputed_tree = DecisionTreeClassifier(max_depth=10,\n",
    "                                        min_samples_leaf=4)\n",
    "imputed_tree.fit(X=X_imputed_train,\n",
    "                y= y_train)\n",
    "y_imputed_pred = imputed_tree.predict(X_imputed_train)\n",
    "accuracy_score(y_true = y_train,\n",
    "                y_pred = y_imputed_pred)"
   ]
  },
  {
   "attachments": {},
   "cell_type": "markdown",
   "metadata": {},
   "source": [
    "2. on test:"
   ]
  },
  {
   "cell_type": "code",
   "execution_count": 220,
   "metadata": {},
   "outputs": [
    {
     "name": "stderr",
     "output_type": "stream",
     "text": [
      "c:\\Users\\AlexD\\Desktop\\Python\\Python 3.10.6\\lib\\site-packages\\sklearn\\base.py:420: UserWarning: X does not have valid feature names, but KNNImputer was fitted with feature names\n",
      "  warnings.warn(\n"
     ]
    }
   ],
   "source": [
    "test_housing_classification.drop(test_housing_classification.select_dtypes(['object']).columns, axis=1, inplace=True) \n",
    "test_housing_classification_scaled = scaler.transform(test_housing_classification)\n",
    "X_imputed_test = imputer.transform(test_housing_classification_scaled)\n",
    "y_imputed_pred_test = imputed_tree.predict(X_imputed_test)\n",
    "test_housing_classification[\"Expensive\"] = y_imputed_pred_test"
   ]
  },
  {
   "cell_type": "code",
   "execution_count": 221,
   "metadata": {},
   "outputs": [],
   "source": [
    "test3 = test_housing_classification[\"Expensive\"]\n",
    "# test2.sample(25)\n",
    "test3.to_csv('3rd_test')"
   ]
  }
 ],
 "metadata": {
  "kernelspec": {
   "display_name": "Python 3",
   "language": "python",
   "name": "python3"
  },
  "language_info": {
   "codemirror_mode": {
    "name": "ipython",
    "version": 3
   },
   "file_extension": ".py",
   "mimetype": "text/x-python",
   "name": "python",
   "nbconvert_exporter": "python",
   "pygments_lexer": "ipython3",
   "version": "3.10.6"
  },
  "orig_nbformat": 4,
  "vscode": {
   "interpreter": {
    "hash": "ea1167cbcaad81cdbbc35255037ba90d13cf758e6bff12ff9eb1557202ecbe5c"
   }
  }
 },
 "nbformat": 4,
 "nbformat_minor": 2
}
