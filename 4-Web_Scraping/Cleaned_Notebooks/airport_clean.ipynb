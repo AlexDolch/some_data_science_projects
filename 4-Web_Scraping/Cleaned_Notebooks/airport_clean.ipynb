{
 "cells": [
  {
   "cell_type": "code",
   "execution_count": 12,
   "id": "47e84f8e-0d2a-46e3-888f-aaee30f37da7",
   "metadata": {},
   "outputs": [],
   "source": [
    "import pandas as pd\n",
    "import sqlalchemy\n",
    "import keys"
   ]
  },
  {
   "cell_type": "code",
   "execution_count": 16,
   "id": "cd08ca3a-ab24-40db-86a3-192c47bd89c1",
   "metadata": {},
   "outputs": [],
   "source": [
    "airport_df = pd.read_csv('airport.csv')\n",
    "airport_df = airport_df[['city_id','icao']]"
   ]
  },
  {
   "cell_type": "code",
   "execution_count": 13,
   "id": "c9e36175-bec8-4eee-a466-f4a7b391430a",
   "metadata": {},
   "outputs": [],
   "source": [
    "host = '127.0.0.1'\n",
    "schema = 'gans'\n",
    "user = 'root'\n",
    "password = 'put_your_own_key'\n",
    "port = 3306\n",
    "con = f'mysql+pymysql://{user}:{password}@{host}:{port}/{schema}'"
   ]
  },
  {
   "cell_type": "code",
   "execution_count": 18,
   "id": "f8fa4f2c-7623-45e9-b623-ce80d9507c33",
   "metadata": {},
   "outputs": [
    {
     "data": {
      "text/plain": [
       "35"
      ]
     },
     "execution_count": 18,
     "metadata": {},
     "output_type": "execute_result"
    }
   ],
   "source": [
    "airport_df.to_sql('airports',con=con,if_exists='append',index=False)"
   ]
  }
 ],
 "metadata": {
  "kernelspec": {
   "display_name": "Python 3 (ipykernel)",
   "language": "python",
   "name": "python3"
  },
  "language_info": {
   "codemirror_mode": {
    "name": "ipython",
    "version": 3
   },
   "file_extension": ".py",
   "mimetype": "text/x-python",
   "name": "python",
   "nbconvert_exporter": "python",
   "pygments_lexer": "ipython3",
   "version": "3.9.12"
  }
 },
 "nbformat": 4,
 "nbformat_minor": 5
}
