{
 "cells": [
  {
   "cell_type": "code",
   "execution_count": 8,
   "id": "b9cb1a43-a47d-44df-9d9b-af50e711e9dc",
   "metadata": {},
   "outputs": [],
   "source": [
    "import pandas as pd\n",
    "import sqlalchemy\n",
    "import keys\n",
    "import requests\n",
    "import datetime"
   ]
  },
  {
   "cell_type": "code",
   "execution_count": 3,
   "id": "0a83eb61-8650-442e-931f-3abee30e5558",
   "metadata": {},
   "outputs": [],
   "source": [
    "host = '127.0.0.1'\n",
    "schema = 'gans'\n",
    "user = 'root'\n",
    "password = keys.password\n",
    "port = 3306\n",
    "con = f'mysql+pymysql://{user}:{password}@{host}:{port}/{schema}'"
   ]
  },
  {
   "cell_type": "code",
   "execution_count": 4,
   "id": "28610784-c7f8-4609-b3d1-cf13316e880d",
   "metadata": {
    "collapsed": true,
    "jupyter": {
     "outputs_hidden": true
    },
    "tags": []
   },
   "outputs": [
    {
     "data": {
      "text/html": [
       "<div>\n",
       "<style scoped>\n",
       "    .dataframe tbody tr th:only-of-type {\n",
       "        vertical-align: middle;\n",
       "    }\n",
       "\n",
       "    .dataframe tbody tr th {\n",
       "        vertical-align: top;\n",
       "    }\n",
       "\n",
       "    .dataframe thead th {\n",
       "        text-align: right;\n",
       "    }\n",
       "</style>\n",
       "<table border=\"1\" class=\"dataframe\">\n",
       "  <thead>\n",
       "    <tr style=\"text-align: right;\">\n",
       "      <th></th>\n",
       "      <th>city_id</th>\n",
       "      <th>icao</th>\n",
       "    </tr>\n",
       "  </thead>\n",
       "  <tbody>\n",
       "    <tr>\n",
       "      <th>0</th>\n",
       "      <td>1</td>\n",
       "      <td>LTBA</td>\n",
       "    </tr>\n",
       "    <tr>\n",
       "      <th>1</th>\n",
       "      <td>3</td>\n",
       "      <td>EGLC</td>\n",
       "    </tr>\n",
       "    <tr>\n",
       "      <th>2</th>\n",
       "      <td>6</td>\n",
       "      <td>LECU</td>\n",
       "    </tr>\n",
       "    <tr>\n",
       "      <th>3</th>\n",
       "      <td>6</td>\n",
       "      <td>LEGT</td>\n",
       "    </tr>\n",
       "    <tr>\n",
       "      <th>4</th>\n",
       "      <td>7</td>\n",
       "      <td>UKKK</td>\n",
       "    </tr>\n",
       "    <tr>\n",
       "      <th>5</th>\n",
       "      <td>8</td>\n",
       "      <td>LIRA</td>\n",
       "    </tr>\n",
       "    <tr>\n",
       "      <th>6</th>\n",
       "      <td>8</td>\n",
       "      <td>LIRU</td>\n",
       "    </tr>\n",
       "    <tr>\n",
       "      <th>7</th>\n",
       "      <td>9</td>\n",
       "      <td>AZ-0001</td>\n",
       "    </tr>\n",
       "    <tr>\n",
       "      <th>8</th>\n",
       "      <td>9</td>\n",
       "      <td>UBBB</td>\n",
       "    </tr>\n",
       "    <tr>\n",
       "      <th>9</th>\n",
       "      <td>10</td>\n",
       "      <td>LRBS</td>\n",
       "    </tr>\n",
       "    <tr>\n",
       "      <th>10</th>\n",
       "      <td>11</td>\n",
       "      <td>LFPB</td>\n",
       "    </tr>\n",
       "    <tr>\n",
       "      <th>11</th>\n",
       "      <td>11</td>\n",
       "      <td>LFPO</td>\n",
       "    </tr>\n",
       "    <tr>\n",
       "      <th>12</th>\n",
       "      <td>11</td>\n",
       "      <td>LFPV</td>\n",
       "    </tr>\n",
       "    <tr>\n",
       "      <th>13</th>\n",
       "      <td>14</td>\n",
       "      <td>EPWA</td>\n",
       "    </tr>\n",
       "    <tr>\n",
       "      <th>14</th>\n",
       "      <td>15</td>\n",
       "      <td>EDDH</td>\n",
       "    </tr>\n",
       "    <tr>\n",
       "      <th>15</th>\n",
       "      <td>15</td>\n",
       "      <td>EDHI</td>\n",
       "    </tr>\n",
       "    <tr>\n",
       "      <th>16</th>\n",
       "      <td>17</td>\n",
       "      <td>LYBE</td>\n",
       "    </tr>\n",
       "    <tr>\n",
       "      <th>17</th>\n",
       "      <td>18</td>\n",
       "      <td>LEBL</td>\n",
       "    </tr>\n",
       "    <tr>\n",
       "      <th>18</th>\n",
       "      <td>20</td>\n",
       "      <td>UKHH</td>\n",
       "    </tr>\n",
       "    <tr>\n",
       "      <th>19</th>\n",
       "      <td>21</td>\n",
       "      <td>LIML</td>\n",
       "    </tr>\n",
       "    <tr>\n",
       "      <th>20</th>\n",
       "      <td>22</td>\n",
       "      <td>UWKG</td>\n",
       "    </tr>\n",
       "    <tr>\n",
       "      <th>21</th>\n",
       "      <td>23</td>\n",
       "      <td>LBSF</td>\n",
       "    </tr>\n",
       "    <tr>\n",
       "      <th>22</th>\n",
       "      <td>24</td>\n",
       "      <td>LKKB</td>\n",
       "    </tr>\n",
       "    <tr>\n",
       "      <th>23</th>\n",
       "      <td>24</td>\n",
       "      <td>LKPR</td>\n",
       "    </tr>\n",
       "    <tr>\n",
       "      <th>24</th>\n",
       "      <td>24</td>\n",
       "      <td>LKVO</td>\n",
       "    </tr>\n",
       "    <tr>\n",
       "      <th>25</th>\n",
       "      <td>25</td>\n",
       "      <td>RU-0217</td>\n",
       "    </tr>\n",
       "    <tr>\n",
       "      <th>26</th>\n",
       "      <td>26</td>\n",
       "      <td>UG24</td>\n",
       "    </tr>\n",
       "    <tr>\n",
       "      <th>27</th>\n",
       "      <td>27</td>\n",
       "      <td>RU-2344</td>\n",
       "    </tr>\n",
       "    <tr>\n",
       "      <th>28</th>\n",
       "      <td>27</td>\n",
       "      <td>UWWG</td>\n",
       "    </tr>\n",
       "    <tr>\n",
       "      <th>29</th>\n",
       "      <td>29</td>\n",
       "      <td>EGBB</td>\n",
       "    </tr>\n",
       "    <tr>\n",
       "      <th>30</th>\n",
       "      <td>30</td>\n",
       "      <td>RU-0372</td>\n",
       "    </tr>\n",
       "    <tr>\n",
       "      <th>31</th>\n",
       "      <td>31</td>\n",
       "      <td>RU-0090</td>\n",
       "    </tr>\n",
       "    <tr>\n",
       "      <th>32</th>\n",
       "      <td>32</td>\n",
       "      <td>UDYE</td>\n",
       "    </tr>\n",
       "    <tr>\n",
       "      <th>33</th>\n",
       "      <td>32</td>\n",
       "      <td>UDYZ</td>\n",
       "    </tr>\n",
       "    <tr>\n",
       "      <th>34</th>\n",
       "      <td>34</td>\n",
       "      <td>RU-8363</td>\n",
       "    </tr>\n",
       "  </tbody>\n",
       "</table>\n",
       "</div>"
      ],
      "text/plain": [
       "    city_id     icao\n",
       "0         1     LTBA\n",
       "1         3     EGLC\n",
       "2         6     LECU\n",
       "3         6     LEGT\n",
       "4         7     UKKK\n",
       "5         8     LIRA\n",
       "6         8     LIRU\n",
       "7         9  AZ-0001\n",
       "8         9     UBBB\n",
       "9        10     LRBS\n",
       "10       11     LFPB\n",
       "11       11     LFPO\n",
       "12       11     LFPV\n",
       "13       14     EPWA\n",
       "14       15     EDDH\n",
       "15       15     EDHI\n",
       "16       17     LYBE\n",
       "17       18     LEBL\n",
       "18       20     UKHH\n",
       "19       21     LIML\n",
       "20       22     UWKG\n",
       "21       23     LBSF\n",
       "22       24     LKKB\n",
       "23       24     LKPR\n",
       "24       24     LKVO\n",
       "25       25  RU-0217\n",
       "26       26     UG24\n",
       "27       27  RU-2344\n",
       "28       27     UWWG\n",
       "29       29     EGBB\n",
       "30       30  RU-0372\n",
       "31       31  RU-0090\n",
       "32       32     UDYE\n",
       "33       32     UDYZ\n",
       "34       34  RU-8363"
      ]
     },
     "execution_count": 4,
     "metadata": {},
     "output_type": "execute_result"
    }
   ],
   "source": [
    "airports_df = pd.read_sql('airports',con=con)\n",
    "airports_df"
   ]
  },
  {
   "cell_type": "code",
   "execution_count": 92,
   "id": "bc35232f-aba7-4215-99fb-54777f2c2fa2",
   "metadata": {},
   "outputs": [],
   "source": [
    "querystring = {\"withLeg\":\"true\",\"withCancelled\":\"true\",\"withCodeshared\":\"true\",\"withCargo\":\"true\",\n",
    "               \"withPrivate\":\"true\",\"withLocation\":\"false\"}\n",
    "headers = {\n",
    "\t\"X-RapidAPI-Key\": \"your+\",\n",
    "\t\"X-RapidAPI-Host\": \"aerodatabox.p.rapidapi.com\"\n",
    "}"
   ]
  },
  {
   "cell_type": "code",
   "execution_count": 9,
   "id": "bb8a622a-a671-4830-9351-bb60edd806a2",
   "metadata": {},
   "outputs": [],
   "source": [
    "today = datetime.date.today()\n",
    "tomorrow = str(today + datetime.timedelta(days=1))\n",
    "    \n",
    "times = [[\"00:00\",\"11:59\"],[\"12:00\",\"23:59\"]]"
   ]
  },
  {
   "cell_type": "code",
   "execution_count": 88,
   "id": "9be5ef88-3ec1-40ef-a332-722ab64a9eaa",
   "metadata": {},
   "outputs": [],
   "source": [
    "icao_list = airports_df['icao'].to_list()"
   ]
  },
  {
   "cell_type": "code",
   "execution_count": 90,
   "id": "9e6a74de-ed91-4e43-a1ef-c68c8b653163",
   "metadata": {},
   "outputs": [
    {
     "data": {
      "text/plain": [
       "['EGLC']"
      ]
     },
     "execution_count": 90,
     "metadata": {},
     "output_type": "execute_result"
    }
   ],
   "source": [
    "icao_list[1:2]"
   ]
  },
  {
   "cell_type": "code",
   "execution_count": 93,
   "id": "bd48ebe7-4482-4647-93b5-e34a102a2094",
   "metadata": {},
   "outputs": [
    {
     "name": "stdout",
     "output_type": "stream",
     "text": [
      "<Response [200]>\n",
      "<Response [200]>\n"
     ]
    }
   ],
   "source": [
    "flights_dict = {'ICAO':[],'departure_airport':[],'local_time':[]}\n",
    "icao_list = airports_df['icao'].to_list()\n",
    "\n",
    "for time in times:\n",
    "    \n",
    "    for icao in icao_list[1:2]:\n",
    "        url = f\"https://aerodatabox.p.rapidapi.com/flights/airports/icao/{icao}/{tomorrow}T{time[0]}/{tomorrow}T{time[1]}\"\n",
    "        response = requests.request(\"GET\", url, headers=headers, params=querystring)\n",
    "        print(response)\n",
    "        flight_json = response.json()\n",
    "        \n",
    "        for flight in flight_json['arrivals']:\n",
    "            flights_dict['ICAO'].append(icao)\n",
    "            try:\n",
    "                flights_dict['departure_airport'].append(flight['departure']['airport']['icao'])\n",
    "            except:\n",
    "                flights_dict['departure_airport'].append('unknown')\n",
    "            try:\n",
    "                flights_dict['local_time'].append(flight['arrival']['scheduledTimeLocal'])\n",
    "            except:\n",
    "                flights_dict['local_time'].append(pd.NaT)"
   ]
  },
  {
   "cell_type": "code",
   "execution_count": 80,
   "id": "a1441436-e1fa-4566-aef4-ba1a966dee3e",
   "metadata": {},
   "outputs": [],
   "source": [
    "flights_df = pd.DataFrame(flights_dict)"
   ]
  },
  {
   "cell_type": "code",
   "execution_count": 85,
   "id": "0749b593-bfe4-4c93-97ee-3256f8f6b296",
   "metadata": {},
   "outputs": [],
   "source": [
    "flights_df['local_time'] = pd.to_datetime(flights_df['local_time'])"
   ]
  },
  {
   "cell_type": "code",
   "execution_count": 86,
   "id": "9a8e1cc2-1bb5-4179-9fe3-26286706129d",
   "metadata": {},
   "outputs": [
    {
     "data": {
      "text/plain": [
       "20"
      ]
     },
     "execution_count": 86,
     "metadata": {},
     "output_type": "execute_result"
    }
   ],
   "source": [
    "flights_df.to_sql('flight',con=con,if_exists='append',index=False)"
   ]
  }
 ],
 "metadata": {
  "kernelspec": {
   "display_name": "Python 3 (ipykernel)",
   "language": "python",
   "name": "python3"
  },
  "language_info": {
   "codemirror_mode": {
    "name": "ipython",
    "version": 3
   },
   "file_extension": ".py",
   "mimetype": "text/x-python",
   "name": "python",
   "nbconvert_exporter": "python",
   "pygments_lexer": "ipython3",
   "version": "3.9.12"
  }
 },
 "nbformat": 4,
 "nbformat_minor": 5
}
