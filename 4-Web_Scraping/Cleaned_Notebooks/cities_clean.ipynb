{
 "cells": [
  {
   "cell_type": "code",
   "execution_count": 18,
   "id": "45f62177-a489-4204-b831-c0684432cc68",
   "metadata": {},
   "outputs": [],
   "source": [
    "from bs4 import BeautifulSoup\n",
    "import requests\n",
    "import pandas as pd\n",
    "import sqlalchemy\n",
    "import keys"
   ]
  },
  {
   "cell_type": "code",
   "execution_count": 2,
   "id": "0ba76f1f-e564-4506-b6c4-0d9681ed3e4f",
   "metadata": {},
   "outputs": [],
   "source": [
    "url = \"https://en.wikipedia.org/wiki/List_of_European_cities_by_population_within_city_limits\"\n",
    "response = requests.get(url)\n",
    "soup = BeautifulSoup(response.content)\n",
    "rows = soup.select(\"table.wikitable tr\")\n"
   ]
  },
  {
   "cell_type": "code",
   "execution_count": 5,
   "id": "ecb7619b-8cac-45ae-866d-f11adbc3979c",
   "metadata": {
    "tags": []
   },
   "outputs": [],
   "source": [
    "cities_dict = {\n",
    "    'city':[],\n",
    "    'country':[],\n",
    "    'population':[],\n",
    "    'lat':[],\n",
    "    'long':[]\n",
    "}\n",
    "\n",
    "for i, row in enumerate(rows):\n",
    "    if(i == 0 ):\n",
    "        continue\n",
    "    \n",
    "    cities_dict['city'].append(row.select('td')[1].select('a')[0].get_text().strip())    \n",
    "    cities_dict['country'].append(row.select('td')[2].select('a')[0].get_text().strip())\n",
    "    cities_dict['population'].append(row.select('td')[3].select('span')[0].get_text())\n",
    "    cities_dict['lat'].append(row.select('td')[7].select('span.geo-dec')[0].get_text().split()[0])\n",
    "    cities_dict['long'].append(row.select('td')[7].select('span.geo-dec')[0].get_text().split()[1])"
   ]
  },
  {
   "cell_type": "code",
   "execution_count": 7,
   "id": "ac41f150-45bd-4927-9613-400f4fb23e0e",
   "metadata": {
    "tags": []
   },
   "outputs": [],
   "source": [
    "city_df = pd.DataFrame(cities_dict)"
   ]
  },
  {
   "cell_type": "code",
   "execution_count": 8,
   "id": "34343e34-877f-4e9a-82bb-39c81c6138f6",
   "metadata": {},
   "outputs": [],
   "source": [
    "city_df[['lat_','temp']] = city_df['lat'].str.split('°',expand=True)\n",
    "\n",
    "city_df['lat_'] = pd.to_numeric(city_df['lat_'], errors='coerce')\n",
    "\n",
    "city_df['lat'] = city_df.apply(lambda x: x['lat_'] * (-1) if x['temp'] == 'S' else x['lat_'], axis=1)\n",
    "\n",
    "city_df[['long_','temp2']] = city_df['long'].str.split('°',expand=True)\n",
    "\n",
    "city_df['long_'] = pd.to_numeric(city_df['long_'], errors='coerce')\n",
    "\n",
    "city_df['long'] = city_df.apply(lambda x: x['long_'] * (-1) if x['temp2'] == 'W' else x['long_'], axis=1)\n",
    "\n",
    "city_df.drop(['lat_','temp','long_','temp2'],axis=1,inplace=True)"
   ]
  },
  {
   "cell_type": "code",
   "execution_count": 12,
   "id": "e3b8c8af-9910-4727-b83f-e6df45237717",
   "metadata": {},
   "outputs": [],
   "source": [
    "city_df['population'] = pd.to_numeric(city_df['population'].str.replace(',',''))"
   ]
  },
  {
   "cell_type": "code",
   "execution_count": 19,
   "id": "9dc195e4-d3f0-4ed6-8ca4-439d1cbb0df1",
   "metadata": {},
   "outputs": [],
   "source": [
    "host = '127.0.0.1'\n",
    "schema = 'gans'\n",
    "user = 'root'\n",
    "password = keys.password\n",
    "port = 3306\n",
    "con = f'mysql+pymysql://{user}:{password}@{host}:{port}/{schema}'"
   ]
  },
  {
   "cell_type": "code",
   "execution_count": 20,
   "id": "a171f076-599b-4794-9b08-62c864175246",
   "metadata": {},
   "outputs": [
    {
     "data": {
      "text/plain": [
       "36"
      ]
     },
     "execution_count": 20,
     "metadata": {},
     "output_type": "execute_result"
    }
   ],
   "source": [
    "city_df.to_sql('city',con=con,if_exists='append',index=False)"
   ]
  }
 ],
 "metadata": {
  "kernelspec": {
   "display_name": "Python 3 (ipykernel)",
   "language": "python",
   "name": "python3"
  },
  "language_info": {
   "codemirror_mode": {
    "name": "ipython",
    "version": 3
   },
   "file_extension": ".py",
   "mimetype": "text/x-python",
   "name": "python",
   "nbconvert_exporter": "python",
   "pygments_lexer": "ipython3",
   "version": "3.9.12"
  }
 },
 "nbformat": 4,
 "nbformat_minor": 5
}
