{
 "cells": [
  {
   "attachments": {},
   "cell_type": "markdown",
   "metadata": {},
   "source": [
    "This is a notebook for:\n",
    "1. Webscrap for cities data\n",
    "2. Save data into cities DataFrame\n",
    "3. Webscrap for population data\n",
    "4. Save data into population DataFrame\n",
    "5. Update cities and population tables with collected data\n",
    "\n",
    "The cities DataFrame should contain:\n",
    "* city_id\n",
    "* population \n",
    "* timestamp_population\n",
    "* longitude/latitude\n",
    "\n",
    "The population DataFrame should contain:\n",
    "* city_id\n",
    "* city_name\n",
    "* country_code"
   ]
  },
  {
   "attachments": {},
   "cell_type": "markdown",
   "metadata": {},
   "source": [
    "### 1. Import of the needed Modules, setting up and checking url, extracting data for soup:"
   ]
  },
  {
   "cell_type": "code",
   "execution_count": 15,
   "metadata": {},
   "outputs": [],
   "source": [
    "from bs4 import BeautifulSoup\n",
    "import requests\n",
    "import pandas as pd\n",
    "import re\n",
    "import sqlalchemy\n",
    "import keys"
   ]
  },
  {
   "attachments": {},
   "cell_type": "markdown",
   "metadata": {},
   "source": [
    "Simplified solution to work faster with:"
   ]
  },
  {
   "cell_type": "code",
   "execution_count": 16,
   "metadata": {},
   "outputs": [
    {
     "data": {
      "text/plain": [
       "200"
      ]
     },
     "execution_count": 16,
     "metadata": {},
     "output_type": "execute_result"
    }
   ],
   "source": [
    "# An easy to use list of European cities to simplify the tasks if needed:\n",
    "url_list = \"https://en.wikipedia.org/wiki/List_of_European_cities_by_population_within_city_limits\"\n",
    "list_response = requests.get(url_list)\n",
    "list_response.status_code"
   ]
  },
  {
   "attachments": {},
   "cell_type": "markdown",
   "metadata": {},
   "source": [
    "Maybe needed for later if we wanted to work with actual City pages:"
   ]
  },
  {
   "cell_type": "code",
   "execution_count": 17,
   "metadata": {},
   "outputs": [],
   "source": [
    "# # The actually to be explored cities in a list that can be expanded:\n",
    "# cities = [\"Berlin\"]\n",
    "# # Base url to be expanded by city names later:\n",
    "# url_base = \"https://en.wikipedia.org/wiki/\"\n",
    "# # A loop through the city list to get the city url:\n",
    "# for city in cities:\n",
    "#     url_city_page = requests.get(url_base + city)\n",
    "#     # print(url_city_page.status_code) # To see if it works\n",
    "#     citysoup = BeautifulSoup(url_city_page.content, \"html.parser\") # Brewing the soup\n",
    "#     # Setting up the DF to reduce to needed stuff\n",
    "#     rawdata = {} \n",
    "#     rawdata[\"city\"] = city\n",
    "# # Another check if it works:\n",
    "# # citysoup.select(\"#firstHeading\")\n",
    "# # citysoup.select(\"#firstHeading\")[0].get_text() # put in comments sinc it worked out perfectly."
   ]
  },
  {
   "attachments": {},
   "cell_type": "markdown",
   "metadata": {},
   "source": [
    "### 2. Html content from \"url_list\", reduced to \"brew soup\":"
   ]
  },
  {
   "cell_type": "code",
   "execution_count": 18,
   "metadata": {},
   "outputs": [],
   "source": [
    "# Put in comments to enhance readability:\n",
    "# list_response.content"
   ]
  },
  {
   "cell_type": "code",
   "execution_count": 19,
   "metadata": {},
   "outputs": [],
   "source": [
    "# As done in the Code-Along:\n",
    "soup = BeautifulSoup(list_response.content)\n",
    "rows = soup.select(\"table.wikitable tr\")\n",
    "# rows # to see if it works\n",
    "cells = rows[1].select(\"td\")\n",
    "# cells # to see if it works\n",
    "# cells[1].get_text()\n",
    "# cells[2].get_text()\n",
    "# cells[3].get_text()\n",
    "# for cell in cells: # to see if it works\n",
    "#     print(\"_______________________________\")\n",
    "#     print(cell)"
   ]
  },
  {
   "attachments": {},
   "cell_type": "markdown",
   "metadata": {},
   "source": [
    "### 3. Creating the dataframe/.csv needed to work with:"
   ]
  },
  {
   "cell_type": "code",
   "execution_count": 20,
   "metadata": {},
   "outputs": [],
   "source": [
    "# Setting up a dictionary:\n",
    "cities_dict = {\n",
    "    'city':[],\n",
    "    'country':[],\n",
    "    'population':[],\n",
    "    'lat':[],\n",
    "    'long':[]\n",
    "}"
   ]
  },
  {
   "cell_type": "code",
   "execution_count": 21,
   "metadata": {},
   "outputs": [],
   "source": [
    "# Loop through html to get the needed data into the df, print statements to see if it works:\n",
    "for i, row in enumerate(rows):\n",
    "    if(i == 0 ):\n",
    "        continue\n",
    "    # print(\"______________________________\")\n",
    "    # print(row.select('td')[1].select('a')[0].get_text().strip())\n",
    "    cities_dict['city'].append(row.select('td')[1].select('a')[0].get_text().strip())\n",
    "    # print(row.select('td')[2].select('a')[0].get_text().strip())\n",
    "    cities_dict['country'].append(row.select('td')[2].select('a')[0].get_text().strip())\n",
    "    # print(row.select('td')[3].select('span')[0].get_text())\n",
    "    cities_dict['population'].append(row.select('td')[3].select('span')[0].get_text())\n",
    "    # print(row.select('td')[7].select('span.geo-dec')[0].get_text().split()[0])\n",
    "    cities_dict['lat'].append(row.select('td')[7].select('span.geo-dec')[0].get_text().split()[0])\n",
    "    # print(row.select('td')[7].select('span.geo-dec')[0].get_text().split()[1])\n",
    "    cities_dict['long'].append(row.select('td')[7].select('span.geo-dec')[0].get_text().split()[1])"
   ]
  },
  {
   "cell_type": "code",
   "execution_count": 22,
   "metadata": {},
   "outputs": [],
   "source": [
    "city_df = pd.DataFrame(cities_dict)\n",
    "# city_df # see if it works\n"
   ]
  },
  {
   "cell_type": "code",
   "execution_count": 23,
   "metadata": {},
   "outputs": [],
   "source": [
    "# Just for changing lat and long from string to float:\n",
    "city_df[['lat_','temp']] = city_df['lat'].str.split('°',expand=True)\n",
    "city_df['lat_'] = pd.to_numeric(city_df['lat_'], errors='coerce')\n",
    "city_df['lat'] = city_df.apply(lambda x: x['lat_'] * (-1) if x['temp'] == 'S' else x['lat_'], axis=1)\n",
    "city_df[['long_','temp2']] = city_df['long'].str.split('°',expand=True)\n",
    "city_df['long_'] = pd.to_numeric(city_df['long_'], errors='coerce')\n",
    "city_df['long'] = city_df.apply(lambda x: x['long_'] * (-1) if x['temp2'] == 'W' else x['long_'], axis=1)\n",
    "city_df.drop(['lat_','temp','long_','temp2'],axis=1,inplace=True)\n",
    "# Remove special characters in pop:\n",
    "city_df['population'] = pd.to_numeric(city_df['population'].str.replace(',',''))"
   ]
  },
  {
   "cell_type": "code",
   "execution_count": 24,
   "metadata": {},
   "outputs": [],
   "source": [
    "# city_df.to_csv('city.csv',index=False)"
   ]
  },
  {
   "cell_type": "code",
   "execution_count": 25,
   "metadata": {},
   "outputs": [],
   "source": [
    "# print(city_df) # to see how it works"
   ]
  },
  {
   "attachments": {},
   "cell_type": "markdown",
   "metadata": {},
   "source": [
    "### 4. After setting up \"gans\":"
   ]
  },
  {
   "cell_type": "code",
   "execution_count": 26,
   "metadata": {},
   "outputs": [],
   "source": [
    "host = '127.0.0.1'\n",
    "schema = 'gans'\n",
    "user = 'root'\n",
    "password = keys.mysql_PW\n",
    "port = 3306\n",
    "con = f'mysql+pymysql://{user}:{password}@{host}:{port}/{schema}'"
   ]
  },
  {
   "cell_type": "code",
   "execution_count": 27,
   "metadata": {},
   "outputs": [
    {
     "name": "stdout",
     "output_type": "stream",
     "text": [
      "        city         country  population        lat       long\n",
      "15  Budapest         Hungary     1706851  47.492500  19.051389\n",
      "23    Prague  Czech Republic     1275406  50.083333  14.416667\n"
     ]
    }
   ],
   "source": [
    "# To not make 30 API calls with one run, we reduce the df to x cities:\n",
    "x_cities = ['Budapest', 'Prague']\n",
    "city_df = city_df.loc[city_df['city'].isin(x_cities)]\n",
    "print(city_df)\n",
    "city_df.to_csv('city.csv',index=False)"
   ]
  },
  {
   "cell_type": "code",
   "execution_count": 28,
   "metadata": {},
   "outputs": [
    {
     "data": {
      "text/plain": [
       "2"
      ]
     },
     "execution_count": 28,
     "metadata": {},
     "output_type": "execute_result"
    }
   ],
   "source": [
    "city_df.to_sql('city',con=con,if_exists='append',index=False)"
   ]
  }
 ],
 "metadata": {
  "kernelspec": {
   "display_name": "Python 3",
   "language": "python",
   "name": "python3"
  },
  "language_info": {
   "codemirror_mode": {
    "name": "ipython",
    "version": 3
   },
   "file_extension": ".py",
   "mimetype": "text/x-python",
   "name": "python",
   "nbconvert_exporter": "python",
   "pygments_lexer": "ipython3",
   "version": "3.10.6 (tags/v3.10.6:9c7b4bd, Aug  1 2022, 21:53:49) [MSC v.1932 64 bit (AMD64)]"
  },
  "orig_nbformat": 4,
  "vscode": {
   "interpreter": {
    "hash": "ea1167cbcaad81cdbbc35255037ba90d13cf758e6bff12ff9eb1557202ecbe5c"
   }
  }
 },
 "nbformat": 4,
 "nbformat_minor": 2
}
