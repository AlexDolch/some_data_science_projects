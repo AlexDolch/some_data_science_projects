{
 "cells": [
  {
   "attachments": {},
   "cell_type": "markdown",
   "metadata": {},
   "source": [
    "This is a notebook for:\n",
    "1. Read the cities table\n",
    "2. Connect to OWM API\n",
    "3. Collect weather data for cities\n",
    "4. Save data into DataFrame\n",
    "5. Update weather table with collected data\n",
    "\n",
    "The weather DataFrame should contain:\n",
    "* city_id\n",
    "* forecast_time\n",
    "* temp\n",
    "* feels_like\n",
    "* wind_speed\n",
    "* outlook\n",
    "* pop"
   ]
  },
  {
   "attachments": {},
   "cell_type": "markdown",
   "metadata": {},
   "source": [
    "### 1. Import of the needed modules, keys and stuff:"
   ]
  },
  {
   "cell_type": "code",
   "execution_count": 10,
   "metadata": {},
   "outputs": [],
   "source": [
    "import pandas as pd\n",
    "import requests\n",
    "from IPython.display import JSON\n",
    "import json\n",
    "import keys"
   ]
  },
  {
   "cell_type": "code",
   "execution_count": 11,
   "metadata": {},
   "outputs": [],
   "source": [
    "openweather_API = keys.openweather_API"
   ]
  },
  {
   "cell_type": "code",
   "execution_count": 12,
   "metadata": {},
   "outputs": [],
   "source": [
    "# Magic Alchemy stuff:\n",
    "host = '127.0.0.1'\n",
    "schema = 'gans'\n",
    "user = 'root'\n",
    "password = keys.mysql_PW\n",
    "port = 3306\n",
    "con = f'mysql+pymysql://{user}:{password}@{host}:{port}/{schema}'"
   ]
  },
  {
   "attachments": {},
   "cell_type": "markdown",
   "metadata": {},
   "source": [
    "### 2. Setting up a weather DataFrame:"
   ]
  },
  {
   "cell_type": "code",
   "execution_count": 13,
   "metadata": {},
   "outputs": [
    {
     "data": {
      "text/html": [
       "<div>\n",
       "<style scoped>\n",
       "    .dataframe tbody tr th:only-of-type {\n",
       "        vertical-align: middle;\n",
       "    }\n",
       "\n",
       "    .dataframe tbody tr th {\n",
       "        vertical-align: top;\n",
       "    }\n",
       "\n",
       "    .dataframe thead th {\n",
       "        text-align: right;\n",
       "    }\n",
       "</style>\n",
       "<table border=\"1\" class=\"dataframe\">\n",
       "  <thead>\n",
       "    <tr style=\"text-align: right;\">\n",
       "      <th></th>\n",
       "      <th>city_id</th>\n",
       "      <th>city</th>\n",
       "      <th>country</th>\n",
       "      <th>population</th>\n",
       "      <th>lat</th>\n",
       "      <th>long</th>\n",
       "    </tr>\n",
       "  </thead>\n",
       "  <tbody>\n",
       "    <tr>\n",
       "      <th>0</th>\n",
       "      <td>1</td>\n",
       "      <td>Budapest</td>\n",
       "      <td>Hungary</td>\n",
       "      <td>1706851</td>\n",
       "      <td>47.4925</td>\n",
       "      <td>19.0514</td>\n",
       "    </tr>\n",
       "    <tr>\n",
       "      <th>1</th>\n",
       "      <td>2</td>\n",
       "      <td>Prague</td>\n",
       "      <td>Czech Republic</td>\n",
       "      <td>1275406</td>\n",
       "      <td>50.0833</td>\n",
       "      <td>14.4167</td>\n",
       "    </tr>\n",
       "  </tbody>\n",
       "</table>\n",
       "</div>"
      ],
      "text/plain": [
       "   city_id      city         country  population      lat     long\n",
       "0        1  Budapest         Hungary     1706851  47.4925  19.0514\n",
       "1        2    Prague  Czech Republic     1275406  50.0833  14.4167"
      ]
     },
     "execution_count": 13,
     "metadata": {},
     "output_type": "execute_result"
    }
   ],
   "source": [
    "# File created out of cities notebook:\n",
    "city_df = pd.read_sql('city',con=con)\n",
    "city_df"
   ]
  },
  {
   "cell_type": "code",
   "execution_count": 14,
   "metadata": {},
   "outputs": [],
   "source": [
    "# Empty dict:\n",
    "weather_dict = {'city_id':[],\n",
    "                'time':[],\n",
    "                'temp':[],\n",
    "                'wind_speed':[]}"
   ]
  },
  {
   "cell_type": "code",
   "execution_count": 15,
   "metadata": {},
   "outputs": [],
   "source": [
    "# Loop through cities with weather API:\n",
    "for i, city in enumerate(city_df['city_id']):\n",
    "    url = f\"http://api.openweathermap.org/data/2.5/forecast?lat={city_df.iloc[i]['lat']}&lon={city_df.iloc[i]['long']}&appid={openweather_API}&units=metric\"\n",
    "    response = requests.get(url)\n",
    "    weather_json = response.json()\n",
    "    for time in weather_json['list'][:9]:\n",
    "        weather_dict['city_id'].append(city)\n",
    "        weather_dict['time'].append(time['dt_txt'])\n",
    "        weather_dict['temp'].append(time['main']['temp'])\n",
    "        weather_dict['wind_speed'].append(time['wind']['speed'])"
   ]
  },
  {
   "cell_type": "code",
   "execution_count": 16,
   "metadata": {},
   "outputs": [
    {
     "name": "stdout",
     "output_type": "stream",
     "text": [
      "<class 'pandas.core.frame.DataFrame'>\n",
      "RangeIndex: 18 entries, 0 to 17\n",
      "Data columns (total 4 columns):\n",
      " #   Column      Non-Null Count  Dtype  \n",
      "---  ------      --------------  -----  \n",
      " 0   city_id     18 non-null     int64  \n",
      " 1   time        18 non-null     object \n",
      " 2   temp        18 non-null     float64\n",
      " 3   wind_speed  18 non-null     float64\n",
      "dtypes: float64(2), int64(1), object(1)\n",
      "memory usage: 704.0+ bytes\n"
     ]
    }
   ],
   "source": [
    "# DataFrame:\n",
    "weather_df = pd.DataFrame(weather_dict)\n",
    "weather_df.info()"
   ]
  },
  {
   "cell_type": "code",
   "execution_count": 17,
   "metadata": {},
   "outputs": [
    {
     "data": {
      "text/html": [
       "<div>\n",
       "<style scoped>\n",
       "    .dataframe tbody tr th:only-of-type {\n",
       "        vertical-align: middle;\n",
       "    }\n",
       "\n",
       "    .dataframe tbody tr th {\n",
       "        vertical-align: top;\n",
       "    }\n",
       "\n",
       "    .dataframe thead th {\n",
       "        text-align: right;\n",
       "    }\n",
       "</style>\n",
       "<table border=\"1\" class=\"dataframe\">\n",
       "  <thead>\n",
       "    <tr style=\"text-align: right;\">\n",
       "      <th></th>\n",
       "      <th>city_id</th>\n",
       "      <th>time</th>\n",
       "      <th>temp</th>\n",
       "      <th>wind_speed</th>\n",
       "    </tr>\n",
       "  </thead>\n",
       "  <tbody>\n",
       "    <tr>\n",
       "      <th>0</th>\n",
       "      <td>1</td>\n",
       "      <td>2023-01-10 15:00:00</td>\n",
       "      <td>5.51</td>\n",
       "      <td>5.73</td>\n",
       "    </tr>\n",
       "    <tr>\n",
       "      <th>1</th>\n",
       "      <td>1</td>\n",
       "      <td>2023-01-10 18:00:00</td>\n",
       "      <td>5.71</td>\n",
       "      <td>4.14</td>\n",
       "    </tr>\n",
       "    <tr>\n",
       "      <th>2</th>\n",
       "      <td>1</td>\n",
       "      <td>2023-01-10 21:00:00</td>\n",
       "      <td>5.64</td>\n",
       "      <td>4.46</td>\n",
       "    </tr>\n",
       "    <tr>\n",
       "      <th>3</th>\n",
       "      <td>1</td>\n",
       "      <td>2023-01-11 00:00:00</td>\n",
       "      <td>4.96</td>\n",
       "      <td>3.82</td>\n",
       "    </tr>\n",
       "    <tr>\n",
       "      <th>4</th>\n",
       "      <td>1</td>\n",
       "      <td>2023-01-11 03:00:00</td>\n",
       "      <td>4.25</td>\n",
       "      <td>3.14</td>\n",
       "    </tr>\n",
       "    <tr>\n",
       "      <th>5</th>\n",
       "      <td>1</td>\n",
       "      <td>2023-01-11 06:00:00</td>\n",
       "      <td>3.45</td>\n",
       "      <td>2.64</td>\n",
       "    </tr>\n",
       "    <tr>\n",
       "      <th>6</th>\n",
       "      <td>1</td>\n",
       "      <td>2023-01-11 09:00:00</td>\n",
       "      <td>5.42</td>\n",
       "      <td>2.47</td>\n",
       "    </tr>\n",
       "    <tr>\n",
       "      <th>7</th>\n",
       "      <td>1</td>\n",
       "      <td>2023-01-11 12:00:00</td>\n",
       "      <td>7.66</td>\n",
       "      <td>1.99</td>\n",
       "    </tr>\n",
       "    <tr>\n",
       "      <th>8</th>\n",
       "      <td>1</td>\n",
       "      <td>2023-01-11 15:00:00</td>\n",
       "      <td>6.92</td>\n",
       "      <td>0.98</td>\n",
       "    </tr>\n",
       "    <tr>\n",
       "      <th>9</th>\n",
       "      <td>2</td>\n",
       "      <td>2023-01-10 15:00:00</td>\n",
       "      <td>7.31</td>\n",
       "      <td>3.57</td>\n",
       "    </tr>\n",
       "    <tr>\n",
       "      <th>10</th>\n",
       "      <td>2</td>\n",
       "      <td>2023-01-10 18:00:00</td>\n",
       "      <td>6.14</td>\n",
       "      <td>4.28</td>\n",
       "    </tr>\n",
       "    <tr>\n",
       "      <th>11</th>\n",
       "      <td>2</td>\n",
       "      <td>2023-01-10 21:00:00</td>\n",
       "      <td>4.17</td>\n",
       "      <td>3.25</td>\n",
       "    </tr>\n",
       "    <tr>\n",
       "      <th>12</th>\n",
       "      <td>2</td>\n",
       "      <td>2023-01-11 00:00:00</td>\n",
       "      <td>2.21</td>\n",
       "      <td>2.70</td>\n",
       "    </tr>\n",
       "    <tr>\n",
       "      <th>13</th>\n",
       "      <td>2</td>\n",
       "      <td>2023-01-11 03:00:00</td>\n",
       "      <td>1.51</td>\n",
       "      <td>3.02</td>\n",
       "    </tr>\n",
       "    <tr>\n",
       "      <th>14</th>\n",
       "      <td>2</td>\n",
       "      <td>2023-01-11 06:00:00</td>\n",
       "      <td>3.02</td>\n",
       "      <td>3.26</td>\n",
       "    </tr>\n",
       "    <tr>\n",
       "      <th>15</th>\n",
       "      <td>2</td>\n",
       "      <td>2023-01-11 09:00:00</td>\n",
       "      <td>4.47</td>\n",
       "      <td>3.09</td>\n",
       "    </tr>\n",
       "    <tr>\n",
       "      <th>16</th>\n",
       "      <td>2</td>\n",
       "      <td>2023-01-11 12:00:00</td>\n",
       "      <td>6.21</td>\n",
       "      <td>2.86</td>\n",
       "    </tr>\n",
       "    <tr>\n",
       "      <th>17</th>\n",
       "      <td>2</td>\n",
       "      <td>2023-01-11 15:00:00</td>\n",
       "      <td>6.40</td>\n",
       "      <td>2.30</td>\n",
       "    </tr>\n",
       "  </tbody>\n",
       "</table>\n",
       "</div>"
      ],
      "text/plain": [
       "    city_id                 time  temp  wind_speed\n",
       "0         1  2023-01-10 15:00:00  5.51        5.73\n",
       "1         1  2023-01-10 18:00:00  5.71        4.14\n",
       "2         1  2023-01-10 21:00:00  5.64        4.46\n",
       "3         1  2023-01-11 00:00:00  4.96        3.82\n",
       "4         1  2023-01-11 03:00:00  4.25        3.14\n",
       "5         1  2023-01-11 06:00:00  3.45        2.64\n",
       "6         1  2023-01-11 09:00:00  5.42        2.47\n",
       "7         1  2023-01-11 12:00:00  7.66        1.99\n",
       "8         1  2023-01-11 15:00:00  6.92        0.98\n",
       "9         2  2023-01-10 15:00:00  7.31        3.57\n",
       "10        2  2023-01-10 18:00:00  6.14        4.28\n",
       "11        2  2023-01-10 21:00:00  4.17        3.25\n",
       "12        2  2023-01-11 00:00:00  2.21        2.70\n",
       "13        2  2023-01-11 03:00:00  1.51        3.02\n",
       "14        2  2023-01-11 06:00:00  3.02        3.26\n",
       "15        2  2023-01-11 09:00:00  4.47        3.09\n",
       "16        2  2023-01-11 12:00:00  6.21        2.86\n",
       "17        2  2023-01-11 15:00:00  6.40        2.30"
      ]
     },
     "execution_count": 17,
     "metadata": {},
     "output_type": "execute_result"
    }
   ],
   "source": [
    "# See how it works:\n",
    "weather_df"
   ]
  },
  {
   "cell_type": "code",
   "execution_count": 18,
   "metadata": {},
   "outputs": [
    {
     "data": {
      "text/plain": [
       "18"
      ]
     },
     "execution_count": 18,
     "metadata": {},
     "output_type": "execute_result"
    }
   ],
   "source": [
    "# Alchemy Magic:\n",
    "weather_df.to_sql('weather',con=con,if_exists='append',index=False)"
   ]
  }
 ],
 "metadata": {
  "kernelspec": {
   "display_name": "Python 3",
   "language": "python",
   "name": "python3"
  },
  "language_info": {
   "codemirror_mode": {
    "name": "ipython",
    "version": 3
   },
   "file_extension": ".py",
   "mimetype": "text/x-python",
   "name": "python",
   "nbconvert_exporter": "python",
   "pygments_lexer": "ipython3",
   "version": "3.10.6 (tags/v3.10.6:9c7b4bd, Aug  1 2022, 21:53:49) [MSC v.1932 64 bit (AMD64)]"
  },
  "orig_nbformat": 4,
  "vscode": {
   "interpreter": {
    "hash": "ea1167cbcaad81cdbbc35255037ba90d13cf758e6bff12ff9eb1557202ecbe5c"
   }
  }
 },
 "nbformat": 4,
 "nbformat_minor": 2
}
