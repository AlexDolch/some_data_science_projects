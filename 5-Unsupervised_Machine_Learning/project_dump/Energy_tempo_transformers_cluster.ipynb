{
 "cells": [
  {
   "cell_type": "markdown",
   "id": "b477960a",
   "metadata": {},
   "source": [
    "# K-Means algorithm"
   ]
  },
  {
   "cell_type": "code",
   "execution_count": null,
   "id": "420592fd",
   "metadata": {},
   "outputs": [],
   "source": [
    "#pip install scikit-learn --upgrade"
   ]
  },
  {
   "cell_type": "code",
   "execution_count": null,
   "id": "d59bc5c4",
   "metadata": {},
   "outputs": [],
   "source": [
    "import pandas as pd\n",
    "import matplotlib.pyplot as plt\n",
    "import seaborn as sns\n",
    "from sklearn.cluster import KMeans\n",
    "from sklearn.metrics import silhouette_score"
   ]
  },
  {
   "cell_type": "markdown",
   "id": "3111320a",
   "metadata": {},
   "source": [
    "# Exploring 1000 song dataset"
   ]
  },
  {
   "cell_type": "code",
   "execution_count": null,
   "id": "37c161e1",
   "metadata": {},
   "outputs": [],
   "source": [
    "df_1000 = pd.read_csv(r'df_audio_features_1000.csv')"
   ]
  },
  {
   "cell_type": "code",
   "execution_count": null,
   "id": "fea0c9da",
   "metadata": {},
   "outputs": [],
   "source": [
    "df_1000.drop(['type','id','html'],axis=1, inplace=True)"
   ]
  },
  {
   "cell_type": "code",
   "execution_count": null,
   "id": "289bbd4f",
   "metadata": {},
   "outputs": [],
   "source": [
    "df_1000.set_index('name', inplace=True)"
   ]
  },
  {
   "cell_type": "code",
   "execution_count": null,
   "id": "3de48091",
   "metadata": {},
   "outputs": [],
   "source": [
    "df_1000"
   ]
  },
  {
   "cell_type": "code",
   "execution_count": null,
   "id": "b7623a20",
   "metadata": {
    "collapsed": true
   },
   "outputs": [],
   "source": [
    "df1000songs=df_1000[['energy','tempo']]\n",
    "df1000songs.head()"
   ]
  },
  {
   "cell_type": "markdown",
   "id": "b88c2dc5",
   "metadata": {},
   "source": [
    " ## 2. K-Means on unscaled Dataframe:\n",
    "I would suggest 5 n_clusters for 1000 songs here, since our \"bosses\" tell us to have like 200-250 songs per cluster.  \n",
    "With the larger dataset we can work with 250 songs. Read LMS 6.5 and 6.6 for deeper understanding.  "
   ]
  },
  {
   "cell_type": "code",
   "execution_count": null,
   "id": "b04c83e7",
   "metadata": {},
   "outputs": [],
   "source": [
    "# To get used to the \"raw numbers\":\n",
    "df1000songs.describe()"
   ]
  },
  {
   "cell_type": "code",
   "execution_count": null,
   "id": "f296ffdf",
   "metadata": {},
   "outputs": [],
   "source": [
    "# Simple plot of maybe related numbers:\n",
    "fig, ax = plt.subplots(figsize=(8, 6))\n",
    "sns.scatterplot(data=df1000songs, x='tempo', y='energy')\n",
    "plt.title('Looking for a relation between tempo and energy')\n",
    "plt.show()"
   ]
  },
  {
   "cell_type": "code",
   "execution_count": null,
   "id": "1c79a014",
   "metadata": {
    "collapsed": true
   },
   "outputs": [],
   "source": [
    "# Applying KMean on it:\n",
    "kmean_test = df1000songs[['energy','tempo']]\n",
    "test_model = KMeans(n_clusters=5)\n",
    "test_model.fit(kmean_test)\n",
    "test_model.cluster_centers_\n",
    "# Making another df out of it:\n",
    "model_centroids = pd.DataFrame(test_model.cluster_centers_)\n",
    "model_centroids.columns = ['energy','tempo']\n",
    "model_centroids"
   ]
  },
  {
   "cell_type": "code",
   "execution_count": null,
   "id": "645d37b3",
   "metadata": {},
   "outputs": [],
   "source": [
    "fig, ax = plt.subplots(figsize=(10, 8))\n",
    "\n",
    "plt.title('Comparing our centroids and our dataset')\n",
    "plt.xlabel('tempo')\n",
    "plt.ylabel('energy')\n",
    "sns.scatterplot(data=kmean_test, x='tempo', y='energy')\n",
    "sns.scatterplot(data=model_centroids, x='tempo', y='energy', color='red', s=250)\n",
    "plt.show()"
   ]
  },
  {
   "cell_type": "markdown",
   "id": "08b551fa",
   "metadata": {},
   "source": [
    " ## 2. K-Means on scaled Dataframe:"
   ]
  },
  {
   "cell_type": "code",
   "execution_count": null,
   "id": "85730529",
   "metadata": {
    "collapsed": true
   },
   "outputs": [],
   "source": [
    "df1000songs.describe()"
   ]
  },
  {
   "cell_type": "code",
   "execution_count": null,
   "id": "fc0f5baf",
   "metadata": {
    "collapsed": true
   },
   "outputs": [],
   "source": [
    "from sklearn.preprocessing import MinMaxScaler\n",
    "my_scaler = MinMaxScaler().set_output(transform='pandas')\n",
    "df1000songs_scaled = my_scaler.fit_transform(df1000songs)\n",
    "# let's see the first 5 observations after normalising the data\n",
    "df1000songs_scaled[:5]"
   ]
  },
  {
   "cell_type": "code",
   "execution_count": null,
   "id": "fdcf4cf7",
   "metadata": {
    "collapsed": true
   },
   "outputs": [],
   "source": [
    "df1000songs_scaled.describe()"
   ]
  },
  {
   "cell_type": "markdown",
   "id": "6841c870",
   "metadata": {},
   "source": [
    "# K-means"
   ]
  },
  {
   "cell_type": "code",
   "execution_count": null,
   "id": "8d413260",
   "metadata": {},
   "outputs": [],
   "source": [
    "from sklearn.cluster import KMeans\n",
    "\n",
    "# Based on the quick look to the scatter plot, \n",
    "# we are going to assume there can be 5 different species.\n",
    "my_model = KMeans(n_clusters=5)\n",
    "my_model.fit(df1000songs_scaled)"
   ]
  },
  {
   "cell_type": "code",
   "execution_count": null,
   "id": "6eb9ae1c",
   "metadata": {
    "scrolled": false
   },
   "outputs": [],
   "source": [
    "my_model.cluster_centers_"
   ]
  },
  {
   "cell_type": "code",
   "execution_count": null,
   "id": "5edb98d4",
   "metadata": {
    "collapsed": true
   },
   "outputs": [],
   "source": [
    "df1000songs_mod = pd.DataFrame(my_model.cluster_centers_)\n",
    "df1000songs_mod.columns= ['energy','tempo']\n",
    "df1000songs_mod"
   ]
  },
  {
   "cell_type": "markdown",
   "id": "9248a55e",
   "metadata": {},
   "source": [
    "# Explore our KMeans results"
   ]
  },
  {
   "cell_type": "code",
   "execution_count": null,
   "id": "52f34ba7",
   "metadata": {
    "collapsed": true
   },
   "outputs": [],
   "source": [
    "fig, ax = plt.subplots(figsize=(10, 8))\n",
    "plot_data = pd.DataFrame(df1000songs_scaled)\n",
    "plot_data.columns = ['energy','tempo']\n",
    "\n",
    "plt.title('Comparing our centroids and our dataset')\n",
    "plt.xlabel('tempo normalised')\n",
    "plt.ylabel('energy normalised')\n",
    "sns.scatterplot(data=plot_data, x='tempo', y='energy')\n",
    "sns.scatterplot(data=df1000songs_mod, x='tempo', y='energy', color='black', s=250)\n",
    "plt.show()"
   ]
  },
  {
   "cell_type": "code",
   "execution_count": null,
   "id": "71a9d213",
   "metadata": {},
   "outputs": [],
   "source": [
    "my_model.labels_"
   ]
  },
  {
   "cell_type": "markdown",
   "id": "81c0481a",
   "metadata": {},
   "source": [
    "# # Adding column clusters"
   ]
  },
  {
   "cell_type": "code",
   "execution_count": null,
   "id": "dc63ee66",
   "metadata": {
    "collapsed": true
   },
   "outputs": [],
   "source": [
    "df1000songs_scaled['cluster'] = my_model.labels_\n",
    "df1000songs_scaled"
   ]
  },
  {
   "cell_type": "code",
   "execution_count": null,
   "id": "5fb499b6",
   "metadata": {},
   "outputs": [],
   "source": [
    "# create plot dataframe\n",
    "# plot_data = pd.DataFrame(df1000songs_scaled)\n",
    "# plot_data.columns = ['energy','tempo']\n",
    "# plot_data['cluster'] = my_model.labels_\n",
    "\n",
    "# size and plot titles\n",
    "fig, ax = plt.subplots(figsize=(10, 8))\n",
    "plt.title('Visualising clusters')\n",
    "plt.xlabel('tempo normalised')\n",
    "plt.ylabel('energy normalised')          \n",
    "\n",
    "# scatter plot\n",
    "sns.scatterplot(data=df1000songs_scaled, x='tempo', y='energy',hue='cluster', palette='Set2', s=75)\n",
    "sns.scatterplot(data=df1000songs_mod, x='tempo', y='energy', color='black', s=100)\n",
    "plt.show()"
   ]
  },
  {
   "cell_type": "code",
   "execution_count": null,
   "id": "bf4016a6",
   "metadata": {},
   "outputs": [],
   "source": []
  }
 ],
 "metadata": {
  "kernelspec": {
   "display_name": "Python 3",
   "language": "python",
   "name": "python3"
  },
  "language_info": {
   "codemirror_mode": {
    "name": "ipython",
    "version": 3
   },
   "file_extension": ".py",
   "mimetype": "text/x-python",
   "name": "python",
   "nbconvert_exporter": "python",
   "pygments_lexer": "ipython3",
   "version": "3.10.6"
  },
  "vscode": {
   "interpreter": {
    "hash": "ea1167cbcaad81cdbbc35255037ba90d13cf758e6bff12ff9eb1557202ecbe5c"
   }
  }
 },
 "nbformat": 4,
 "nbformat_minor": 5
}
