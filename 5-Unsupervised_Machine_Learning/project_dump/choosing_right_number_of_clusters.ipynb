{
 "cells": [
  {
   "cell_type": "code",
   "execution_count": null,
   "id": "420592fd",
   "metadata": {},
   "outputs": [],
   "source": [
    "#pip install scikit-learn --upgrade"
   ]
  },
  {
   "cell_type": "code",
   "execution_count": null,
   "id": "d59bc5c4",
   "metadata": {},
   "outputs": [],
   "source": [
    "import pandas as pd\n",
    "import matplotlib.pyplot as plt\n",
    "import seaborn as sns\n",
    "from sklearn.cluster import KMeans\n",
    "from sklearn.metrics import silhouette_score"
   ]
  },
  {
   "cell_type": "code",
   "execution_count": null,
   "id": "e7d5dc6b",
   "metadata": {},
   "outputs": [],
   "source": [
    "from sklearn import set_config\n",
    "set_config(transform_output=\"pandas\")"
   ]
  },
  {
   "cell_type": "markdown",
   "id": "3111320a",
   "metadata": {},
   "source": [
    "# Exploring 1000 song dataset"
   ]
  },
  {
   "cell_type": "code",
   "execution_count": null,
   "id": "37c161e1",
   "metadata": {},
   "outputs": [],
   "source": [
    "df_1000 = pd.read_csv(r'df_audio_features_1000.csv')"
   ]
  },
  {
   "cell_type": "code",
   "execution_count": null,
   "id": "5c774c4f",
   "metadata": {},
   "outputs": [],
   "source": [
    "df_1000 ['title'] = df_1000['name'] + ' - ' + df_1000['artist']"
   ]
  },
  {
   "cell_type": "code",
   "execution_count": null,
   "id": "289bbd4f",
   "metadata": {},
   "outputs": [],
   "source": [
    "df_1000.set_index('title', inplace=True)"
   ]
  },
  {
   "cell_type": "code",
   "execution_count": null,
   "id": "fea0c9da",
   "metadata": {},
   "outputs": [],
   "source": [
    "df_1000.drop(['type','id','html','name','artist'],axis=1, inplace=True)"
   ]
  },
  {
   "cell_type": "code",
   "execution_count": null,
   "id": "3de48091",
   "metadata": {},
   "outputs": [],
   "source": [
    "df_1000"
   ]
  },
  {
   "cell_type": "code",
   "execution_count": null,
   "id": "b7623a20",
   "metadata": {},
   "outputs": [],
   "source": [
    "df1000songs=df_1000.copy()\n",
    "df1000songs"
   ]
  },
  {
   "cell_type": "markdown",
   "id": "b88c2dc5",
   "metadata": {},
   "source": [
    "# Scale data\n",
    "I would suggest 5 n_clusters for 1000 songs here, since our \"bosses\" tell us to have like 200-250 songs per cluster.  \n",
    "With the larger dataset we can work with 250 songs. Read LMS 6.5 and 6.6 for deeper understanding.  "
   ]
  },
  {
   "cell_type": "code",
   "execution_count": null,
   "id": "b04c83e7",
   "metadata": {
    "collapsed": true
   },
   "outputs": [],
   "source": [
    "# To get used to the \"raw numbers\":\n",
    "df1000songs.describe()"
   ]
  },
  {
   "cell_type": "code",
   "execution_count": null,
   "id": "f296ffdf",
   "metadata": {},
   "outputs": [],
   "source": [
    "from sklearn.preprocessing import MinMaxScaler\n",
    "\n",
    "my_scaler = MinMaxScaler()\n",
    "\n",
    "scaled_df = my_scaler.fit_transform(df1000songs)"
   ]
  },
  {
   "cell_type": "code",
   "execution_count": null,
   "id": "2a6a6f01",
   "metadata": {
    "collapsed": true
   },
   "outputs": [],
   "source": [
    "scaled_df"
   ]
  },
  {
   "cell_type": "markdown",
   "id": "f192c2fc",
   "metadata": {},
   "source": [
    "# Cluster creation"
   ]
  },
  {
   "cell_type": "code",
   "execution_count": null,
   "id": "50788db8",
   "metadata": {},
   "outputs": [],
   "source": [
    "from sklearn.cluster import KMeans\n",
    "\n",
    "my_model = KMeans(n_clusters=5, random_state=123)\n",
    "\n",
    "my_model.fit(scaled_df)"
   ]
  },
  {
   "cell_type": "markdown",
   "id": "bc5fda92",
   "metadata": {},
   "source": [
    "# Adding column clusters"
   ]
  },
  {
   "cell_type": "code",
   "execution_count": null,
   "id": "ccfea461",
   "metadata": {},
   "outputs": [],
   "source": [
    "scaled_df_without_clusters = scaled_df.copy()"
   ]
  },
  {
   "cell_type": "code",
   "execution_count": null,
   "id": "4b0db715",
   "metadata": {},
   "outputs": [],
   "source": [
    "scaled_df['cluster']  = my_model.labels_"
   ]
  },
  {
   "cell_type": "code",
   "execution_count": null,
   "id": "5ecd6cee",
   "metadata": {
    "collapsed": true
   },
   "outputs": [],
   "source": [
    "scaled_df.sample(5)"
   ]
  },
  {
   "cell_type": "markdown",
   "id": "559897f2",
   "metadata": {},
   "source": [
    "# Exploring the mean of data"
   ]
  },
  {
   "cell_type": "code",
   "execution_count": null,
   "id": "50575993",
   "metadata": {},
   "outputs": [],
   "source": [
    "clustered_centroids = scaled_df.groupby('cluster').mean()\n",
    "clustered_centroids"
   ]
  },
  {
   "cell_type": "markdown",
   "id": "11b37c2f",
   "metadata": {},
   "source": [
    "# Comparing clusters"
   ]
  },
  {
   "cell_type": "code",
   "execution_count": null,
   "id": "62ade79f",
   "metadata": {
    "collapsed": true
   },
   "outputs": [],
   "source": [
    "from sklearn.metrics import pairwise_distances\n",
    "\n",
    "distances_centroids = pairwise_distances(my_model.cluster_centers_)\n",
    "sns.heatmap(distances_centroids)"
   ]
  },
  {
   "cell_type": "markdown",
   "id": "7438bc62",
   "metadata": {},
   "source": [
    "# Making radar plot"
   ]
  },
  {
   "cell_type": "code",
   "execution_count": null,
   "id": "aea70006",
   "metadata": {},
   "outputs": [],
   "source": [
    "from math import pi\n",
    "radar_df = clustered_centroids.reset_index().rename(columns={'index':'cluster'})\n",
    "\n",
    "# ------- PART 1: Create background\n",
    " \n",
    "# number of variable\n",
    "categories= radar_df.columns.tolist()[1:]\n",
    "# list(df)[1:]\n",
    "N = len(categories)\n",
    "\n",
    "# What will be the angle of each axis in the plot? (we divide the plot / number of variable)\n",
    "angles = [n / float(N) * 2 * pi for n in range(N)]\n",
    "angles += angles[:1]\n",
    "\n",
    "# Initialise the spider plot\n",
    "ax = plt.subplot(111, polar=True)\n",
    "\n",
    "# If you want the first axis to be on top:\n",
    "ax.set_theta_offset(pi / 2)\n",
    "ax.set_theta_direction(-1)\n",
    "\n",
    "# Draw one axe per variable + add labels\n",
    "plt.xticks(angles[:-1], categories)\n",
    "\n",
    "# ------- PART 2: Add plots\n",
    " \n",
    "# Plot each individual = each line of the data\n",
    "# I don't make a loop, because plotting more than 3 groups makes the chart unreadable\n",
    "\n",
    "# Ind1\n",
    "values=radar_df.loc[0].drop('cluster').values.flatten().tolist()\n",
    "values += values[:1]\n",
    "ax.plot(angles, values, linewidth=1, linestyle=None, label=\"Cluster 0\")\n",
    "ax.fill(angles, values, 'b', alpha=0.1)\n",
    "\n",
    "# Ind2\n",
    "values=radar_df.loc[1].drop('cluster').values.flatten().tolist()\n",
    "values += values[:1]\n",
    "ax.plot(angles, values, linewidth=1, linestyle=None, label=\"Cluster 1\")\n",
    "ax.fill(angles, values, 'r', alpha=0.1)\n",
    "\n",
    "# Ind3\n",
    "values=radar_df.loc[2].drop('cluster').values.flatten().tolist()\n",
    "values += values[:1]\n",
    "ax.plot(angles, values, linewidth=1, linestyle=None, label=\"Cluster 2\")\n",
    "ax.fill(angles, values, 'b', alpha=0.1)\n",
    "\n",
    "# Ind4\n",
    "values=radar_df.loc[3].drop('cluster').values.flatten().tolist()\n",
    "values += values[:1]\n",
    "ax.plot(angles, values, linewidth=1, linestyle=None, label=\"Cluster 3\")\n",
    "ax.fill(angles, values, 'b', alpha=0.1)\n",
    "\n",
    "# Ind3\n",
    "values=radar_df.loc[4].drop('cluster').values.flatten().tolist()\n",
    "values += values[:1]\n",
    "ax.plot(angles, values, linewidth=1, linestyle=None, label=\"Cluster 4\")\n",
    "ax.fill(angles, values, 'b', alpha=0.1)\n",
    "\n",
    "# # Add legend\n",
    "plt.legend(loc='upper right', bbox_to_anchor=(0.1, 0.1))\n",
    "\n",
    "\n",
    "# Show the graph\n",
    "plt.show()"
   ]
  },
  {
   "cell_type": "markdown",
   "id": "c2cd5a4c",
   "metadata": {},
   "source": [
    "# Calculating inertia\n",
    "\n",
    "A for loop to compute the clustering for each value and append the inertia into a list should do the trick. We will use the range() function to generate a list of values between 1 and 30, and input this value to the n_clusters in each iteration:"
   ]
  },
  {
   "cell_type": "code",
   "execution_count": null,
   "id": "571e0dee",
   "metadata": {},
   "outputs": [],
   "source": [
    "max_clusters = 30\n",
    "\n",
    "inertia_list = []\n",
    "\n",
    "for i in range(1,max_clusters):\n",
    "  model_loop = KMeans(n_clusters=i,n_init=10,random_state=123)\n",
    "  model_loop.fit(scaled_df_without_clusters)\n",
    "  inertia_list.append(round(model_loop.inertia_,3))"
   ]
  },
  {
   "cell_type": "code",
   "execution_count": null,
   "id": "b8ca745c",
   "metadata": {},
   "outputs": [],
   "source": [
    "print(inertia_list)"
   ]
  },
  {
   "cell_type": "code",
   "execution_count": null,
   "id": "6dcf485c",
   "metadata": {},
   "outputs": [],
   "source": [
    "sns.set_theme(style='darkgrid')\n",
    "(sns.relplot(kind='line',x=range(1,max_clusters),y=inertia_list,marker='o',height=6,aspect=2)\n",
    "    .set(title=f\"Inertia score from a to {max_clusters} clusters\")\n",
    "    .set_axis_labels(\"Number of clusters\", \"Inertia score\")\n",
    ");"
   ]
  },
  {
   "cell_type": "markdown",
   "id": "790461ac",
   "metadata": {},
   "source": [
    "In this line plot, with the number of clusters (k) represented in the x axis and the inertia represented in the y axis, we are looking for an elbow, as in the moment where the decline stops being sharp to become smooth and gradual:\n",
    "\n",
    "One might argue that the elbow happens at k=4 or at k=5. It is a pity, since we are looking for a good value between 6 and 30. "
   ]
  },
  {
   "cell_type": "markdown",
   "id": "d65f81a5",
   "metadata": {},
   "source": [
    "# Silhouette score\n",
    "\n",
    "To compute the silhouette score, you can use Scikit-Learn’s silhouette_score() function, giving it all the instances in the dataset, and the labels they were assigned:"
   ]
  },
  {
   "cell_type": "code",
   "execution_count": null,
   "id": "4475b922",
   "metadata": {},
   "outputs": [],
   "source": [
    "silhouette_score(scaled_df_without_clusters,my_model.labels_)"
   ]
  },
  {
   "cell_type": "code",
   "execution_count": null,
   "id": "7aeb33a0",
   "metadata": {},
   "outputs": [],
   "source": [
    "max_clusters = 29\n",
    "\n",
    "silhouette_list = []\n",
    "\n",
    "for i in range(2,max_clusters):\n",
    "  model_loop = KMeans(n_clusters=i,n_init=10,random_state=123)\n",
    "  model_loop.fit(scaled_df_without_clusters)\n",
    "  score = silhouette_score(scaled_df_without_clusters,model_loop.labels_)\n",
    "  silhouette_list.append(round(score,2))"
   ]
  },
  {
   "cell_type": "markdown",
   "id": "bc8cad15",
   "metadata": {},
   "source": [
    "If you were able to plot the inertia values for all values of K from 1 to 30, you should be able to do the same for the silhouette coefficients. Here, you will not be looking for elbows, but for local maxima."
   ]
  },
  {
   "cell_type": "code",
   "execution_count": null,
   "id": "bf4016a6",
   "metadata": {},
   "outputs": [],
   "source": [
    "sns.set_theme(style='darkgrid')\n",
    "(sns.relplot(kind='line',x=range(2,max_clusters),y=silhouette_list,marker='o',height=6,aspect=2)\n",
    "    .set(title=f\"Silhouette score from a to {max_clusters} clusters\")\n",
    "    .set_axis_labels(\"Number of clusters\", \"Sillhouette score\")\n",
    ");"
   ]
  }
 ],
 "metadata": {
  "kernelspec": {
   "display_name": "Python 3",
   "language": "python",
   "name": "python3"
  },
  "language_info": {
   "codemirror_mode": {
    "name": "ipython",
    "version": 3
   },
   "file_extension": ".py",
   "mimetype": "text/x-python",
   "name": "python",
   "nbconvert_exporter": "python",
   "pygments_lexer": "ipython3",
   "version": "3.10.6 (tags/v3.10.6:9c7b4bd, Aug  1 2022, 21:53:49) [MSC v.1932 64 bit (AMD64)]"
  },
  "vscode": {
   "interpreter": {
    "hash": "ea1167cbcaad81cdbbc35255037ba90d13cf758e6bff12ff9eb1557202ecbe5c"
   }
  }
 },
 "nbformat": 4,
 "nbformat_minor": 5
}
