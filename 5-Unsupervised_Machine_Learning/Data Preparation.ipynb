{
 "cells": [
  {
   "attachments": {},
   "cell_type": "markdown",
   "metadata": {},
   "source": [
    "# **Data Preparation**"
   ]
  },
  {
   "attachments": {},
   "cell_type": "markdown",
   "metadata": {},
   "source": [
    "So, we have our .csv files of the songs, one time with 1000, the other time with 5000 songs and what we maybe come up with later to have fun.\n",
    "Our learning platform also provides us with further information about the columns:\n",
    "\n",
    "**acousticness** - A confidence measure from 0.0 to 1.0 of whether the track is acoustic. 1.0 represents high confidence the track is acoustic. - *Float*  \n",
    "**danceability** - Danceability describes how suitable a track is for dancing based on a combination of musical elements including tempo, rhythm stability, beat strength, and overall regularity. A value of 0.0 is least danceable and 1.0 is most danceable.\t- *Float*  \n",
    "**duration_ms** - The duration of the track in milliseconds. - *Integer*  \n",
    "**energy** - Energy is a measure from 0.0 to 1.0 and represents a perceptual measure of intensity and activity. Typically, energetic tracks feel fast, loud, and noisy. For example, death metal has high energy, while a Bach prelude scores low on the scale. Perceptual features contributing to this attribute include dynamic range, perceived loudness, timbre, onset rate, and general entropy. - *Float*  \n",
    "**instrumentalness** - Predicts whether a track contains no vocals. “Ooh” and “aah” sounds are treated as instrumental in this context. Rap or spoken word tracks are clearly “vocal”. The closer the instrumentalness value is to 1.0, the greater likelihood the track contains no vocal content. Values above 0.5 are intended to represent instrumental tracks, but confidence is higher as the value approaches 1.0. - *Float*  \n",
    "**key** - The key the track is in. Integers map to pitches using standard Pitch Class notation . E.g. 0 = C, 1 = C♯/D♭, 2 = D, and so on. - *Integer*  \n",
    "**liveness** Detects the presence of an audience in the recording. Higher liveness values represent an increased probability that the track was performed live. A value above 0.8 provides strong likelihood that the track is live. - *Float*  \n",
    "**loudness** - The overall loudness of a track in decibels (dB). Loudness values are averaged across the entire track and are useful for comparing relative loudness of tracks. Loudness is the quality of a sound that is the primary psychological correlate of physical strength (amplitude). Values typically range between -60 and 0 db. - *Float*  \n",
    "**mode** - Mode indicates the modality (major or minor) of a track, the type of scale from which its melodic content is derived. Major is represented by 1 and minor is 0. - *Integer*  \n",
    "**speechiness** - Speechiness detects the presence of spoken words in a track. The more exclusively speech-like the recording (e.g. talk show, audio book, poetry), the closer to 1.0 the attribute value. Values above 0.66 describe tracks that are probably made entirely of spoken words. Values between 0.33 and 0.66 describe tracks that may contain both music and speech, either in sections or layered, including such cases as rap music. Values below 0.33 most likely represent music and other non-speech-like tracks. - *Float*  \n",
    "**tempo** - The overall estimated tempo of a track in beats per minute (BPM). In musical terminology, tempo is the speed or pace of a given piece and derives directly from the average beat duration. - *Float*  \n",
    "**time_signature** - An estimated overall time signature of a track. The time signature (meter) is a notational convention to specify how many beats are in each bar (or measure). - *Integer*  \n",
    "**valence** - A measure from 0.0 to 1.0 describing the musical positiveness conveyed by a track. Tracks with high valence sound more positive (e.g. happy, cheerful, euphoric), while tracks with low valence sound more negative (e.g. sad, depressed, angry).\t*Float*  \n",
    "\n",
    "We now have to choose which columns are worth to keep based on these informations and our own thoughts about it and store them in a new dataframe we even might want to turn into a .csv."
   ]
  },
  {
   "attachments": {},
   "cell_type": "markdown",
   "metadata": {},
   "source": [
    "## **1. Importing the needed modules and .csv files**"
   ]
  },
  {
   "cell_type": "code",
   "execution_count": null,
   "metadata": {},
   "outputs": [],
   "source": [
    "# We want pandas and our scaler:\n",
    "import pandas as pd\n",
    "from sklearn.preprocessing import MinMaxScaler\n",
    "from sklearn.preprocessing import StandardScaler\n",
    "from sklearn.preprocessing import RobustScaler\n",
    "from sklearn.preprocessing import PowerTransformer\n",
    "from sklearn.preprocessing import QuantileTransformer\n",
    "# We keep .csv files in same path as our project so we easy navigate to them:\n",
    "df_1000 = pd.read_csv(r'df_audio_features_1000.csv')\n",
    "df_5000 = pd.read_csv(r'df_audio_features_5000.csv',skipinitialspace=True)\n"
   ]
  },
  {
   "attachments": {},
   "cell_type": "markdown",
   "metadata": {},
   "source": [
    "## **2. Inspecting the DataFrame to Clean it** "
   ]
  },
  {
   "cell_type": "code",
   "execution_count": null,
   "metadata": {},
   "outputs": [],
   "source": [
    "#Basic pandas stuff:\n",
    "# df_1000.info() # Put/Remove comment to read/see\n",
    "# df_1000.sample(5) # Put/Remove comment to read/see\n",
    "# df_5000.sample(5) # Put/Remove comment to read/see\n",
    "# df_5000['duration_ms'].mean() #reasoning for smaller clusters later on...\n"
   ]
  },
  {
   "attachments": {},
   "cell_type": "markdown",
   "metadata": {},
   "source": [
    "### Conclusion here:\n",
    "* we want to combine artist and name into one column (might be covers on some datasets) \n",
    "* drop the other 2 columns with Dtype = object ('id','html'), we need only numbers...\n",
    "* drop 'key', 'mode', 'type', 'duration_ms', 'time_signature', since they seem meaningless for us."
   ]
  },
  {
   "attachments": {},
   "cell_type": "markdown",
   "metadata": {},
   "source": [
    "## **3. Preparing the data:**\n",
    "### **3.1 1000 songs df:**"
   ]
  },
  {
   "cell_type": "code",
   "execution_count": null,
   "metadata": {},
   "outputs": [],
   "source": [
    "# New column 'title' to get rid of 2 objects:\n",
    "df_1000['title'] = df_1000['name'] + ' - ' + df_1000['artist']\n",
    "# Drop a bunch of stuff:\n",
    "# df_1000.drop(['artist','name','id','html','type','duration_ms']) # cant find the freaking typo - can aswell create a sorted:\n",
    "clustersongs_1000 = df_1000[['title','danceability','energy','key','loudness','mode','speechiness','acousticness','instrumentalness','liveness','time_signature','valence','tempo']]\n",
    "# clustersongs_1000.sample(1) # See how it worked\n",
    "clustersongs_1000.set_index('title', inplace=True)\n",
    "# convert into (unmodified) .csv to work with in exploration:\n",
    "clustersongs_1000.to_csv('1000songs.csv')\n"
   ]
  },
  {
   "attachments": {},
   "cell_type": "markdown",
   "metadata": {},
   "source": [
    "### **3.2 5000 songs df**:"
   ]
  },
  {
   "cell_type": "code",
   "execution_count": null,
   "metadata": {},
   "outputs": [],
   "source": [
    "df_5000.columns = df_5000.columns.str.strip()\n",
    "df_5000['title'] = df_5000['name'] + ' - ' + df_5000['artist']\n",
    "clustersongs_5000 = df_5000[['title','danceability','energy','key','loudness','mode','speechiness','acousticness','instrumentalness','liveness','time_signature','valence','tempo']]\n",
    "clustersongs_5000.set_index('title', inplace=True)\n",
    "clustersongs_5000.to_csv('5000songs.csv')"
   ]
  },
  {
   "attachments": {},
   "cell_type": "markdown",
   "metadata": {},
   "source": [
    "## **4. Different Scaler:**"
   ]
  },
  {
   "attachments": {},
   "cell_type": "markdown",
   "metadata": {},
   "source": [
    "### **4.1 MinMax:**"
   ]
  },
  {
   "cell_type": "code",
   "execution_count": null,
   "metadata": {},
   "outputs": [],
   "source": [
    "# Taken from learning platform:\n",
    "# initialize the transformer (optionally, set parameters)\n",
    "my_min_max = MinMaxScaler(feature_range=(0,1)) \n",
    "# fit the transformer to the data\n",
    "my_min_max.fit(clustersongs_1000)\n",
    "# use the transformer to transform the data\n",
    "minmax_1000_df = my_min_max.transform(clustersongs_1000) \n",
    "# reconvert the transformed data back to a DataFrame\n",
    "minmax_1000 = pd.DataFrame(minmax_1000_df,\n",
    "              index=clustersongs_1000.index,\n",
    "              columns=clustersongs_1000.columns)\n",
    "# make .csv for next notebook\n",
    "minmax_1000.to_csv('1000min_max.csv')\n",
    "minmax_1000.sample(5)\n"
   ]
  },
  {
   "attachments": {},
   "cell_type": "markdown",
   "metadata": {},
   "source": [
    "### **4.2 Standart:**"
   ]
  },
  {
   "cell_type": "code",
   "execution_count": null,
   "metadata": {},
   "outputs": [],
   "source": [
    "standart = StandardScaler(with_mean=True, with_std=True).set_output(transform='pandas')\n",
    "scaled_1000 = standart.fit_transform(clustersongs_1000)\n",
    "scaled_1000.to_csv('1000standart.csv')\n",
    "scaled_1000.sample(5)"
   ]
  },
  {
   "attachments": {},
   "cell_type": "markdown",
   "metadata": {},
   "source": [
    "### **4.3 Robust:**"
   ]
  },
  {
   "cell_type": "code",
   "execution_count": null,
   "metadata": {},
   "outputs": [],
   "source": [
    "robust = RobustScaler(with_centering=True, with_scaling=True, quantile_range=(25.0, 75.0), copy=True, unit_variance=False).set_output(transform='pandas')\n",
    "robust_1000 = robust.fit_transform(clustersongs_1000)\n",
    "robust_1000.to_csv('1000robust.csv')\n",
    "robust_1000.sample(5)"
   ]
  },
  {
   "attachments": {},
   "cell_type": "markdown",
   "metadata": {},
   "source": [
    "### **4.4 Quantile:**"
   ]
  },
  {
   "cell_type": "code",
   "execution_count": null,
   "metadata": {},
   "outputs": [],
   "source": [
    "quantile = QuantileTransformer(n_quantiles=10, output_distribution='uniform', ignore_implicit_zeros=False, subsample=10000, random_state=None, copy=True).set_output(transform='pandas')\n",
    "quantile_1000 = quantile.fit_transform(clustersongs_1000)\n",
    "quantile_1000.to_csv('1000quantile.csv')\n",
    "quantile_1000.sample(5)"
   ]
  },
  {
   "attachments": {},
   "cell_type": "markdown",
   "metadata": {},
   "source": [
    "### **4.5 Power:**"
   ]
  },
  {
   "cell_type": "code",
   "execution_count": null,
   "metadata": {},
   "outputs": [],
   "source": [
    "power = PowerTransformer(method='yeo-johnson', standardize=True, copy=True).set_output(transform='pandas')\n",
    "power_1000 = power.fit_transform(clustersongs_1000)\n",
    "power_1000.to_csv('1000power.csv')\n",
    "power_1000.sample(5)"
   ]
  },
  {
   "attachments": {},
   "cell_type": "markdown",
   "metadata": {},
   "source": [
    "## **5. Different Scaler for 5000 songs:**"
   ]
  },
  {
   "cell_type": "code",
   "execution_count": null,
   "metadata": {},
   "outputs": [],
   "source": [
    "# Taken from above with 1000 songs:\n",
    "# MinMax:\n",
    "my_min_max.fit(clustersongs_5000)\n",
    "minmax_5000_df = my_min_max.transform(clustersongs_5000) \n",
    "minmax_5000 = pd.DataFrame(minmax_5000_df,\n",
    "              index=clustersongs_5000.index,\n",
    "              columns=clustersongs_5000.columns)\n",
    "minmax_5000.to_csv('5000min_max.csv')\n",
    "# Standart:\n",
    "scaled_5000 = standart.fit_transform(clustersongs_5000)\n",
    "scaled_5000.to_csv('5000standart.csv')\n",
    "# Robust:\n",
    "robust_5000 = robust.fit_transform(clustersongs_5000)\n",
    "robust_5000.to_csv('5000robust.csv')\n",
    "# Quantile:\n",
    "quantile_5000 = quantile.fit_transform(clustersongs_5000)\n",
    "quantile_5000.to_csv('5000quantile.csv')\n",
    "# Power:\n",
    "power_5000 = power.fit_transform(clustersongs_5000)\n",
    "power_5000.to_csv('5000power.csv')\n"
   ]
  }
 ],
 "metadata": {
  "kernelspec": {
   "display_name": "Python 3",
   "language": "python",
   "name": "python3"
  },
  "language_info": {
   "codemirror_mode": {
    "name": "ipython",
    "version": 3
   },
   "file_extension": ".py",
   "mimetype": "text/x-python",
   "name": "python",
   "nbconvert_exporter": "python",
   "pygments_lexer": "ipython3",
   "version": "3.10.6 (tags/v3.10.6:9c7b4bd, Aug  1 2022, 21:53:49) [MSC v.1932 64 bit (AMD64)]"
  },
  "orig_nbformat": 4,
  "vscode": {
   "interpreter": {
    "hash": "ea1167cbcaad81cdbbc35255037ba90d13cf758e6bff12ff9eb1557202ecbe5c"
   }
  }
 },
 "nbformat": 4,
 "nbformat_minor": 2
}
