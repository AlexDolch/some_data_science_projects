{
 "cells": [
  {
   "attachments": {},
   "cell_type": "markdown",
   "metadata": {},
   "source": [
    "# **Project 2 WBS Coding School**   \n",
    "# **The benefits of discounting products**"
   ]
  },
  {
   "cell_type": "markdown",
   "metadata": {},
   "source": [
    "## 1. Importing the used modules and loading the original .csv files:"
   ]
  },
  {
   "cell_type": "code",
   "execution_count": 1,
   "metadata": {},
   "outputs": [],
   "source": [
    "import pandas as pd\n",
    "import seaborn as sns\n",
    "import matplotlib.pyplot as plt\n",
    "\n",
    "\n",
    "#To reduce repetitive code, an \"overview\" function to investigate DataFrames.\n",
    "def overview(df):\n",
    "\n",
    "    # General Information.\n",
    "    print(\"General Information:\")\n",
    "    display(df.info())\n",
    "\n",
    "    # Basic description.\n",
    "    print(\"Basic statistical description:\")\n",
    "    display(df.describe())\n",
    "\n",
    "    # Unique Values for each column.\n",
    "    print(\"Uniques per column:\")\n",
    "    display(df.nunique())\n",
    "\n",
    "    # How many duplicates.\n",
    "    print(\"Sum of duplicates:\")\n",
    "    display(df.duplicated().sum())\n",
    "\n",
    "    # And how many missing values.\n",
    "    print(\"Sum of missing data per column:\")\n",
    "    display(df.isna().sum())\n",
    "    \n",
    "    # A few samples of the DataFrame.\n",
    "    print(\"Sample:\")\n",
    "    display(df.sample(10))\n",
    "\n",
    "\n",
    "# use ur own path or take the uploaded files!!!, orderlines as ol, orders as o, products as pro\n",
    "# prolly not needed: brands_df = pd.read_csv(r'C:\\Users\\AlexD\\Desktop\\WBS Bootcamp\\Portfolioprojekte\\Project 2 - Data Cleaning\\Original CSV´s\\brands.csv')\n",
    "# ol_df = pd.read_csv(r'C:\\Users\\AlexD\\Desktop\\WBS Bootcamp\\Portfolioprojekte\\Project 2 - Data Cleaning\\Original CSV´s\\orderlines.csv')\n",
    "# o_df =  pd.read_csv(r'C:\\Users\\AlexD\\Desktop\\WBS Bootcamp\\Portfolioprojekte\\Project 2 - Data Cleaning\\Original CSV´s\\orders.csv')\n",
    "# pro_df = pd.read_csv(r'C:\\Users\\AlexD\\Desktop\\WBS Bootcamp\\Portfolioprojekte\\Project 2 - Data Cleaning\\Original CSV´s\\products.csv')\n",
    "\n",
    "# all the url:\n",
    "url = \"https://drive.google.com/file/d/1FYhN_2AzTBFuWcfHaRuKcuCE6CWXsWtG/view?usp=sharing\" # orderlines.csv\n",
    "path = \"https://drive.google.com/uc?export=download&id=\"+url.split(\"/\")[-2]\n",
    "ol_df = pd.read_csv(path)\n",
    "url = \"https://drive.google.com/file/d/1Vu0q91qZw6lqhIqbjoXYvYAQTmVHh6uZ/view?usp=sharing\" # orders.csv\n",
    "path = \"https://drive.google.com/uc?export=download&id=\"+url.split(\"/\")[-2]\n",
    "o_df = pd.read_csv(path)\n",
    "url = \"https://drive.google.com/file/d/1afxwDXfl-7cQ_qLwyDitfcCx3u7WMvkU/view?usp=sharing\" # products.csv\n",
    "path = \"https://drive.google.com/uc?export=download&id=\"+url.split(\"/\")[-2]\n",
    "pro_df = pd.read_csv(path)\n"
   ]
  },
  {
   "attachments": {},
   "cell_type": "markdown",
   "metadata": {},
   "source": [
    "## 2. First exploration of the three important dataframes: orderlines, orders and products:\n",
    "\n",
    "using .info, .describe, .nunique, .sample, sum of .duplicated and .isna - to get a short overview over the different dataframes, aswell as dropping useless/corrupted columns.\n",
    "\n",
    "Keeping in mind our questions:\n",
    "* How many orders are there?\n",
    "* How many products are there?\n",
    "* What period of time do these orders comprise?\n",
    "* How many orders are Completed?\n",
    "* How should revenue be computed?"
   ]
  },
  {
   "cell_type": "markdown",
   "metadata": {},
   "source": [
    "### orderlines.csv – Every row represents each one of the different products involved in an order.  \n",
    "* id – a unique identifier for each row in this file  \n",
    "* id_order – corresponds to orders.order_id  \n",
    "* product_id – an old identifier for each product, nowadays not in use  \n",
    "* product_quantity – how many units of that product were purchased on that order  \n",
    "* sku – stock keeping unit: a unique identifier for each product  \n",
    "* unit_price – the unitary price (in euros) of each product at the moment of placing that order  \n",
    "* date – timestamp for the processing of that product  "
   ]
  },
  {
   "cell_type": "code",
   "execution_count": 2,
   "metadata": {},
   "outputs": [
    {
     "name": "stdout",
     "output_type": "stream",
     "text": [
      "General Information:\n",
      "<class 'pandas.core.frame.DataFrame'>\n",
      "RangeIndex: 293983 entries, 0 to 293982\n",
      "Data columns (total 7 columns):\n",
      " #   Column            Non-Null Count   Dtype \n",
      "---  ------            --------------   ----- \n",
      " 0   id                293983 non-null  int64 \n",
      " 1   id_order          293983 non-null  int64 \n",
      " 2   product_id        293983 non-null  int64 \n",
      " 3   product_quantity  293983 non-null  int64 \n",
      " 4   sku               293983 non-null  object\n",
      " 5   unit_price        293983 non-null  object\n",
      " 6   date              293983 non-null  object\n",
      "dtypes: int64(4), object(3)\n",
      "memory usage: 15.7+ MB\n"
     ]
    },
    {
     "data": {
      "text/plain": [
       "None"
      ]
     },
     "metadata": {},
     "output_type": "display_data"
    },
    {
     "name": "stdout",
     "output_type": "stream",
     "text": [
      "Basic statistical description:\n"
     ]
    },
    {
     "data": {
      "text/html": [
       "<div>\n",
       "<style scoped>\n",
       "    .dataframe tbody tr th:only-of-type {\n",
       "        vertical-align: middle;\n",
       "    }\n",
       "\n",
       "    .dataframe tbody tr th {\n",
       "        vertical-align: top;\n",
       "    }\n",
       "\n",
       "    .dataframe thead th {\n",
       "        text-align: right;\n",
       "    }\n",
       "</style>\n",
       "<table border=\"1\" class=\"dataframe\">\n",
       "  <thead>\n",
       "    <tr style=\"text-align: right;\">\n",
       "      <th></th>\n",
       "      <th>id</th>\n",
       "      <th>id_order</th>\n",
       "      <th>product_id</th>\n",
       "      <th>product_quantity</th>\n",
       "    </tr>\n",
       "  </thead>\n",
       "  <tbody>\n",
       "    <tr>\n",
       "      <th>count</th>\n",
       "      <td>2.939830e+05</td>\n",
       "      <td>293983.000000</td>\n",
       "      <td>293983.0</td>\n",
       "      <td>293983.000000</td>\n",
       "    </tr>\n",
       "    <tr>\n",
       "      <th>mean</th>\n",
       "      <td>1.397918e+06</td>\n",
       "      <td>419999.116544</td>\n",
       "      <td>0.0</td>\n",
       "      <td>1.121126</td>\n",
       "    </tr>\n",
       "    <tr>\n",
       "      <th>std</th>\n",
       "      <td>1.530096e+05</td>\n",
       "      <td>66344.486479</td>\n",
       "      <td>0.0</td>\n",
       "      <td>3.396569</td>\n",
       "    </tr>\n",
       "    <tr>\n",
       "      <th>min</th>\n",
       "      <td>1.119109e+06</td>\n",
       "      <td>241319.000000</td>\n",
       "      <td>0.0</td>\n",
       "      <td>1.000000</td>\n",
       "    </tr>\n",
       "    <tr>\n",
       "      <th>25%</th>\n",
       "      <td>1.262542e+06</td>\n",
       "      <td>362258.500000</td>\n",
       "      <td>0.0</td>\n",
       "      <td>1.000000</td>\n",
       "    </tr>\n",
       "    <tr>\n",
       "      <th>50%</th>\n",
       "      <td>1.406940e+06</td>\n",
       "      <td>425956.000000</td>\n",
       "      <td>0.0</td>\n",
       "      <td>1.000000</td>\n",
       "    </tr>\n",
       "    <tr>\n",
       "      <th>75%</th>\n",
       "      <td>1.531322e+06</td>\n",
       "      <td>478657.000000</td>\n",
       "      <td>0.0</td>\n",
       "      <td>1.000000</td>\n",
       "    </tr>\n",
       "    <tr>\n",
       "      <th>max</th>\n",
       "      <td>1.650203e+06</td>\n",
       "      <td>527401.000000</td>\n",
       "      <td>0.0</td>\n",
       "      <td>999.000000</td>\n",
       "    </tr>\n",
       "  </tbody>\n",
       "</table>\n",
       "</div>"
      ],
      "text/plain": [
       "                 id       id_order  product_id  product_quantity\n",
       "count  2.939830e+05  293983.000000    293983.0     293983.000000\n",
       "mean   1.397918e+06  419999.116544         0.0          1.121126\n",
       "std    1.530096e+05   66344.486479         0.0          3.396569\n",
       "min    1.119109e+06  241319.000000         0.0          1.000000\n",
       "25%    1.262542e+06  362258.500000         0.0          1.000000\n",
       "50%    1.406940e+06  425956.000000         0.0          1.000000\n",
       "75%    1.531322e+06  478657.000000         0.0          1.000000\n",
       "max    1.650203e+06  527401.000000         0.0        999.000000"
      ]
     },
     "metadata": {},
     "output_type": "display_data"
    },
    {
     "name": "stdout",
     "output_type": "stream",
     "text": [
      "Uniques per column:\n"
     ]
    },
    {
     "data": {
      "text/plain": [
       "id                  293983\n",
       "id_order            204855\n",
       "product_id               1\n",
       "product_quantity        67\n",
       "sku                   7951\n",
       "unit_price           11329\n",
       "date                251631\n",
       "dtype: int64"
      ]
     },
     "metadata": {},
     "output_type": "display_data"
    },
    {
     "name": "stdout",
     "output_type": "stream",
     "text": [
      "Sum of duplicates:\n"
     ]
    },
    {
     "data": {
      "text/plain": [
       "0"
      ]
     },
     "metadata": {},
     "output_type": "display_data"
    },
    {
     "name": "stdout",
     "output_type": "stream",
     "text": [
      "Sum of missing data per column:\n"
     ]
    },
    {
     "data": {
      "text/plain": [
       "id                  0\n",
       "id_order            0\n",
       "product_id          0\n",
       "product_quantity    0\n",
       "sku                 0\n",
       "unit_price          0\n",
       "date                0\n",
       "dtype: int64"
      ]
     },
     "metadata": {},
     "output_type": "display_data"
    },
    {
     "name": "stdout",
     "output_type": "stream",
     "text": [
      "Sample:\n"
     ]
    },
    {
     "data": {
      "text/html": [
       "<div>\n",
       "<style scoped>\n",
       "    .dataframe tbody tr th:only-of-type {\n",
       "        vertical-align: middle;\n",
       "    }\n",
       "\n",
       "    .dataframe tbody tr th {\n",
       "        vertical-align: top;\n",
       "    }\n",
       "\n",
       "    .dataframe thead th {\n",
       "        text-align: right;\n",
       "    }\n",
       "</style>\n",
       "<table border=\"1\" class=\"dataframe\">\n",
       "  <thead>\n",
       "    <tr style=\"text-align: right;\">\n",
       "      <th></th>\n",
       "      <th>id</th>\n",
       "      <th>id_order</th>\n",
       "      <th>product_id</th>\n",
       "      <th>product_quantity</th>\n",
       "      <th>sku</th>\n",
       "      <th>unit_price</th>\n",
       "      <th>date</th>\n",
       "    </tr>\n",
       "  </thead>\n",
       "  <tbody>\n",
       "    <tr>\n",
       "      <th>105685</th>\n",
       "      <td>1320163</td>\n",
       "      <td>390496</td>\n",
       "      <td>0</td>\n",
       "      <td>1</td>\n",
       "      <td>PAC0653</td>\n",
       "      <td>159.58</td>\n",
       "      <td>2017-08-18 17:12:02</td>\n",
       "    </tr>\n",
       "    <tr>\n",
       "      <th>45822</th>\n",
       "      <td>1213826</td>\n",
       "      <td>339340</td>\n",
       "      <td>0</td>\n",
       "      <td>1</td>\n",
       "      <td>QNA0149</td>\n",
       "      <td>307.43</td>\n",
       "      <td>2017-03-26 19:18:38</td>\n",
       "    </tr>\n",
       "    <tr>\n",
       "      <th>165975</th>\n",
       "      <td>1444464</td>\n",
       "      <td>442432</td>\n",
       "      <td>0</td>\n",
       "      <td>1</td>\n",
       "      <td>BOS0060</td>\n",
       "      <td>26.09</td>\n",
       "      <td>2017-11-25 01:24:49</td>\n",
       "    </tr>\n",
       "    <tr>\n",
       "      <th>19865</th>\n",
       "      <td>1164446</td>\n",
       "      <td>317056</td>\n",
       "      <td>0</td>\n",
       "      <td>1</td>\n",
       "      <td>APP1216</td>\n",
       "      <td>138.99</td>\n",
       "      <td>2017-01-30 01:13:56</td>\n",
       "    </tr>\n",
       "    <tr>\n",
       "      <th>86751</th>\n",
       "      <td>1285665</td>\n",
       "      <td>374158</td>\n",
       "      <td>0</td>\n",
       "      <td>1</td>\n",
       "      <td>TWS0074</td>\n",
       "      <td>36.99</td>\n",
       "      <td>2017-07-07 11:54:36</td>\n",
       "    </tr>\n",
       "    <tr>\n",
       "      <th>613</th>\n",
       "      <td>1120287</td>\n",
       "      <td>300126</td>\n",
       "      <td>0</td>\n",
       "      <td>1</td>\n",
       "      <td>LIF0112</td>\n",
       "      <td>61.74</td>\n",
       "      <td>2017-01-01 23:57:22</td>\n",
       "    </tr>\n",
       "    <tr>\n",
       "      <th>26232</th>\n",
       "      <td>1177182</td>\n",
       "      <td>322617</td>\n",
       "      <td>0</td>\n",
       "      <td>1</td>\n",
       "      <td>APP1706</td>\n",
       "      <td>352.06</td>\n",
       "      <td>2017-02-11 15:08:17</td>\n",
       "    </tr>\n",
       "    <tr>\n",
       "      <th>203743</th>\n",
       "      <td>1499069</td>\n",
       "      <td>464060</td>\n",
       "      <td>0</td>\n",
       "      <td>1</td>\n",
       "      <td>APP0662</td>\n",
       "      <td>144.00</td>\n",
       "      <td>2017-12-15 20:20:46</td>\n",
       "    </tr>\n",
       "    <tr>\n",
       "      <th>146592</th>\n",
       "      <td>1406208</td>\n",
       "      <td>426131</td>\n",
       "      <td>0</td>\n",
       "      <td>1</td>\n",
       "      <td>APP1922</td>\n",
       "      <td>162.00</td>\n",
       "      <td>2017-11-13 00:04:05</td>\n",
       "    </tr>\n",
       "    <tr>\n",
       "      <th>219353</th>\n",
       "      <td>1529114</td>\n",
       "      <td>477977</td>\n",
       "      <td>0</td>\n",
       "      <td>2</td>\n",
       "      <td>SNS0019</td>\n",
       "      <td>170.05</td>\n",
       "      <td>2017-12-31 16:28:33</td>\n",
       "    </tr>\n",
       "  </tbody>\n",
       "</table>\n",
       "</div>"
      ],
      "text/plain": [
       "             id  id_order  product_id  product_quantity      sku unit_price  \\\n",
       "105685  1320163    390496           0                 1  PAC0653     159.58   \n",
       "45822   1213826    339340           0                 1  QNA0149     307.43   \n",
       "165975  1444464    442432           0                 1  BOS0060      26.09   \n",
       "19865   1164446    317056           0                 1  APP1216     138.99   \n",
       "86751   1285665    374158           0                 1  TWS0074      36.99   \n",
       "613     1120287    300126           0                 1  LIF0112      61.74   \n",
       "26232   1177182    322617           0                 1  APP1706     352.06   \n",
       "203743  1499069    464060           0                 1  APP0662     144.00   \n",
       "146592  1406208    426131           0                 1  APP1922     162.00   \n",
       "219353  1529114    477977           0                 2  SNS0019     170.05   \n",
       "\n",
       "                       date  \n",
       "105685  2017-08-18 17:12:02  \n",
       "45822   2017-03-26 19:18:38  \n",
       "165975  2017-11-25 01:24:49  \n",
       "19865   2017-01-30 01:13:56  \n",
       "86751   2017-07-07 11:54:36  \n",
       "613     2017-01-01 23:57:22  \n",
       "26232   2017-02-11 15:08:17  \n",
       "203743  2017-12-15 20:20:46  \n",
       "146592  2017-11-13 00:04:05  \n",
       "219353  2017-12-31 16:28:33  "
      ]
     },
     "metadata": {},
     "output_type": "display_data"
    }
   ],
   "source": [
    "overview(ol_df)\n",
    "# we see there: unit-price Dtype should be \"int\", date Dtype \"date\""
   ]
  },
  {
   "cell_type": "code",
   "execution_count": 3,
   "metadata": {},
   "outputs": [],
   "source": [
    "# dropping the useless old id:\n",
    "ol_df.drop(['product_id'], axis=1, inplace=True)"
   ]
  },
  {
   "cell_type": "code",
   "execution_count": 4,
   "metadata": {},
   "outputs": [],
   "source": [
    "# date should be datetime:\n",
    "ol_df['date'] = pd.to_datetime(ol_df['date'])"
   ]
  },
  {
   "cell_type": "code",
   "execution_count": 5,
   "metadata": {},
   "outputs": [],
   "source": [
    "# unit_price contains the \"2-dot-problem\":\n",
    "ol_df.unit_price.str.contains(\"\\d+\\.\\d+\\.\\d+\").value_counts()\n",
    "# since that count \"only\" makes around 12% we just remove:\n",
    "two_dot_order_ids_list = ol_df.loc[ol_df.unit_price.str.contains(\"\\d+\\.\\d+\\.\\d+\"), \"id_order\"]\n",
    "ol_df = ol_df.loc[~ol_df.id_order.isin(two_dot_order_ids_list)]\n",
    "# so it can changed to numeric Datatype:\n",
    "ol_df[\"unit_price\"] = pd.to_numeric(ol_df[\"unit_price\"])"
   ]
  },
  {
   "cell_type": "code",
   "execution_count": 6,
   "metadata": {},
   "outputs": [
    {
     "name": "stdout",
     "output_type": "stream",
     "text": [
      "<class 'pandas.core.frame.DataFrame'>\n",
      "Int64Index: 216250 entries, 0 to 293982\n",
      "Data columns (total 6 columns):\n",
      " #   Column            Non-Null Count   Dtype         \n",
      "---  ------            --------------   -----         \n",
      " 0   id                216250 non-null  int64         \n",
      " 1   id_order          216250 non-null  int64         \n",
      " 2   product_quantity  216250 non-null  int64         \n",
      " 3   sku               216250 non-null  object        \n",
      " 4   unit_price        216250 non-null  float64       \n",
      " 5   date              216250 non-null  datetime64[ns]\n",
      "dtypes: datetime64[ns](1), float64(1), int64(3), object(1)\n",
      "memory usage: 11.5+ MB\n"
     ]
    }
   ],
   "source": [
    "# see if it worked:\n",
    "ol_df.info()\n",
    "# memory usage went down.\n",
    "# columns are reduced to enhance readability/ possibility to merge.\n",
    "# unit_price is float, date is datetime."
   ]
  },
  {
   "cell_type": "markdown",
   "metadata": {},
   "source": [
    "### orders.csv – Every row in this file represents an order.\n",
    "* order_id – a unique identifier for each order  \n",
    "* created_date – a timestamp for when the order was created  \n",
    "* total_paid – the total amount paid by the customer for this order, in euros  \n",
    "* state:   \n",
    "    * “Shopping basket” – products have been placed in the shopping basket, but the order has not been processed yet.  \n",
    "    * “Pending” – the shopping basket has been processed, but payment confirmation is pending.  \n",
    "    * “Completed” – the order has been placed and paid, and the transaction is completed.  \n",
    "    * “Cancelled” – the order has been cancelled and the payment returned to the customer.  "
   ]
  },
  {
   "cell_type": "code",
   "execution_count": 7,
   "metadata": {},
   "outputs": [
    {
     "name": "stdout",
     "output_type": "stream",
     "text": [
      "General Information:\n",
      "<class 'pandas.core.frame.DataFrame'>\n",
      "RangeIndex: 226909 entries, 0 to 226908\n",
      "Data columns (total 4 columns):\n",
      " #   Column        Non-Null Count   Dtype  \n",
      "---  ------        --------------   -----  \n",
      " 0   order_id      226909 non-null  int64  \n",
      " 1   created_date  226909 non-null  object \n",
      " 2   total_paid    226904 non-null  float64\n",
      " 3   state         226909 non-null  object \n",
      "dtypes: float64(1), int64(1), object(2)\n",
      "memory usage: 6.9+ MB\n"
     ]
    },
    {
     "data": {
      "text/plain": [
       "None"
      ]
     },
     "metadata": {},
     "output_type": "display_data"
    },
    {
     "name": "stdout",
     "output_type": "stream",
     "text": [
      "Basic statistical description:\n"
     ]
    },
    {
     "data": {
      "text/html": [
       "<div>\n",
       "<style scoped>\n",
       "    .dataframe tbody tr th:only-of-type {\n",
       "        vertical-align: middle;\n",
       "    }\n",
       "\n",
       "    .dataframe tbody tr th {\n",
       "        vertical-align: top;\n",
       "    }\n",
       "\n",
       "    .dataframe thead th {\n",
       "        text-align: right;\n",
       "    }\n",
       "</style>\n",
       "<table border=\"1\" class=\"dataframe\">\n",
       "  <thead>\n",
       "    <tr style=\"text-align: right;\">\n",
       "      <th></th>\n",
       "      <th>order_id</th>\n",
       "      <th>total_paid</th>\n",
       "    </tr>\n",
       "  </thead>\n",
       "  <tbody>\n",
       "    <tr>\n",
       "      <th>count</th>\n",
       "      <td>226909.000000</td>\n",
       "      <td>226904.000000</td>\n",
       "    </tr>\n",
       "    <tr>\n",
       "      <th>mean</th>\n",
       "      <td>413296.482480</td>\n",
       "      <td>569.225818</td>\n",
       "    </tr>\n",
       "    <tr>\n",
       "      <th>std</th>\n",
       "      <td>65919.250331</td>\n",
       "      <td>1761.778002</td>\n",
       "    </tr>\n",
       "    <tr>\n",
       "      <th>min</th>\n",
       "      <td>241319.000000</td>\n",
       "      <td>0.000000</td>\n",
       "    </tr>\n",
       "    <tr>\n",
       "      <th>25%</th>\n",
       "      <td>356263.000000</td>\n",
       "      <td>34.190000</td>\n",
       "    </tr>\n",
       "    <tr>\n",
       "      <th>50%</th>\n",
       "      <td>413040.000000</td>\n",
       "      <td>112.990000</td>\n",
       "    </tr>\n",
       "    <tr>\n",
       "      <th>75%</th>\n",
       "      <td>470553.000000</td>\n",
       "      <td>525.980000</td>\n",
       "    </tr>\n",
       "    <tr>\n",
       "      <th>max</th>\n",
       "      <td>527401.000000</td>\n",
       "      <td>214747.530000</td>\n",
       "    </tr>\n",
       "  </tbody>\n",
       "</table>\n",
       "</div>"
      ],
      "text/plain": [
       "            order_id     total_paid\n",
       "count  226909.000000  226904.000000\n",
       "mean   413296.482480     569.225818\n",
       "std     65919.250331    1761.778002\n",
       "min    241319.000000       0.000000\n",
       "25%    356263.000000      34.190000\n",
       "50%    413040.000000     112.990000\n",
       "75%    470553.000000     525.980000\n",
       "max    527401.000000  214747.530000"
      ]
     },
     "metadata": {},
     "output_type": "display_data"
    },
    {
     "name": "stdout",
     "output_type": "stream",
     "text": [
      "Uniques per column:\n"
     ]
    },
    {
     "data": {
      "text/plain": [
       "order_id        226909\n",
       "created_date    224828\n",
       "total_paid       31236\n",
       "state                5\n",
       "dtype: int64"
      ]
     },
     "metadata": {},
     "output_type": "display_data"
    },
    {
     "name": "stdout",
     "output_type": "stream",
     "text": [
      "Sum of duplicates:\n"
     ]
    },
    {
     "data": {
      "text/plain": [
       "0"
      ]
     },
     "metadata": {},
     "output_type": "display_data"
    },
    {
     "name": "stdout",
     "output_type": "stream",
     "text": [
      "Sum of missing data per column:\n"
     ]
    },
    {
     "data": {
      "text/plain": [
       "order_id        0\n",
       "created_date    0\n",
       "total_paid      5\n",
       "state           0\n",
       "dtype: int64"
      ]
     },
     "metadata": {},
     "output_type": "display_data"
    },
    {
     "name": "stdout",
     "output_type": "stream",
     "text": [
      "Sample:\n"
     ]
    },
    {
     "data": {
      "text/html": [
       "<div>\n",
       "<style scoped>\n",
       "    .dataframe tbody tr th:only-of-type {\n",
       "        vertical-align: middle;\n",
       "    }\n",
       "\n",
       "    .dataframe tbody tr th {\n",
       "        vertical-align: top;\n",
       "    }\n",
       "\n",
       "    .dataframe thead th {\n",
       "        text-align: right;\n",
       "    }\n",
       "</style>\n",
       "<table border=\"1\" class=\"dataframe\">\n",
       "  <thead>\n",
       "    <tr style=\"text-align: right;\">\n",
       "      <th></th>\n",
       "      <th>order_id</th>\n",
       "      <th>created_date</th>\n",
       "      <th>total_paid</th>\n",
       "      <th>state</th>\n",
       "    </tr>\n",
       "  </thead>\n",
       "  <tbody>\n",
       "    <tr>\n",
       "      <th>97202</th>\n",
       "      <td>396785</td>\n",
       "      <td>2017-09-05 16:45:05</td>\n",
       "      <td>444.80</td>\n",
       "      <td>Shopping Basket</td>\n",
       "    </tr>\n",
       "    <tr>\n",
       "      <th>213736</th>\n",
       "      <td>514227</td>\n",
       "      <td>2018-02-19 12:16:54</td>\n",
       "      <td>293.37</td>\n",
       "      <td>Shopping Basket</td>\n",
       "    </tr>\n",
       "    <tr>\n",
       "      <th>156307</th>\n",
       "      <td>456531</td>\n",
       "      <td>2017-12-06 21:44:30</td>\n",
       "      <td>986.59</td>\n",
       "      <td>Place Order</td>\n",
       "    </tr>\n",
       "    <tr>\n",
       "      <th>46792</th>\n",
       "      <td>346285</td>\n",
       "      <td>2017-04-15 11:00:07</td>\n",
       "      <td>199.97</td>\n",
       "      <td>Completed</td>\n",
       "    </tr>\n",
       "    <tr>\n",
       "      <th>93178</th>\n",
       "      <td>392757</td>\n",
       "      <td>2017-08-25 19:14:08</td>\n",
       "      <td>24.99</td>\n",
       "      <td>Shopping Basket</td>\n",
       "    </tr>\n",
       "    <tr>\n",
       "      <th>50804</th>\n",
       "      <td>350299</td>\n",
       "      <td>2017-04-27 12:06:40</td>\n",
       "      <td>50.97</td>\n",
       "      <td>Completed</td>\n",
       "    </tr>\n",
       "    <tr>\n",
       "      <th>167279</th>\n",
       "      <td>467602</td>\n",
       "      <td>2017-12-20 09:59:40</td>\n",
       "      <td>0.00</td>\n",
       "      <td>Place Order</td>\n",
       "    </tr>\n",
       "    <tr>\n",
       "      <th>197985</th>\n",
       "      <td>498469</td>\n",
       "      <td>2018-01-25 17:05:57</td>\n",
       "      <td>66.97</td>\n",
       "      <td>Completed</td>\n",
       "    </tr>\n",
       "    <tr>\n",
       "      <th>204231</th>\n",
       "      <td>504719</td>\n",
       "      <td>2018-02-02 23:39:05</td>\n",
       "      <td>49.96</td>\n",
       "      <td>Completed</td>\n",
       "    </tr>\n",
       "    <tr>\n",
       "      <th>147758</th>\n",
       "      <td>447871</td>\n",
       "      <td>2017-11-27 12:22:05</td>\n",
       "      <td>119.99</td>\n",
       "      <td>Shopping Basket</td>\n",
       "    </tr>\n",
       "  </tbody>\n",
       "</table>\n",
       "</div>"
      ],
      "text/plain": [
       "        order_id         created_date  total_paid            state\n",
       "97202     396785  2017-09-05 16:45:05      444.80  Shopping Basket\n",
       "213736    514227  2018-02-19 12:16:54      293.37  Shopping Basket\n",
       "156307    456531  2017-12-06 21:44:30      986.59      Place Order\n",
       "46792     346285  2017-04-15 11:00:07      199.97        Completed\n",
       "93178     392757  2017-08-25 19:14:08       24.99  Shopping Basket\n",
       "50804     350299  2017-04-27 12:06:40       50.97        Completed\n",
       "167279    467602  2017-12-20 09:59:40        0.00      Place Order\n",
       "197985    498469  2018-01-25 17:05:57       66.97        Completed\n",
       "204231    504719  2018-02-02 23:39:05       49.96        Completed\n",
       "147758    447871  2017-11-27 12:22:05      119.99  Shopping Basket"
      ]
     },
     "metadata": {},
     "output_type": "display_data"
    }
   ],
   "source": [
    "overview(o_df)"
   ]
  },
  {
   "cell_type": "code",
   "execution_count": 8,
   "metadata": {},
   "outputs": [],
   "source": [
    "# Since 5 missing values are nothing, compared to the whole number of entries, we just drop them:\n",
    "o_df = o_df.loc[~o_df.total_paid.isna(), :]"
   ]
  },
  {
   "cell_type": "code",
   "execution_count": 9,
   "metadata": {},
   "outputs": [],
   "source": [
    "# created_date should be datetime:\n",
    "o_df[\"created_date\"] = pd.to_datetime(o_df[\"created_date\"])"
   ]
  },
  {
   "cell_type": "code",
   "execution_count": 10,
   "metadata": {},
   "outputs": [
    {
     "name": "stdout",
     "output_type": "stream",
     "text": [
      "<class 'pandas.core.frame.DataFrame'>\n",
      "Int64Index: 226904 entries, 0 to 226908\n",
      "Data columns (total 4 columns):\n",
      " #   Column        Non-Null Count   Dtype         \n",
      "---  ------        --------------   -----         \n",
      " 0   order_id      226904 non-null  int64         \n",
      " 1   created_date  226904 non-null  datetime64[ns]\n",
      " 2   total_paid    226904 non-null  float64       \n",
      " 3   state         226904 non-null  object        \n",
      "dtypes: datetime64[ns](1), float64(1), int64(1), object(1)\n",
      "memory usage: 8.7+ MB\n"
     ]
    }
   ],
   "source": [
    "# See if it worked:\n",
    "# No \"non-null\" and fixed datetime.\n",
    "o_df.info()"
   ]
  },
  {
   "cell_type": "markdown",
   "metadata": {},
   "source": [
    "### products.csv\n",
    "* sku – stock keeping unit: a unique identifier for each product  \n",
    "* name – product name  \n",
    "* desc – product description  \n",
    "* in_stock – whether or not the product was in stock at the moment of the data extraction  \n",
    "* type – a numerical code for product type  "
   ]
  },
  {
   "cell_type": "code",
   "execution_count": 11,
   "metadata": {},
   "outputs": [
    {
     "name": "stdout",
     "output_type": "stream",
     "text": [
      "General Information:\n",
      "<class 'pandas.core.frame.DataFrame'>\n",
      "RangeIndex: 19326 entries, 0 to 19325\n",
      "Data columns (total 7 columns):\n",
      " #   Column       Non-Null Count  Dtype \n",
      "---  ------       --------------  ----- \n",
      " 0   sku          19326 non-null  object\n",
      " 1   name         19326 non-null  object\n",
      " 2   desc         19319 non-null  object\n",
      " 3   price        19280 non-null  object\n",
      " 4   promo_price  19326 non-null  object\n",
      " 5   in_stock     19326 non-null  int64 \n",
      " 6   type         19276 non-null  object\n",
      "dtypes: int64(1), object(6)\n",
      "memory usage: 1.0+ MB\n"
     ]
    },
    {
     "data": {
      "text/plain": [
       "None"
      ]
     },
     "metadata": {},
     "output_type": "display_data"
    },
    {
     "name": "stdout",
     "output_type": "stream",
     "text": [
      "Basic statistical description:\n"
     ]
    },
    {
     "data": {
      "text/html": [
       "<div>\n",
       "<style scoped>\n",
       "    .dataframe tbody tr th:only-of-type {\n",
       "        vertical-align: middle;\n",
       "    }\n",
       "\n",
       "    .dataframe tbody tr th {\n",
       "        vertical-align: top;\n",
       "    }\n",
       "\n",
       "    .dataframe thead th {\n",
       "        text-align: right;\n",
       "    }\n",
       "</style>\n",
       "<table border=\"1\" class=\"dataframe\">\n",
       "  <thead>\n",
       "    <tr style=\"text-align: right;\">\n",
       "      <th></th>\n",
       "      <th>in_stock</th>\n",
       "    </tr>\n",
       "  </thead>\n",
       "  <tbody>\n",
       "    <tr>\n",
       "      <th>count</th>\n",
       "      <td>19326.000000</td>\n",
       "    </tr>\n",
       "    <tr>\n",
       "      <th>mean</th>\n",
       "      <td>0.109593</td>\n",
       "    </tr>\n",
       "    <tr>\n",
       "      <th>std</th>\n",
       "      <td>0.312390</td>\n",
       "    </tr>\n",
       "    <tr>\n",
       "      <th>min</th>\n",
       "      <td>0.000000</td>\n",
       "    </tr>\n",
       "    <tr>\n",
       "      <th>25%</th>\n",
       "      <td>0.000000</td>\n",
       "    </tr>\n",
       "    <tr>\n",
       "      <th>50%</th>\n",
       "      <td>0.000000</td>\n",
       "    </tr>\n",
       "    <tr>\n",
       "      <th>75%</th>\n",
       "      <td>0.000000</td>\n",
       "    </tr>\n",
       "    <tr>\n",
       "      <th>max</th>\n",
       "      <td>1.000000</td>\n",
       "    </tr>\n",
       "  </tbody>\n",
       "</table>\n",
       "</div>"
      ],
      "text/plain": [
       "           in_stock\n",
       "count  19326.000000\n",
       "mean       0.109593\n",
       "std        0.312390\n",
       "min        0.000000\n",
       "25%        0.000000\n",
       "50%        0.000000\n",
       "75%        0.000000\n",
       "max        1.000000"
      ]
     },
     "metadata": {},
     "output_type": "display_data"
    },
    {
     "name": "stdout",
     "output_type": "stream",
     "text": [
      "Uniques per column:\n"
     ]
    },
    {
     "data": {
      "text/plain": [
       "sku            10579\n",
       "name           10373\n",
       "desc            7098\n",
       "price           2690\n",
       "promo_price     4614\n",
       "in_stock           2\n",
       "type             126\n",
       "dtype: int64"
      ]
     },
     "metadata": {},
     "output_type": "display_data"
    },
    {
     "name": "stdout",
     "output_type": "stream",
     "text": [
      "Sum of duplicates:\n"
     ]
    },
    {
     "data": {
      "text/plain": [
       "8746"
      ]
     },
     "metadata": {},
     "output_type": "display_data"
    },
    {
     "name": "stdout",
     "output_type": "stream",
     "text": [
      "Sum of missing data per column:\n"
     ]
    },
    {
     "data": {
      "text/plain": [
       "sku             0\n",
       "name            0\n",
       "desc            7\n",
       "price          46\n",
       "promo_price     0\n",
       "in_stock        0\n",
       "type           50\n",
       "dtype: int64"
      ]
     },
     "metadata": {},
     "output_type": "display_data"
    },
    {
     "name": "stdout",
     "output_type": "stream",
     "text": [
      "Sample:\n"
     ]
    },
    {
     "data": {
      "text/html": [
       "<div>\n",
       "<style scoped>\n",
       "    .dataframe tbody tr th:only-of-type {\n",
       "        vertical-align: middle;\n",
       "    }\n",
       "\n",
       "    .dataframe tbody tr th {\n",
       "        vertical-align: top;\n",
       "    }\n",
       "\n",
       "    .dataframe thead th {\n",
       "        text-align: right;\n",
       "    }\n",
       "</style>\n",
       "<table border=\"1\" class=\"dataframe\">\n",
       "  <thead>\n",
       "    <tr style=\"text-align: right;\">\n",
       "      <th></th>\n",
       "      <th>sku</th>\n",
       "      <th>name</th>\n",
       "      <th>desc</th>\n",
       "      <th>price</th>\n",
       "      <th>promo_price</th>\n",
       "      <th>in_stock</th>\n",
       "      <th>type</th>\n",
       "    </tr>\n",
       "  </thead>\n",
       "  <tbody>\n",
       "    <tr>\n",
       "      <th>6776</th>\n",
       "      <td>PAC1607</td>\n",
       "      <td>Apple iMac 27 \"Core i5 3.3GHz Retina 5K | 8GB ...</td>\n",
       "      <td>Desktop computer iMac 27-inch 3.3GHz Core i5 5...</td>\n",
       "      <td>3349</td>\n",
       "      <td>29.099.895</td>\n",
       "      <td>0</td>\n",
       "      <td>5,74E+15</td>\n",
       "    </tr>\n",
       "    <tr>\n",
       "      <th>12564</th>\n",
       "      <td>SAN0132</td>\n",
       "      <td>Sandisk iXpand Lightning to USB 3.0 16GB</td>\n",
       "      <td>16GB storage unit for iPhone and iPad</td>\n",
       "      <td>34.99</td>\n",
       "      <td>283.745</td>\n",
       "      <td>1</td>\n",
       "      <td>42945397</td>\n",
       "    </tr>\n",
       "    <tr>\n",
       "      <th>17004</th>\n",
       "      <td>PAC2177</td>\n",
       "      <td>Pack QNAP TS-251A NAS Server | 4GB RAM | 12TB ...</td>\n",
       "      <td>NAS with 4GB of RAM and two hard disks 6TB (2x...</td>\n",
       "      <td>908.09</td>\n",
       "      <td>7.251.784</td>\n",
       "      <td>1</td>\n",
       "      <td>12175397</td>\n",
       "    </tr>\n",
       "    <tr>\n",
       "      <th>9058</th>\n",
       "      <td>APP1252</td>\n",
       "      <td>Apple iMac 21.5 \"Core i5 2.8GHz | 16GB | 2TB F...</td>\n",
       "      <td>PC 215 inch iMac 2.8GHz RAM 16GB 2TB Fusion (M...</td>\n",
       "      <td>2189</td>\n",
       "      <td>20.495.839</td>\n",
       "      <td>0</td>\n",
       "      <td>1282</td>\n",
       "    </tr>\n",
       "    <tr>\n",
       "      <th>19266</th>\n",
       "      <td>WDT0416</td>\n",
       "      <td>WD Hard Drive 8TB Gold 35 \"Servers</td>\n",
       "      <td>Hard Western Digital 8TB 35 inches SATA 6 Gb /...</td>\n",
       "      <td>419</td>\n",
       "      <td>3.059.945</td>\n",
       "      <td>1</td>\n",
       "      <td>12655397</td>\n",
       "    </tr>\n",
       "    <tr>\n",
       "      <th>8197</th>\n",
       "      <td>PAC1574</td>\n",
       "      <td>Apple iMac 21.5 \"Core i5 3.1GHz 4K Retina | 8G...</td>\n",
       "      <td>Desktop computer iMac 21.5-inch 3.1GHz Core i5...</td>\n",
       "      <td>2209</td>\n",
       "      <td>15.799.902</td>\n",
       "      <td>0</td>\n",
       "      <td>1282</td>\n",
       "    </tr>\n",
       "    <tr>\n",
       "      <th>742</th>\n",
       "      <td>PAC0860</td>\n",
       "      <td>Apple Mac Pro 12-core 27 Ghz | 32GB RAM | 512G...</td>\n",
       "      <td>New Mac Pro with 32GB of RAM 12-core GPU 6GB 5...</td>\n",
       "      <td>9689</td>\n",
       "      <td>90.019.898</td>\n",
       "      <td>0</td>\n",
       "      <td>1282</td>\n",
       "    </tr>\n",
       "    <tr>\n",
       "      <th>4354</th>\n",
       "      <td>PAC1032</td>\n",
       "      <td>Apple iMac 27 \"Core i5 3.3GHz Retina 5K | 16GB...</td>\n",
       "      <td>IMac desktop computer 27 inch 5K Retina i5 3.3...</td>\n",
       "      <td>2869</td>\n",
       "      <td>23.055.848</td>\n",
       "      <td>0</td>\n",
       "      <td>5,74E+15</td>\n",
       "    </tr>\n",
       "    <tr>\n",
       "      <th>18471</th>\n",
       "      <td>APP2702</td>\n",
       "      <td>Apple iMac Pro 27 \"10-core Intel Xeon 3GHz W |...</td>\n",
       "      <td>Pro iMac 27 inch screen Retina 5K and Intel Xe...</td>\n",
       "      <td>7419</td>\n",
       "      <td>69.740.044</td>\n",
       "      <td>0</td>\n",
       "      <td>118692158</td>\n",
       "    </tr>\n",
       "    <tr>\n",
       "      <th>6486</th>\n",
       "      <td>PAC1070</td>\n",
       "      <td>Apple iMac 27 \"Core i5 3.3GHz Retina 5K | 32GB...</td>\n",
       "      <td>IMac desktop computer 27 inch 5K Retina i5 3.3...</td>\n",
       "      <td>4369</td>\n",
       "      <td>37.659.895</td>\n",
       "      <td>0</td>\n",
       "      <td>5,74E+15</td>\n",
       "    </tr>\n",
       "  </tbody>\n",
       "</table>\n",
       "</div>"
      ],
      "text/plain": [
       "           sku                                               name  \\\n",
       "6776   PAC1607  Apple iMac 27 \"Core i5 3.3GHz Retina 5K | 8GB ...   \n",
       "12564  SAN0132           Sandisk iXpand Lightning to USB 3.0 16GB   \n",
       "17004  PAC2177  Pack QNAP TS-251A NAS Server | 4GB RAM | 12TB ...   \n",
       "9058   APP1252  Apple iMac 21.5 \"Core i5 2.8GHz | 16GB | 2TB F...   \n",
       "19266  WDT0416                 WD Hard Drive 8TB Gold 35 \"Servers   \n",
       "8197   PAC1574  Apple iMac 21.5 \"Core i5 3.1GHz 4K Retina | 8G...   \n",
       "742    PAC0860  Apple Mac Pro 12-core 27 Ghz | 32GB RAM | 512G...   \n",
       "4354   PAC1032  Apple iMac 27 \"Core i5 3.3GHz Retina 5K | 16GB...   \n",
       "18471  APP2702  Apple iMac Pro 27 \"10-core Intel Xeon 3GHz W |...   \n",
       "6486   PAC1070  Apple iMac 27 \"Core i5 3.3GHz Retina 5K | 32GB...   \n",
       "\n",
       "                                                    desc   price promo_price  \\\n",
       "6776   Desktop computer iMac 27-inch 3.3GHz Core i5 5...    3349  29.099.895   \n",
       "12564              16GB storage unit for iPhone and iPad   34.99     283.745   \n",
       "17004  NAS with 4GB of RAM and two hard disks 6TB (2x...  908.09   7.251.784   \n",
       "9058   PC 215 inch iMac 2.8GHz RAM 16GB 2TB Fusion (M...    2189  20.495.839   \n",
       "19266  Hard Western Digital 8TB 35 inches SATA 6 Gb /...     419   3.059.945   \n",
       "8197   Desktop computer iMac 21.5-inch 3.1GHz Core i5...    2209  15.799.902   \n",
       "742    New Mac Pro with 32GB of RAM 12-core GPU 6GB 5...    9689  90.019.898   \n",
       "4354   IMac desktop computer 27 inch 5K Retina i5 3.3...    2869  23.055.848   \n",
       "18471  Pro iMac 27 inch screen Retina 5K and Intel Xe...    7419  69.740.044   \n",
       "6486   IMac desktop computer 27 inch 5K Retina i5 3.3...    4369  37.659.895   \n",
       "\n",
       "       in_stock       type  \n",
       "6776          0   5,74E+15  \n",
       "12564         1   42945397  \n",
       "17004         1   12175397  \n",
       "9058          0       1282  \n",
       "19266         1   12655397  \n",
       "8197          0       1282  \n",
       "742           0       1282  \n",
       "4354          0   5,74E+15  \n",
       "18471         0  118692158  \n",
       "6486          0   5,74E+15  "
      ]
     },
     "metadata": {},
     "output_type": "display_data"
    }
   ],
   "source": [
    "overview(pro_df)"
   ]
  },
  {
   "cell_type": "code",
   "execution_count": 12,
   "metadata": {},
   "outputs": [],
   "source": [
    "# as we discovered at 3_2, products['promo_price'] is way too corrupted to work further with it, so we drop it.\n",
    "# desc, in_stock and type seem useless for our investigation, so we also just drop them, we recall them later if needed. - \"Recalled\" 'desc' to improve categories if time\n",
    "pro_df.drop(['promo_price', 'in_stock'], axis=1, inplace=True)\n"
   ]
  },
  {
   "cell_type": "code",
   "execution_count": 13,
   "metadata": {},
   "outputs": [],
   "source": [
    "# quickly removing those missing price rows:\n",
    "pro_df = pro_df.loc[~pro_df.price.isna(), :]"
   ]
  },
  {
   "cell_type": "code",
   "execution_count": 14,
   "metadata": {},
   "outputs": [],
   "source": [
    "# again having the \"2-dot-problem\" with the price column:\n",
    "pro_df = pro_df.loc[(~pro_df.price.astype(str).str.contains(\"\\d+\\.\\d+\\.\\d+\"))&(~pro_df.price.astype(str).str.contains(\"\\d+\\.\\d{3,}\")), :]\n",
    "\n",
    "pro_df[\"price\"] = pd.to_numeric(pro_df[\"price\"])"
   ]
  },
  {
   "cell_type": "code",
   "execution_count": 15,
   "metadata": {},
   "outputs": [],
   "source": [
    "\n",
    "# Tons of bad code to categorize with the type column:\n",
    "category_type_df = pro_df.copy()\n",
    "# category_type_df.groupby(\"type\").count().nlargest(30, \"sku\") # To get the 30 largest used values in \"Type\"\n",
    "\n",
    "# manually added into a replace function while questioning life and decision making\n",
    "category_type_df[\"type\"] = category_type_df[\"type\"].replace([\"11865403\",\"12175397\",\"1298\",\"11935397\",\"11905404\",\n",
    "                                                             \"1282\",\"12635403\",\"13835403\",\"5,74E+15\",\"1364\",\n",
    "                                                             \"12585395\",\"1296\",\"1325\",\"5384\",\"1433\",\n",
    "                                                             \"12215397\",\"5398\",\"1,02E+12\",\"1,44E+11\",\"57445397\",\n",
    "                                                             \"1334\",\"2158\",\"2449\",\"12655397\",\"1229\",\n",
    "                                                             \"12995397\",\"1515\",\"13615399\",\"13555403\",\"1405\"],\n",
    "                                                             [\"Protectors_etc\", \"Servers\", \"Protectors_etc\", \"Hard_drive\", \"Electronic_devices\",\n",
    "                                                              \"Apple_PC_Laptop\", \"Apple_var\", \"Apple_var\", \"App_PC_Laptop\", \"Apple_var\",\n",
    "                                                              \"External_Memory\", \"Monitor\", \"Cable\", \"Audio\", \"Hard_drive\",                                                             \n",
    "                                                              \"Hard_drive\", \"Audio\", \"Apple_PC_Laptop\", \"Repair_Service\", \"External_Memory\", \n",
    "                                                              \"Router\", \"Apple_PC_Laptop\", \"Apple_var\", \"Hard_drive\", \"Electronic_devices\",\n",
    "                                                              \"External_Memory\", \"USB\", \"Charger\", \"Protectors_etc\", \"Tablets\"])\n",
    "\n",
    "# get a list of the missing values in \"type\"\n",
    "category_type_df[\"type\"].unique()\n",
    "\n",
    "# to replace the non-descriptive ones with \"other\"\n",
    "category_type_df[\"type\"] = category_type_df[\"type\"].replace(['8696', '13855401', '1387', '1230','13005399',\n",
    "                                                            '13955395', '1216', '12355400', '5,49E+11', '1276',\n",
    "                                                            '12755395','12285400','1404', '101781405', '4259',\n",
    "                                                            '14035403', '12085400','1424','9094', 'nan', '14305406', \n",
    "                                                            '10142', '12645406', '10230','11821715', '14365395', '5405',\n",
    "                                                            '5395', '21485407', '20642062', '1280', '12575403', '5720',\n",
    "                                                            '1392', '1231', '15435404', '1375', '42945397',\n",
    "                                                            '12141714', '54025401', '21535407', '1416', '2,17E+11', '24215399',\n",
    "                                                            '11434', '2425', '2434', '13621714', '24861714', '24821716',\n",
    "                                                            '54864259', '51861714', '1714', '51601716', '51871714', '5403',\n",
    "                                                            '54085407', '24885185', '24895185', '5407',\n",
    "                                                            '5406', '5404', '5,44E+11', '85641716', '42931714', '24811716',\n",
    "                                                            '85651716', '51882158', '5,43E+15', '5,72E+15', '5401', '12051714',\n",
    "                                                            '9,29E+11', '5399', '1716', '21622158', '5,39E+11', '12031714',\n",
    "                                                            '21571716', '2,16E+11', '106431714', '21632158', '21561716',\n",
    "                                                            '79201715', '51902158', '5185', '113291716', '113281716',\n",
    "                                                            '113271716', '5,45E+15', '113851714', '11859', '118692158',\n",
    "                                                            '51912158', '113464259', '12282'], 'other')\n",
    "\n",
    "pro_df.drop(['type'], axis=1, inplace=True)\n",
    "category_type_df.drop(['name','price','desc'], axis=1, inplace=True)\n",
    "# category_type_df.sample(5) # see if it worked\n",
    "\n",
    "# some stuff that didnt work:\n",
    "# merging the copy onto the original without type again\n",
    "# category_type_df.drop(['name','price'], axis=1, inplace=True)\n",
    "# pro_df.merge(category_type_df,how='inner', left_on='sku', right_on='sku')\n",
    "# pro_df.sample(25)\n"
   ]
  },
  {
   "cell_type": "code",
   "execution_count": 16,
   "metadata": {},
   "outputs": [
    {
     "name": "stdout",
     "output_type": "stream",
     "text": [
      "<class 'pandas.core.frame.DataFrame'>\n",
      "Int64Index: 18684 entries, 0 to 19325\n",
      "Data columns (total 4 columns):\n",
      " #   Column  Non-Null Count  Dtype  \n",
      "---  ------  --------------  -----  \n",
      " 0   sku     18684 non-null  object \n",
      " 1   name    18684 non-null  object \n",
      " 2   desc    18678 non-null  object \n",
      " 3   price   18684 non-null  float64\n",
      "dtypes: float64(1), object(3)\n",
      "memory usage: 729.8+ KB\n"
     ]
    }
   ],
   "source": [
    "# seeing, if it worked:\n",
    "# size is half (not that it matters here), number of columns reduced.\n",
    "pro_df.info()"
   ]
  },
  {
   "cell_type": "markdown",
   "metadata": {},
   "source": [
    "## 3. Merging our cleaned data into one df to work with:"
   ]
  },
  {
   "cell_type": "code",
   "execution_count": 17,
   "metadata": {},
   "outputs": [
    {
     "name": "stderr",
     "output_type": "stream",
     "text": [
      "C:\\Users\\AlexD\\AppData\\Local\\Temp\\ipykernel_7612\\1979011241.py:19: SettingWithCopyWarning: \n",
      "A value is trying to be set on a copy of a slice from a DataFrame\n",
      "\n",
      "See the caveats in the documentation: https://pandas.pydata.org/pandas-docs/stable/user_guide/indexing.html#returning-a-view-versus-a-copy\n",
      "  completedorders_df.drop(['state'], axis=1, inplace=True) # so drop that column\n"
     ]
    },
    {
     "data": {
      "text/html": [
       "<div>\n",
       "<style scoped>\n",
       "    .dataframe tbody tr th:only-of-type {\n",
       "        vertical-align: middle;\n",
       "    }\n",
       "\n",
       "    .dataframe tbody tr th {\n",
       "        vertical-align: top;\n",
       "    }\n",
       "\n",
       "    .dataframe thead th {\n",
       "        text-align: right;\n",
       "    }\n",
       "</style>\n",
       "<table border=\"1\" class=\"dataframe\">\n",
       "  <thead>\n",
       "    <tr style=\"text-align: right;\">\n",
       "      <th></th>\n",
       "      <th>id</th>\n",
       "      <th>sku</th>\n",
       "      <th>name</th>\n",
       "      <th>desc</th>\n",
       "      <th>created_date</th>\n",
       "      <th>price</th>\n",
       "      <th>unit_price</th>\n",
       "      <th>product_quantity</th>\n",
       "      <th>type</th>\n",
       "    </tr>\n",
       "  </thead>\n",
       "  <tbody>\n",
       "    <tr>\n",
       "      <th>152107</th>\n",
       "      <td>1584433</td>\n",
       "      <td>MOS0172</td>\n",
       "      <td>Moshi iGlaze Case Napa iPhone 6 / 6S Midnight ...</td>\n",
       "      <td>Double casing for iPhone protective layer 6 / 6S.</td>\n",
       "      <td>2018-01-28 11:38:35</td>\n",
       "      <td>45.00</td>\n",
       "      <td>24.49</td>\n",
       "      <td>1</td>\n",
       "      <td>Protectors_etc</td>\n",
       "    </tr>\n",
       "    <tr>\n",
       "      <th>87652</th>\n",
       "      <td>1412039</td>\n",
       "      <td>IFX0012</td>\n",
       "      <td>iFixit Essential Toolkit Electronics Starter Kit</td>\n",
       "      <td>Set basic tools for iPhone iPad Mac and PC.</td>\n",
       "      <td>2017-11-16 17:29:05</td>\n",
       "      <td>29.90</td>\n",
       "      <td>29.99</td>\n",
       "      <td>1</td>\n",
       "      <td>other</td>\n",
       "    </tr>\n",
       "    <tr>\n",
       "      <th>208986</th>\n",
       "      <td>1496199</td>\n",
       "      <td>NEA0020</td>\n",
       "      <td>Netatmo intelligent radiator valve</td>\n",
       "      <td>thermostatic valve radiator temperature contro...</td>\n",
       "      <td>2017-12-14 11:45:34</td>\n",
       "      <td>79.99</td>\n",
       "      <td>76.00</td>\n",
       "      <td>1</td>\n",
       "      <td>Electronic_devices</td>\n",
       "    </tr>\n",
       "    <tr>\n",
       "      <th>14684</th>\n",
       "      <td>1149731</td>\n",
       "      <td>BEL0263</td>\n",
       "      <td>Belkin Pleated MacBook Pro 13.3 \"Black</td>\n",
       "      <td>Cover lightly with zippers with soft fabric fo...</td>\n",
       "      <td>2017-01-17 15:19:29</td>\n",
       "      <td>39.99</td>\n",
       "      <td>19.99</td>\n",
       "      <td>1</td>\n",
       "      <td>Apple_var</td>\n",
       "    </tr>\n",
       "    <tr>\n",
       "      <th>25690</th>\n",
       "      <td>1353375</td>\n",
       "      <td>PAC1410</td>\n",
       "      <td>Synology DS716 + II | 8GB RAM Mac and PC Serve...</td>\n",
       "      <td>2 bay NAS server and 8GB of RAM for Mac iPad a...</td>\n",
       "      <td>2017-09-16 15:36:09</td>\n",
       "      <td>566.89</td>\n",
       "      <td>556.99</td>\n",
       "      <td>1</td>\n",
       "      <td>Servers</td>\n",
       "    </tr>\n",
       "    <tr>\n",
       "      <th>96415</th>\n",
       "      <td>1448005</td>\n",
       "      <td>CRU0034-2</td>\n",
       "      <td>Crucial memory Mac 4GB (2x2GB) SO-DIMM DDR3 10...</td>\n",
       "      <td>RAM 4GB (2x2GB) Mac mini iMac MacBook and MacB...</td>\n",
       "      <td>2017-11-25 19:19:09</td>\n",
       "      <td>59.98</td>\n",
       "      <td>45.04</td>\n",
       "      <td>1</td>\n",
       "      <td>Apple_var</td>\n",
       "    </tr>\n",
       "    <tr>\n",
       "      <th>182310</th>\n",
       "      <td>1382814</td>\n",
       "      <td>ZAG0030</td>\n",
       "      <td>Zagg Folio Case Color Keyboard Folio iPad Air ...</td>\n",
       "      <td>Case with Bluetooth Keyboard for iPad Air 2 Sp...</td>\n",
       "      <td>2017-10-20 09:33:00</td>\n",
       "      <td>79.99</td>\n",
       "      <td>19.99</td>\n",
       "      <td>1</td>\n",
       "      <td>other</td>\n",
       "    </tr>\n",
       "    <tr>\n",
       "      <th>102812</th>\n",
       "      <td>1344532</td>\n",
       "      <td>LAC0206</td>\n",
       "      <td>LaCie d2 Hard Drive 4TB Thunderbolt 2 USB 3.0</td>\n",
       "      <td>4TB external hard drive designed to work 24x7 ...</td>\n",
       "      <td>2017-09-04 10:31:51</td>\n",
       "      <td>309.00</td>\n",
       "      <td>281.79</td>\n",
       "      <td>1</td>\n",
       "      <td>Hard_drive</td>\n",
       "    </tr>\n",
       "    <tr>\n",
       "      <th>116783</th>\n",
       "      <td>1137418</td>\n",
       "      <td>KIN0124-2</td>\n",
       "      <td>Mac memory Kingston 8GB (2x4GB) SO-DIMM DDR3 1...</td>\n",
       "      <td>Mac memory Kingston 8GB (2x4GB) HyperX DDR3 SO...</td>\n",
       "      <td>2017-01-09 15:43:39</td>\n",
       "      <td>73.98</td>\n",
       "      <td>78.99</td>\n",
       "      <td>1</td>\n",
       "      <td>Apple_var</td>\n",
       "    </tr>\n",
       "    <tr>\n",
       "      <th>14640</th>\n",
       "      <td>1162768</td>\n",
       "      <td>LGE0034</td>\n",
       "      <td>LG 29UM68-P Monitor 29 \"IPS widescreen UXGA Ultra</td>\n",
       "      <td>29-inch IPS monitor: color accuracy sRGB split...</td>\n",
       "      <td>2017-01-28 16:53:39</td>\n",
       "      <td>299.00</td>\n",
       "      <td>287.99</td>\n",
       "      <td>1</td>\n",
       "      <td>Monitor</td>\n",
       "    </tr>\n",
       "  </tbody>\n",
       "</table>\n",
       "</div>"
      ],
      "text/plain": [
       "             id        sku                                               name  \\\n",
       "152107  1584433    MOS0172  Moshi iGlaze Case Napa iPhone 6 / 6S Midnight ...   \n",
       "87652   1412039    IFX0012   iFixit Essential Toolkit Electronics Starter Kit   \n",
       "208986  1496199    NEA0020                 Netatmo intelligent radiator valve   \n",
       "14684   1149731    BEL0263             Belkin Pleated MacBook Pro 13.3 \"Black   \n",
       "25690   1353375    PAC1410  Synology DS716 + II | 8GB RAM Mac and PC Serve...   \n",
       "96415   1448005  CRU0034-2  Crucial memory Mac 4GB (2x2GB) SO-DIMM DDR3 10...   \n",
       "182310  1382814    ZAG0030  Zagg Folio Case Color Keyboard Folio iPad Air ...   \n",
       "102812  1344532    LAC0206      LaCie d2 Hard Drive 4TB Thunderbolt 2 USB 3.0   \n",
       "116783  1137418  KIN0124-2  Mac memory Kingston 8GB (2x4GB) SO-DIMM DDR3 1...   \n",
       "14640   1162768    LGE0034  LG 29UM68-P Monitor 29 \"IPS widescreen UXGA Ultra   \n",
       "\n",
       "                                                     desc        created_date  \\\n",
       "152107  Double casing for iPhone protective layer 6 / 6S. 2018-01-28 11:38:35   \n",
       "87652         Set basic tools for iPhone iPad Mac and PC. 2017-11-16 17:29:05   \n",
       "208986  thermostatic valve radiator temperature contro... 2017-12-14 11:45:34   \n",
       "14684   Cover lightly with zippers with soft fabric fo... 2017-01-17 15:19:29   \n",
       "25690   2 bay NAS server and 8GB of RAM for Mac iPad a... 2017-09-16 15:36:09   \n",
       "96415   RAM 4GB (2x2GB) Mac mini iMac MacBook and MacB... 2017-11-25 19:19:09   \n",
       "182310  Case with Bluetooth Keyboard for iPad Air 2 Sp... 2017-10-20 09:33:00   \n",
       "102812  4TB external hard drive designed to work 24x7 ... 2017-09-04 10:31:51   \n",
       "116783  Mac memory Kingston 8GB (2x4GB) HyperX DDR3 SO... 2017-01-09 15:43:39   \n",
       "14640   29-inch IPS monitor: color accuracy sRGB split... 2017-01-28 16:53:39   \n",
       "\n",
       "         price  unit_price  product_quantity                type  \n",
       "152107   45.00       24.49                 1      Protectors_etc  \n",
       "87652    29.90       29.99                 1               other  \n",
       "208986   79.99       76.00                 1  Electronic_devices  \n",
       "14684    39.99       19.99                 1           Apple_var  \n",
       "25690   566.89      556.99                 1             Servers  \n",
       "96415    59.98       45.04                 1           Apple_var  \n",
       "182310   79.99       19.99                 1               other  \n",
       "102812  309.00      281.79                 1          Hard_drive  \n",
       "116783   73.98       78.99                 1           Apple_var  \n",
       "14640   299.00      287.99                 1             Monitor  "
      ]
     },
     "execution_count": 17,
     "metadata": {},
     "output_type": "execute_result"
    }
   ],
   "source": [
    "# the task should be to preserve most data we just cleaned within the merged, so we merge onto the orderlines, later filtering by e.g. 'state'.\n",
    "placeholder_df = ol_df.merge(o_df, left_on='id_order', right_on='order_id')\n",
    "\n",
    "# see if it worked:\n",
    "# placeholder_df.info()\n",
    "\n",
    "# merge the next table\n",
    "work_df = placeholder_df.merge(pro_df, left_on='sku', right_on='sku')\n",
    "\n",
    "# see if it worked:\n",
    "# work_df.info()\n",
    "# work_df.sample(10)\n",
    "\n",
    "# .sample showing that we should change the order of the columns and be dropping the now useless id´s from the merge:\n",
    "work_df.drop(['id_order', 'order_id'], axis=1, inplace=True)\n",
    "work2_df = work_df.merge(category_type_df, left_on='sku', right_on='sku')\n",
    "\n",
    "list(work2_df.columns) # overview to sort columns logically:\n",
    "sorted_df = work2_df[['id','sku','name','desc','created_date','date','price','unit_price','total_paid','product_quantity','state','type']] # sort columns\n",
    "# sorted_df.sample(10) # worked out\n",
    "\n",
    "# only state = completed is interesting:\n",
    "completedorders_df = sorted_df.loc[sorted_df['state']=='Completed']\n",
    "# completedorders_df.sample(10) # worked out\n",
    "completedorders_df.drop(['state'], axis=1, inplace=True)\n",
    "\n",
    "# total_paid and product_quantity should be dropped when we created a new column out of them:\n",
    "completedorders_df = completedorders_df.assign(actual_price=completedorders_df['total_paid'] / completedorders_df['product_quantity'])\n",
    "# completedorders_df.sample(25) # worked out\n",
    "\n",
    "# \"leftover\" columns should be dropped to clear the whole thing even more:\n",
    "completedorders_df.drop(['total_paid','date'], axis=1, inplace=True)\n",
    "completedorders_df.sample(25)\n",
    "\n",
    "# .sample shows that we cannot work with 'actual_price', so this gets dropped for having to finish this some day:\n",
    "completedorders_df.drop(['actual_price'], axis=1, inplace=True)\n",
    "\n",
    "# .copy as an easy workaround to rename the dataframe to something to work with:\n",
    "clean_df = completedorders_df.copy()\n",
    "clean_df.sample(10)\n"
   ]
  },
  {
   "cell_type": "code",
   "execution_count": 18,
   "metadata": {},
   "outputs": [],
   "source": [
    "# overview(clean_df)"
   ]
  },
  {
   "cell_type": "markdown",
   "metadata": {},
   "source": [
    "## 4. Various tinkering with the \"clean\" df, regarding our questions to solve:"
   ]
  },
  {
   "cell_type": "markdown",
   "metadata": {},
   "source": [
    "Discount calculation:\n"
   ]
  },
  {
   "cell_type": "code",
   "execution_count": 19,
   "metadata": {},
   "outputs": [],
   "source": [
    "# creating a discount number\n",
    "clean_df[\"discount_dollar\"] = (clean_df[\"price\"]) - (clean_df[\"unit_price\"]) \n",
    "\n",
    "# Calculating relative discount from absolute.\n",
    "clean_df[\"discount_perc\"] = round(100 * (clean_df[\"discount_dollar\"]) / (clean_df[\"price\"])) \n",
    "\n",
    "# And show that Calculation in the new dataframe:\n",
    "# clean_df.sample(5)"
   ]
  },
  {
   "attachments": {},
   "cell_type": "markdown",
   "metadata": {},
   "source": [
    "Revenue column:"
   ]
  },
  {
   "cell_type": "code",
   "execution_count": 20,
   "metadata": {},
   "outputs": [],
   "source": [
    "# Creating a revenue column.\n",
    "clean_df[\"revenue\"] = (clean_df[\"product_quantity\"]) * (clean_df[\"unit_price\"])"
   ]
  },
  {
   "attachments": {},
   "cell_type": "markdown",
   "metadata": {},
   "source": [
    "Refining dates:"
   ]
  },
  {
   "cell_type": "code",
   "execution_count": 21,
   "metadata": {},
   "outputs": [],
   "source": [
    "# Adding extra columns regarding year, month, day\n",
    "clean_df[\"month_name\"] = clean_df[\"created_date\"].dt.month_name()\n",
    "clean_df[\"year\"] = clean_df[\"created_date\"].dt.year\n",
    "clean_df[\"day\"] = clean_df[\"created_date\"].dt.day"
   ]
  },
  {
   "attachments": {},
   "cell_type": "markdown",
   "metadata": {},
   "source": [
    "Reorganise DataFrame:"
   ]
  },
  {
   "cell_type": "code",
   "execution_count": 22,
   "metadata": {},
   "outputs": [
    {
     "name": "stdout",
     "output_type": "stream",
     "text": [
      "['id', 'sku', 'name', 'desc', 'created_date', 'price', 'unit_price', 'product_quantity', 'type', 'discount_dollar', 'discount_perc', 'revenue', 'month_name', 'year', 'day']\n"
     ]
    },
    {
     "data": {
      "text/html": [
       "<div>\n",
       "<style scoped>\n",
       "    .dataframe tbody tr th:only-of-type {\n",
       "        vertical-align: middle;\n",
       "    }\n",
       "\n",
       "    .dataframe tbody tr th {\n",
       "        vertical-align: top;\n",
       "    }\n",
       "\n",
       "    .dataframe thead th {\n",
       "        text-align: right;\n",
       "    }\n",
       "</style>\n",
       "<table border=\"1\" class=\"dataframe\">\n",
       "  <thead>\n",
       "    <tr style=\"text-align: right;\">\n",
       "      <th></th>\n",
       "      <th>id</th>\n",
       "      <th>sku</th>\n",
       "      <th>name</th>\n",
       "      <th>desc</th>\n",
       "      <th>created_date</th>\n",
       "      <th>year</th>\n",
       "      <th>month_name</th>\n",
       "      <th>day</th>\n",
       "      <th>price</th>\n",
       "      <th>unit_price</th>\n",
       "      <th>discount_dollar</th>\n",
       "      <th>discount_perc</th>\n",
       "      <th>revenue</th>\n",
       "      <th>type</th>\n",
       "    </tr>\n",
       "  </thead>\n",
       "  <tbody>\n",
       "    <tr>\n",
       "      <th>142416</th>\n",
       "      <td>1173898</td>\n",
       "      <td>GRT0440</td>\n",
       "      <td>Griffin Survivor iPhone Case Wallet 7/8 Clear ...</td>\n",
       "      <td>Polycarbonate cover with lid and slots for iPh...</td>\n",
       "      <td>2017-02-07 22:30:37</td>\n",
       "      <td>2017</td>\n",
       "      <td>February</td>\n",
       "      <td>7</td>\n",
       "      <td>29.99</td>\n",
       "      <td>19.99</td>\n",
       "      <td>10.00</td>\n",
       "      <td>33.0</td>\n",
       "      <td>19.99</td>\n",
       "      <td>Protectors_etc</td>\n",
       "    </tr>\n",
       "    <tr>\n",
       "      <th>200945</th>\n",
       "      <td>1387595</td>\n",
       "      <td>DRO0020-A</td>\n",
       "      <td>Open - 5C Drobo 5-bay DAS RAID USB-C USB 3.0</td>\n",
       "      <td>RAID 5 bays and USB 3.0 Type-C for Mac and PC</td>\n",
       "      <td>2017-10-25 01:40:48</td>\n",
       "      <td>2017</td>\n",
       "      <td>October</td>\n",
       "      <td>25</td>\n",
       "      <td>429.00</td>\n",
       "      <td>321.47</td>\n",
       "      <td>107.53</td>\n",
       "      <td>25.0</td>\n",
       "      <td>321.47</td>\n",
       "      <td>Protectors_etc</td>\n",
       "    </tr>\n",
       "    <tr>\n",
       "      <th>166275</th>\n",
       "      <td>1295716</td>\n",
       "      <td>APP1972</td>\n",
       "      <td>Apple iPhone 32GB Rose Gold</td>\n",
       "      <td>New iPhone SE with 4-inch screen 32 free GB.</td>\n",
       "      <td>2017-07-18 09:47:26</td>\n",
       "      <td>2017</td>\n",
       "      <td>July</td>\n",
       "      <td>18</td>\n",
       "      <td>419.00</td>\n",
       "      <td>359.00</td>\n",
       "      <td>60.00</td>\n",
       "      <td>14.0</td>\n",
       "      <td>359.00</td>\n",
       "      <td>other</td>\n",
       "    </tr>\n",
       "    <tr>\n",
       "      <th>209723</th>\n",
       "      <td>1529912</td>\n",
       "      <td>FIT0062</td>\n",
       "      <td>Fitbit Smartwatch Ionic Gray</td>\n",
       "      <td>Fitbit is the sports Smartwatch Ionic waterpro...</td>\n",
       "      <td>2018-01-01 13:21:01</td>\n",
       "      <td>2018</td>\n",
       "      <td>January</td>\n",
       "      <td>1</td>\n",
       "      <td>349.95</td>\n",
       "      <td>299.00</td>\n",
       "      <td>50.95</td>\n",
       "      <td>15.0</td>\n",
       "      <td>299.00</td>\n",
       "      <td>Electronic_devices</td>\n",
       "    </tr>\n",
       "    <tr>\n",
       "      <th>77891</th>\n",
       "      <td>1489732</td>\n",
       "      <td>APP1190</td>\n",
       "      <td>IPhone AppleCare Protection Plan</td>\n",
       "      <td>Apple Care extended warranty iPhone.</td>\n",
       "      <td>2017-12-11 20:10:12</td>\n",
       "      <td>2017</td>\n",
       "      <td>December</td>\n",
       "      <td>11</td>\n",
       "      <td>70.00</td>\n",
       "      <td>56.00</td>\n",
       "      <td>14.00</td>\n",
       "      <td>20.0</td>\n",
       "      <td>112.00</td>\n",
       "      <td>other</td>\n",
       "    </tr>\n",
       "  </tbody>\n",
       "</table>\n",
       "</div>"
      ],
      "text/plain": [
       "             id        sku                                               name  \\\n",
       "142416  1173898    GRT0440  Griffin Survivor iPhone Case Wallet 7/8 Clear ...   \n",
       "200945  1387595  DRO0020-A       Open - 5C Drobo 5-bay DAS RAID USB-C USB 3.0   \n",
       "166275  1295716    APP1972                        Apple iPhone 32GB Rose Gold   \n",
       "209723  1529912    FIT0062                       Fitbit Smartwatch Ionic Gray   \n",
       "77891   1489732    APP1190                   IPhone AppleCare Protection Plan   \n",
       "\n",
       "                                                     desc        created_date  \\\n",
       "142416  Polycarbonate cover with lid and slots for iPh... 2017-02-07 22:30:37   \n",
       "200945      RAID 5 bays and USB 3.0 Type-C for Mac and PC 2017-10-25 01:40:48   \n",
       "166275       New iPhone SE with 4-inch screen 32 free GB. 2017-07-18 09:47:26   \n",
       "209723  Fitbit is the sports Smartwatch Ionic waterpro... 2018-01-01 13:21:01   \n",
       "77891                Apple Care extended warranty iPhone. 2017-12-11 20:10:12   \n",
       "\n",
       "        year month_name  day   price  unit_price  discount_dollar  \\\n",
       "142416  2017   February    7   29.99       19.99            10.00   \n",
       "200945  2017    October   25  429.00      321.47           107.53   \n",
       "166275  2017       July   18  419.00      359.00            60.00   \n",
       "209723  2018    January    1  349.95      299.00            50.95   \n",
       "77891   2017   December   11   70.00       56.00            14.00   \n",
       "\n",
       "        discount_perc  revenue                type  \n",
       "142416           33.0    19.99      Protectors_etc  \n",
       "200945           25.0   321.47      Protectors_etc  \n",
       "166275           14.0   359.00               other  \n",
       "209723           15.0   299.00  Electronic_devices  \n",
       "77891            20.0   112.00               other  "
      ]
     },
     "execution_count": 22,
     "metadata": {},
     "output_type": "execute_result"
    }
   ],
   "source": [
    "# Getting a list of col names:\n",
    "clean_col_list = clean_df.columns.values.tolist()\n",
    "print(clean_col_list)\n",
    "\n",
    "# Organising this list:\n",
    "final_df = clean_df[['id','sku','name','desc','created_date','year','month_name','day','price','unit_price','discount_dollar','discount_perc','revenue','type']]\n",
    "\n",
    "# See if/how it worked:\n",
    "final_df.sample(5)"
   ]
  },
  {
   "cell_type": "code",
   "execution_count": 23,
   "metadata": {},
   "outputs": [],
   "source": [
    "# Another check if it´s not messed up:\n",
    "# overview(final_df)\n",
    "# Should validate size of data at start of presentation!"
   ]
  },
  {
   "attachments": {},
   "cell_type": "markdown",
   "metadata": {},
   "source": [
    "## 5. Various coding for answering/creating various questions/plots:\n",
    "\n",
    "Example Questions:\n",
    "* How products should be classified into different categories to simplify reports and analysis.\n",
    "* What is the distribution of product prices across different categories.\n",
    "* How many products are being discounted.\n",
    "* How big are the offered discounts as a percentage of the product prices.\n",
    "* How seasonality and special dates (Christmas, Black Friday) affect sales.\n",
    "* How could data collection be improved.\n",
    "* What is the time period that the dataset covers?\n",
    "* What is the overall revenue for that time?\n",
    "* Are there seasonal patterns in the evolution of sales?\n",
    "* What are the most sold products?\n",
    "* What are the products that generate the most revenue?  \n",
    "..."
   ]
  },
  {
   "attachments": {},
   "cell_type": "markdown",
   "metadata": {},
   "source": [
    "Discount/revenue relation:"
   ]
  },
  {
   "cell_type": "code",
   "execution_count": 24,
   "metadata": {},
   "outputs": [
    {
     "data": {
      "text/html": [
       "<div>\n",
       "<style scoped>\n",
       "    .dataframe tbody tr th:only-of-type {\n",
       "        vertical-align: middle;\n",
       "    }\n",
       "\n",
       "    .dataframe tbody tr th {\n",
       "        vertical-align: top;\n",
       "    }\n",
       "\n",
       "    .dataframe thead th {\n",
       "        text-align: right;\n",
       "    }\n",
       "</style>\n",
       "<table border=\"1\" class=\"dataframe\">\n",
       "  <thead>\n",
       "    <tr style=\"text-align: right;\">\n",
       "      <th></th>\n",
       "      <th></th>\n",
       "      <th>revenue</th>\n",
       "      <th>discount_perc</th>\n",
       "    </tr>\n",
       "    <tr>\n",
       "      <th>year</th>\n",
       "      <th>month_name</th>\n",
       "      <th></th>\n",
       "      <th></th>\n",
       "    </tr>\n",
       "  </thead>\n",
       "  <tbody>\n",
       "    <tr>\n",
       "      <th rowspan=\"12\" valign=\"top\">2017</th>\n",
       "      <th>April</th>\n",
       "      <td>289411.66</td>\n",
       "      <td>17.715119</td>\n",
       "    </tr>\n",
       "    <tr>\n",
       "      <th>August</th>\n",
       "      <td>425283.87</td>\n",
       "      <td>20.472145</td>\n",
       "    </tr>\n",
       "    <tr>\n",
       "      <th>December</th>\n",
       "      <td>1120598.61</td>\n",
       "      <td>19.494403</td>\n",
       "    </tr>\n",
       "    <tr>\n",
       "      <th>February</th>\n",
       "      <td>440416.08</td>\n",
       "      <td>18.789677</td>\n",
       "    </tr>\n",
       "    <tr>\n",
       "      <th>January</th>\n",
       "      <td>709129.89</td>\n",
       "      <td>24.294164</td>\n",
       "    </tr>\n",
       "    <tr>\n",
       "      <th>July</th>\n",
       "      <td>683666.51</td>\n",
       "      <td>24.696819</td>\n",
       "    </tr>\n",
       "    <tr>\n",
       "      <th>June</th>\n",
       "      <td>335893.98</td>\n",
       "      <td>17.115486</td>\n",
       "    </tr>\n",
       "    <tr>\n",
       "      <th>March</th>\n",
       "      <td>26549.45</td>\n",
       "      <td>18.756757</td>\n",
       "    </tr>\n",
       "    <tr>\n",
       "      <th>May</th>\n",
       "      <td>408805.36</td>\n",
       "      <td>15.265071</td>\n",
       "    </tr>\n",
       "    <tr>\n",
       "      <th>November</th>\n",
       "      <td>1675569.98</td>\n",
       "      <td>22.083824</td>\n",
       "    </tr>\n",
       "    <tr>\n",
       "      <th>October</th>\n",
       "      <td>594848.18</td>\n",
       "      <td>22.022961</td>\n",
       "    </tr>\n",
       "    <tr>\n",
       "      <th>September</th>\n",
       "      <td>450478.13</td>\n",
       "      <td>19.720677</td>\n",
       "    </tr>\n",
       "    <tr>\n",
       "      <th rowspan=\"3\" valign=\"top\">2018</th>\n",
       "      <th>February</th>\n",
       "      <td>608162.22</td>\n",
       "      <td>22.534901</td>\n",
       "    </tr>\n",
       "    <tr>\n",
       "      <th>January</th>\n",
       "      <td>947304.38</td>\n",
       "      <td>21.929093</td>\n",
       "    </tr>\n",
       "    <tr>\n",
       "      <th>March</th>\n",
       "      <td>243125.24</td>\n",
       "      <td>22.000584</td>\n",
       "    </tr>\n",
       "  </tbody>\n",
       "</table>\n",
       "</div>"
      ],
      "text/plain": [
       "                    revenue  discount_perc\n",
       "year month_name                           \n",
       "2017 April        289411.66      17.715119\n",
       "     August       425283.87      20.472145\n",
       "     December    1120598.61      19.494403\n",
       "     February     440416.08      18.789677\n",
       "     January      709129.89      24.294164\n",
       "     July         683666.51      24.696819\n",
       "     June         335893.98      17.115486\n",
       "     March         26549.45      18.756757\n",
       "     May          408805.36      15.265071\n",
       "     November    1675569.98      22.083824\n",
       "     October      594848.18      22.022961\n",
       "     September    450478.13      19.720677\n",
       "2018 February     608162.22      22.534901\n",
       "     January      947304.38      21.929093\n",
       "     March        243125.24      22.000584"
      ]
     },
     "execution_count": 24,
     "metadata": {},
     "output_type": "execute_result"
    }
   ],
   "source": [
    "final_df.groupby(\"month_name\").agg({\"revenue\":\"sum\",\"discount_perc\":\"mean\"})\n",
    "# add year as well:\n",
    "final_df.groupby([\"year\",\"month_name\"]).agg({\"revenue\":\"sum\",\"discount_perc\":\"mean\"})\n"
   ]
  },
  {
   "attachments": {},
   "cell_type": "markdown",
   "metadata": {},
   "source": [
    "Showing best \"revenue dates\" aswell as high discount impact:"
   ]
  },
  {
   "cell_type": "code",
   "execution_count": 25,
   "metadata": {},
   "outputs": [
    {
     "data": {
      "text/html": [
       "<div>\n",
       "<style scoped>\n",
       "    .dataframe tbody tr th:only-of-type {\n",
       "        vertical-align: middle;\n",
       "    }\n",
       "\n",
       "    .dataframe tbody tr th {\n",
       "        vertical-align: top;\n",
       "    }\n",
       "\n",
       "    .dataframe thead th {\n",
       "        text-align: right;\n",
       "    }\n",
       "</style>\n",
       "<table border=\"1\" class=\"dataframe\">\n",
       "  <thead>\n",
       "    <tr style=\"text-align: right;\">\n",
       "      <th></th>\n",
       "      <th>revenue</th>\n",
       "      <th>discount_perc</th>\n",
       "    </tr>\n",
       "    <tr>\n",
       "      <th>created_date</th>\n",
       "      <th></th>\n",
       "      <th></th>\n",
       "    </tr>\n",
       "  </thead>\n",
       "  <tbody>\n",
       "    <tr>\n",
       "      <th>2018-02-16</th>\n",
       "      <td>16191.34</td>\n",
       "      <td>61.891697</td>\n",
       "    </tr>\n",
       "    <tr>\n",
       "      <th>2017-02-24</th>\n",
       "      <td>99.98</td>\n",
       "      <td>54.000000</td>\n",
       "    </tr>\n",
       "    <tr>\n",
       "      <th>2017-03-12</th>\n",
       "      <td>62.80</td>\n",
       "      <td>50.666667</td>\n",
       "    </tr>\n",
       "    <tr>\n",
       "      <th>2018-03-14</th>\n",
       "      <td>2059.87</td>\n",
       "      <td>49.620690</td>\n",
       "    </tr>\n",
       "    <tr>\n",
       "      <th>2017-10-20</th>\n",
       "      <td>20106.05</td>\n",
       "      <td>48.995798</td>\n",
       "    </tr>\n",
       "    <tr>\n",
       "      <th>2017-12-22</th>\n",
       "      <td>28518.91</td>\n",
       "      <td>45.427653</td>\n",
       "    </tr>\n",
       "    <tr>\n",
       "      <th>2017-07-05</th>\n",
       "      <td>22169.45</td>\n",
       "      <td>41.459184</td>\n",
       "    </tr>\n",
       "    <tr>\n",
       "      <th>2017-07-07</th>\n",
       "      <td>20589.53</td>\n",
       "      <td>39.918919</td>\n",
       "    </tr>\n",
       "    <tr>\n",
       "      <th>2017-01-27</th>\n",
       "      <td>23223.77</td>\n",
       "      <td>38.904594</td>\n",
       "    </tr>\n",
       "    <tr>\n",
       "      <th>2017-03-31</th>\n",
       "      <td>572.87</td>\n",
       "      <td>37.666667</td>\n",
       "    </tr>\n",
       "  </tbody>\n",
       "</table>\n",
       "</div>"
      ],
      "text/plain": [
       "               revenue  discount_perc\n",
       "created_date                         \n",
       "2018-02-16    16191.34      61.891697\n",
       "2017-02-24       99.98      54.000000\n",
       "2017-03-12       62.80      50.666667\n",
       "2018-03-14     2059.87      49.620690\n",
       "2017-10-20    20106.05      48.995798\n",
       "2017-12-22    28518.91      45.427653\n",
       "2017-07-05    22169.45      41.459184\n",
       "2017-07-07    20589.53      39.918919\n",
       "2017-01-27    23223.77      38.904594\n",
       "2017-03-31      572.87      37.666667"
      ]
     },
     "execution_count": 25,
     "metadata": {},
     "output_type": "execute_result"
    }
   ],
   "source": [
    "final_df.groupby(final_df[\"created_date\"].dt.date).agg({\"revenue\":\"sum\",\"discount_perc\":\"mean\"}).nlargest(10,\"revenue\")\n",
    "# To visualize use scatterplot with x = \"date\", y = \"revenue\" hue = \"discount_perc\" \n",
    "# - either round perc before or use \"# Revenue of discounted vs not discounted products:\" which is shown later\n",
    "\n",
    "# FYI:\n",
    "# https://stackabuse.com/seaborn-scatter-plot-tutorial-and-examples/ - extremely epic 3D plot\n",
    "# https://stackoverflow.com/questions/44941082/plot-multiple-columns-of-pandas-dataframe-using-seaborn - or this thing\n",
    "\n",
    "# two seperate diagrams matching with dates\n",
    "# if we take the top average discounts per day. \n",
    "# so the question is how they are announcing/advertising the discounts? how do we know the discounts are motivating the sales? \n",
    "final_df.groupby(final_df[\"created_date\"].dt.date).agg({\"revenue\":\"sum\",\"discount_perc\":\"mean\"}).nlargest(10,\"discount_perc\")\n",
    "# maybe drop date there? looks nice in a table right after the one before but not really useful regarding the questioning underlaying it..."
   ]
  },
  {
   "attachments": {},
   "cell_type": "markdown",
   "metadata": {},
   "source": [
    "Create data for the bar chart out of data above - \"High Discount\":"
   ]
  },
  {
   "cell_type": "code",
   "execution_count": 26,
   "metadata": {},
   "outputs": [
    {
     "name": "stderr",
     "output_type": "stream",
     "text": [
      "c:\\Users\\AlexD\\anaconda3\\lib\\site-packages\\seaborn\\_decorators.py:36: FutureWarning: Pass the following variables as keyword args: x, y. From version 0.12, the only valid positional argument will be `data`, and passing other arguments without an explicit keyword will result in an error or misinterpretation.\n",
      "  warnings.warn(\n"
     ]
    },
    {
     "data": {
      "text/plain": [
       "Text(0.5, 1.0, 'Revenue/Discount on the 10 days with highest discount:')"
      ]
     },
     "execution_count": 26,
     "metadata": {},
     "output_type": "execute_result"
    },
    {
     "data": {
      "image/png": "[encoded data removed]",
      "text/plain": [
       "<Figure size 1000x600 with 1 Axes>"
      ]
     },
     "metadata": {},
     "output_type": "display_data"
    }
   ],
   "source": [
    "# Just the rounded \"discount_perc\" out of the list above:\n",
    "discount_perc = [62, 54, 51, 50, 49, 45, 41, 40, 39, 38] \n",
    "\n",
    "# Revenue doesn´t need to get rounded since it´s value doesn´t get shown:\n",
    "revenue = [16191.34, 99.98, 62.80, 2059.87, 20106.05, 28518.91, 22169.45, 20589.53, 23223.77, 572.87] \n",
    "\n",
    "# Set figure size and create bar chart:\n",
    "plt.figure(figsize=(10, 6)) # Play around! \n",
    "sns.barplot(discount_perc, revenue, palette='rocket')\n",
    "\n",
    "# Add labels and title:\n",
    "plt.xlabel('Discount Percentage')\n",
    "plt.ylabel('Revenue')\n",
    "plt.title('Revenue/Discount on the 10 days with highest discount:')\n"
   ]
  },
  {
   "attachments": {},
   "cell_type": "markdown",
   "metadata": {},
   "source": [
    "Again highest revenue days:"
   ]
  },
  {
   "cell_type": "code",
   "execution_count": 27,
   "metadata": {},
   "outputs": [
    {
     "data": {
      "text/html": [
       "<div>\n",
       "<style scoped>\n",
       "    .dataframe tbody tr th:only-of-type {\n",
       "        vertical-align: middle;\n",
       "    }\n",
       "\n",
       "    .dataframe tbody tr th {\n",
       "        vertical-align: top;\n",
       "    }\n",
       "\n",
       "    .dataframe thead th {\n",
       "        text-align: right;\n",
       "    }\n",
       "</style>\n",
       "<table border=\"1\" class=\"dataframe\">\n",
       "  <thead>\n",
       "    <tr style=\"text-align: right;\">\n",
       "      <th></th>\n",
       "      <th>revenue</th>\n",
       "      <th>discount_perc</th>\n",
       "    </tr>\n",
       "    <tr>\n",
       "      <th>created_date</th>\n",
       "      <th></th>\n",
       "      <th></th>\n",
       "    </tr>\n",
       "  </thead>\n",
       "  <tbody>\n",
       "    <tr>\n",
       "      <th>2017-11-24</th>\n",
       "      <td>413377.91</td>\n",
       "      <td>22.820731</td>\n",
       "    </tr>\n",
       "    <tr>\n",
       "      <th>2017-11-27</th>\n",
       "      <td>236955.22</td>\n",
       "      <td>24.363636</td>\n",
       "    </tr>\n",
       "    <tr>\n",
       "      <th>2017-11-23</th>\n",
       "      <td>198589.60</td>\n",
       "      <td>23.644397</td>\n",
       "    </tr>\n",
       "    <tr>\n",
       "      <th>2017-11-26</th>\n",
       "      <td>143920.06</td>\n",
       "      <td>25.800000</td>\n",
       "    </tr>\n",
       "    <tr>\n",
       "      <th>2017-11-25</th>\n",
       "      <td>111939.92</td>\n",
       "      <td>23.409524</td>\n",
       "    </tr>\n",
       "    <tr>\n",
       "      <th>2018-01-02</th>\n",
       "      <td>81374.63</td>\n",
       "      <td>19.063985</td>\n",
       "    </tr>\n",
       "    <tr>\n",
       "      <th>2017-12-20</th>\n",
       "      <td>76730.56</td>\n",
       "      <td>16.307087</td>\n",
       "    </tr>\n",
       "    <tr>\n",
       "      <th>2017-12-28</th>\n",
       "      <td>71191.80</td>\n",
       "      <td>21.063107</td>\n",
       "    </tr>\n",
       "    <tr>\n",
       "      <th>2017-12-18</th>\n",
       "      <td>68936.02</td>\n",
       "      <td>15.817284</td>\n",
       "    </tr>\n",
       "    <tr>\n",
       "      <th>2017-11-22</th>\n",
       "      <td>68886.27</td>\n",
       "      <td>21.625360</td>\n",
       "    </tr>\n",
       "  </tbody>\n",
       "</table>\n",
       "</div>"
      ],
      "text/plain": [
       "                revenue  discount_perc\n",
       "created_date                          \n",
       "2017-11-24    413377.91      22.820731\n",
       "2017-11-27    236955.22      24.363636\n",
       "2017-11-23    198589.60      23.644397\n",
       "2017-11-26    143920.06      25.800000\n",
       "2017-11-25    111939.92      23.409524\n",
       "2018-01-02     81374.63      19.063985\n",
       "2017-12-20     76730.56      16.307087\n",
       "2017-12-28     71191.80      21.063107\n",
       "2017-12-18     68936.02      15.817284\n",
       "2017-11-22     68886.27      21.625360"
      ]
     },
     "execution_count": 27,
     "metadata": {},
     "output_type": "execute_result"
    }
   ],
   "source": [
    "final_df.groupby(final_df[\"created_date\"].dt.date).agg({\"revenue\":\"sum\",\"discount_perc\":\"mean\"}).nlargest(10,\"revenue\")"
   ]
  },
  {
   "attachments": {},
   "cell_type": "markdown",
   "metadata": {},
   "source": [
    "Highest revenue days scatterplot:"
   ]
  },
  {
   "cell_type": "code",
   "execution_count": 28,
   "metadata": {},
   "outputs": [
    {
     "name": "stderr",
     "output_type": "stream",
     "text": [
      "c:\\Users\\AlexD\\anaconda3\\lib\\site-packages\\seaborn\\_decorators.py:36: FutureWarning: Pass the following variables as keyword args: x, y. From version 0.12, the only valid positional argument will be `data`, and passing other arguments without an explicit keyword will result in an error or misinterpretation.\n",
      "  warnings.warn(\n"
     ]
    },
    {
     "data": {
      "text/plain": [
       "Text(0.5, 1.0, 'Discount on days with highest revenue:')"
      ]
     },
     "execution_count": 28,
     "metadata": {},
     "output_type": "execute_result"
    },
    {
     "data": {
      "image/png": "[encoded data removed]",
      "text/plain": [
       "<Figure size 1000x600 with 1 Axes>"
      ]
     },
     "metadata": {},
     "output_type": "display_data"
    }
   ],
   "source": [
    "# As shown above:\n",
    "created_date = ['2017-11-24', '2017-11-27', '2017-11-23', '2017-11-26', '2017-11-25', '2018-01-02', '2017-12-20', '2017-12-28', '2017-12-18', '2017-11-22']\n",
    "revenue = [413377.91, 236955.22, 198589.60, 143920.06, 111939.92, 81374.63, 76730.56, 71191.80, 68936.02, 68886.27]\n",
    "discount_perc = [23, 24, 24, 26, 23, 19, 16, 21, 16, 22]\n",
    "\n",
    "# Set figure size and create scatter plot\n",
    "plt.figure(figsize=(10, 6)) # first for x, second for y\n",
    "sns.scatterplot(discount_perc, revenue, hue=created_date, palette='rocket')\n",
    "\n",
    "# Add labels and title:\n",
    "plt.xlabel('Discount Percentage')\n",
    "plt.ylabel('Revenue')\n",
    "plt.title('Discount on days with highest revenue:')\n"
   ]
  },
  {
   "attachments": {},
   "cell_type": "markdown",
   "metadata": {},
   "source": [
    "Distribution of revenue through product categories:"
   ]
  },
  {
   "cell_type": "code",
   "execution_count": 29,
   "metadata": {},
   "outputs": [
    {
     "data": {
      "text/plain": [
       "type\n",
       "other                 3099033.40\n",
       "Hard_drive            1839091.31\n",
       "Servers               1072152.38\n",
       "Monitor                668737.24\n",
       "Apple_var              488643.04\n",
       "Audio                  412083.73\n",
       "Electronic_devices     353320.03\n",
       "External_Memory        255964.06\n",
       "Tablets                252231.24\n",
       "Protectors_etc         238197.80\n",
       "Apple_PC_Laptop        136165.91\n",
       "Router                  40149.33\n",
       "Cable                   36183.88\n",
       "Charger                 34657.02\n",
       "USB                     16970.96\n",
       "Repair_Service           8175.86\n",
       "Name: revenue, dtype: float64"
      ]
     },
     "execution_count": 29,
     "metadata": {},
     "output_type": "execute_result"
    }
   ],
   "source": [
    "final_df.groupby(\"type\")[\"revenue\"].sum().nlargest(16)\n",
    "# revenue_type_plot.drop(\"other\") - didnt work\n",
    "# should work more on \"other\", maybe combine with already given solution via name/desc\n",
    "# sns.catplot(x='type', y='revenue', data=revenue_type_plot, kind='bar')"
   ]
  },
  {
   "attachments": {},
   "cell_type": "markdown",
   "metadata": {},
   "source": [
    "Using same method as above with other questions:"
   ]
  },
  {
   "cell_type": "code",
   "execution_count": 30,
   "metadata": {},
   "outputs": [
    {
     "name": "stderr",
     "output_type": "stream",
     "text": [
      "c:\\Users\\AlexD\\anaconda3\\lib\\site-packages\\seaborn\\_decorators.py:36: FutureWarning: Pass the following variables as keyword args: x, y. From version 0.12, the only valid positional argument will be `data`, and passing other arguments without an explicit keyword will result in an error or misinterpretation.\n",
      "  warnings.warn(\n"
     ]
    },
    {
     "data": {
      "text/plain": [
       "Text(0.5, 1.0, 'Most revenue by categories:')"
      ]
     },
     "execution_count": 30,
     "metadata": {},
     "output_type": "execute_result"
    },
    {
     "data": {
      "image/png": "[encoded data removed]",
      "text/plain": [
       "<Figure size 1000x600 with 1 Axes>"
      ]
     },
     "metadata": {},
     "output_type": "display_data"
    }
   ],
   "source": [
    "# Never touch a winning system:\n",
    "category = ['Hard drives','Servers','Monitors','small Apple products','Audio related']\n",
    "revenue = [1839091,1072152,668737,488643,412083]\n",
    "# Copy and paste from above:\n",
    "plt.figure(figsize=(10, 6)) \n",
    "sns.barplot(category, revenue, palette='rocket')\n",
    "# Add labels and title:\n",
    "plt.xlabel('Product Category')\n",
    "plt.ylabel('Revenue in millions')\n",
    "plt.title('Most revenue by categories:')\n",
    "\n",
    "# Show plot\n",
    "# plt.show()"
   ]
  },
  {
   "attachments": {},
   "cell_type": "markdown",
   "metadata": {},
   "source": [
    "Highest discounted product categories:"
   ]
  },
  {
   "cell_type": "code",
   "execution_count": 32,
   "metadata": {},
   "outputs": [
    {
     "data": {
      "text/plain": [
       "type\n",
       "USB                   47.350719\n",
       "Protectors_etc        30.733132\n",
       "Audio                 26.994048\n",
       "Charger               25.207547\n",
       "Router                21.930649\n",
       "other                 21.908613\n",
       "External_Memory       21.661194\n",
       "Tablets               21.649459\n",
       "Cable                 20.008021\n",
       "Apple_var             19.625849\n",
       "Electronic_devices    19.575645\n",
       "Apple_PC_Laptop       17.894118\n",
       "Hard_drive            16.842164\n",
       "Monitor               12.001316\n",
       "Servers                7.296812\n",
       "Repair_Service       -10.950495\n",
       "Name: discount_perc, dtype: float64"
      ]
     },
     "execution_count": 32,
     "metadata": {},
     "output_type": "execute_result"
    }
   ],
   "source": [
    "final_df.groupby(\"type\")[\"discount_perc\"].mean().nlargest(16)"
   ]
  },
  {
   "attachments": {},
   "cell_type": "markdown",
   "metadata": {},
   "source": [
    "More beautiful Average price per category:"
   ]
  },
  {
   "cell_type": "code",
   "execution_count": 34,
   "metadata": {},
   "outputs": [],
   "source": [
    "unitprice_type = final_df.groupby(\"type\")[\"unit_price\"].mean().sort_values(ascending=False)\n",
    "# print(unitprice_type)\n",
    "# unitprice_type.plot(kind=\"bar\", palette=\"rocket\")\n",
    "\n",
    "# list gotten from commented code above in use:\n",
    "category = ['Apple PC Laptop', 'Servers', 'Monitor', 'Tablets', 'Hard Drives', 'others', 'Audio',\n",
    "            'Router', 'Apple', 'Repairing', 'Electronics', 'Memory', 'Protective', 'Charger', 'USB', 'Cables']\n",
    "average = [743.771294, 476.489443, 388.106230, 196.136903, 178.725035, 165.070122, \n",
    "           121.461942, 83.607159, 82.136943, 80.949109, 79.980620, 74.634740, 38.578922, 37.857618, 29.430468, 28.318886]\n",
    "\n",
    "plt.figure(figsize=(18, 6)) #needed 18 to display category properly\n",
    "sns.barplot(category, average, palette='rocket')\n",
    "\n",
    "# Add labels and title:\n",
    "plt.xlabel('Product Category')\n",
    "plt.ylabel('Average price')\n",
    "plt.title('Most revenue by categories:')'"
   ]
  },
  {
   "attachments": {},
   "cell_type": "markdown",
   "metadata": {},
   "source": [
    "## 6.Stuff that was dismissed (but maybe interesting another time):"
   ]
  },
  {
   "cell_type": "code",
   "execution_count": null,
   "metadata": {},
   "outputs": [],
   "source": [
    "# more or less self explanatory:\n",
    "# final_df.groupby(\"month_name\")[\"revenue\"].sum()\n",
    "# not really useful, so put as comment for readability"
   ]
  },
  {
   "attachments": {},
   "cell_type": "markdown",
   "metadata": {},
   "source": [
    "Revenue of discounted vs not discounted products:"
   ]
  },
  {
   "cell_type": "code",
   "execution_count": null,
   "metadata": {},
   "outputs": [],
   "source": [
    "# sns.displot(final_df, x='discount_perc', y='revenue', kind='kde')\n",
    "# create a lambda function that returns '>2%' if the value is greater than 2%, and '<2%' otherwise\n",
    "# greater_than_2 = lambda x: '>2%' if x > 5 else '<2%'\n",
    "# apply the lambda function to the 'discount' column and save the result in a new column called 'discount_range'\n",
    "# final_df['discount_range'] = final_df['discount_perc'].apply(greater_than_2)\n",
    "# final_df.loc[final_df['discount_range'] == '>2%'].sum()\n",
    "# sns.catplot(x='discount_range', y='revenue', data=final_df, kind='bar', color='black')\n",
    "# final_df.sample(10)"
   ]
  }
 ],
 "metadata": {
  "kernelspec": {
   "display_name": "Python 3.9.13",
   "language": "python",
   "name": "python3"
  },
  "language_info": {
   "codemirror_mode": {
    "name": "ipython",
    "version": 3
   },
   "file_extension": ".py",
   "mimetype": "text/x-python",
   "name": "python",
   "nbconvert_exporter": "python",
   "pygments_lexer": "ipython3",
   "version": "3.9.13 (main, Aug 25 2022, 23:51:50) [MSC v.1916 64 bit (AMD64)]"
  },
  "orig_nbformat": 4,
  "vscode": {
   "interpreter": {
    "hash": "c62e2d0e8abf7e03d5de1dc8eac23fc17ec23d48f7a7e8acd70fd152f0b9a83e"
   }
  }
 },
 "nbformat": 4,
 "nbformat_minor": 2
}
